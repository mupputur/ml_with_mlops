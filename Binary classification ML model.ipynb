{
 "cells": [
  {
   "cell_type": "code",
   "execution_count": 0,
   "metadata": {
    "application/vnd.databricks.v1+cell": {
     "cellMetadata": {
      "byteLimit": 2048000,
      "rowLimit": 10000
     },
     "inputWidgets": {},
     "nuid": "c613c0c4-7af5-49dc-b733-083beafb0870",
     "showTitle": false,
     "tableResultSettingsMap": {},
     "title": ""
    }
   },
   "outputs": [],
   "source": [
    "# dbfs:/FileStore/irisdata.csv"
   ]
  },
  {
   "cell_type": "markdown",
   "metadata": {
    "application/vnd.databricks.v1+cell": {
     "cellMetadata": {
      "byteLimit": 2048000,
      "rowLimit": 10000
     },
     "inputWidgets": {},
     "nuid": "921100cc-b3db-4b3e-a130-ecd7f0952817",
     "showTitle": false,
     "tableResultSettingsMap": {},
     "title": ""
    }
   },
   "source": [
    "Data Load"
   ]
  },
  {
   "cell_type": "code",
   "execution_count": 0,
   "metadata": {
    "application/vnd.databricks.v1+cell": {
     "cellMetadata": {
      "byteLimit": 2048000,
      "rowLimit": 10000
     },
     "inputWidgets": {},
     "nuid": "28cf3f38-afee-4452-813f-d01a4d3b9e8d",
     "showTitle": false,
     "tableResultSettingsMap": {},
     "title": ""
    }
   },
   "outputs": [],
   "source": [
    "from pyspark.sql import SparkSession\n",
    "spark = SparkSession.builder.appName(\"mlops\").getOrCreate()\n",
    "from pyspark.sql.types import StructType, StructField, DoubleType, StringType\n",
    "\n",
    "schema = StructType([\n",
    "    StructField(\"sepal_length\", DoubleType(), False),  # Continuous numeric feature\n",
    "    StructField(\"sepal_width\", DoubleType(), False),   # Continuous numeric feature\n",
    "    StructField(\"petal_length\", DoubleType(), False),  # Continuous numeric feature\n",
    "    StructField(\"petal_width\", DoubleType(), False),   # Continuous numeric feature\n",
    "    StructField(\"class\", StringType(), False)          # Categorical target variable\n",
    "])\n",
    "\n",
    "df = spark.read.format(\"csv\").schema(schema).load(\"dbfs:/FileStore/irisdata.csv\")"
   ]
  },
  {
   "cell_type": "code",
   "execution_count": 0,
   "metadata": {
    "application/vnd.databricks.v1+cell": {
     "cellMetadata": {
      "byteLimit": 2048000,
      "rowLimit": 10000
     },
     "inputWidgets": {},
     "nuid": "6df060db-b473-45ce-9040-fd28a4e2441b",
     "showTitle": false,
     "tableResultSettingsMap": {},
     "title": ""
    }
   },
   "outputs": [
    {
     "output_type": "display_data",
     "data": {
      "text/html": [
       "<style scoped>\n",
       "  .table-result-container {\n",
       "    max-height: 300px;\n",
       "    overflow: auto;\n",
       "  }\n",
       "  table, th, td {\n",
       "    border: 1px solid black;\n",
       "    border-collapse: collapse;\n",
       "  }\n",
       "  th, td {\n",
       "    padding: 5px;\n",
       "  }\n",
       "  th {\n",
       "    text-align: left;\n",
       "  }\n",
       "</style><div class='table-result-container'><table class='table-result'><thead style='background-color: white'><tr><th>sepal_length</th><th>sepal_width</th><th>petal_length</th><th>petal_width</th><th>class</th></tr></thead><tbody><tr><td>5.1</td><td>3.5</td><td>1.4</td><td>0.2</td><td>Iris-setosa</td></tr><tr><td>4.9</td><td>3.0</td><td>1.4</td><td>0.2</td><td>Iris-setosa</td></tr><tr><td>4.7</td><td>3.2</td><td>1.3</td><td>0.2</td><td>Iris-setosa</td></tr><tr><td>4.6</td><td>3.1</td><td>1.5</td><td>0.2</td><td>Iris-setosa</td></tr><tr><td>5.0</td><td>3.6</td><td>1.4</td><td>0.2</td><td>Iris-setosa</td></tr><tr><td>5.4</td><td>3.9</td><td>1.7</td><td>0.4</td><td>Iris-setosa</td></tr><tr><td>4.6</td><td>3.4</td><td>1.4</td><td>0.3</td><td>Iris-setosa</td></tr><tr><td>5.0</td><td>3.4</td><td>1.5</td><td>0.2</td><td>Iris-setosa</td></tr><tr><td>4.4</td><td>2.9</td><td>1.4</td><td>0.2</td><td>Iris-setosa</td></tr><tr><td>4.9</td><td>3.1</td><td>1.5</td><td>0.1</td><td>Iris-setosa</td></tr><tr><td>5.4</td><td>3.7</td><td>1.5</td><td>0.2</td><td>Iris-setosa</td></tr><tr><td>4.8</td><td>3.4</td><td>1.6</td><td>0.2</td><td>Iris-setosa</td></tr><tr><td>4.8</td><td>3.0</td><td>1.4</td><td>0.1</td><td>Iris-setosa</td></tr><tr><td>4.3</td><td>3.0</td><td>1.1</td><td>0.1</td><td>Iris-setosa</td></tr><tr><td>5.8</td><td>4.0</td><td>1.2</td><td>0.2</td><td>Iris-setosa</td></tr><tr><td>5.7</td><td>4.4</td><td>1.5</td><td>0.4</td><td>Iris-setosa</td></tr><tr><td>5.4</td><td>3.9</td><td>1.3</td><td>0.4</td><td>Iris-setosa</td></tr><tr><td>5.1</td><td>3.5</td><td>1.4</td><td>0.3</td><td>Iris-setosa</td></tr><tr><td>5.7</td><td>3.8</td><td>1.7</td><td>0.3</td><td>Iris-setosa</td></tr><tr><td>5.1</td><td>3.8</td><td>1.5</td><td>0.3</td><td>Iris-setosa</td></tr><tr><td>5.4</td><td>3.4</td><td>1.7</td><td>0.2</td><td>Iris-setosa</td></tr><tr><td>5.1</td><td>3.7</td><td>1.5</td><td>0.4</td><td>Iris-setosa</td></tr><tr><td>4.6</td><td>3.6</td><td>1.0</td><td>0.2</td><td>Iris-setosa</td></tr><tr><td>5.1</td><td>3.3</td><td>1.7</td><td>0.5</td><td>Iris-setosa</td></tr><tr><td>4.8</td><td>3.4</td><td>1.9</td><td>0.2</td><td>Iris-setosa</td></tr><tr><td>5.0</td><td>3.0</td><td>1.6</td><td>0.2</td><td>Iris-setosa</td></tr><tr><td>5.0</td><td>3.4</td><td>1.6</td><td>0.4</td><td>Iris-setosa</td></tr><tr><td>5.2</td><td>3.5</td><td>1.5</td><td>0.2</td><td>Iris-setosa</td></tr><tr><td>5.2</td><td>3.4</td><td>1.4</td><td>0.2</td><td>Iris-setosa</td></tr><tr><td>4.7</td><td>3.2</td><td>1.6</td><td>0.2</td><td>Iris-setosa</td></tr><tr><td>4.8</td><td>3.1</td><td>1.6</td><td>0.2</td><td>Iris-setosa</td></tr><tr><td>5.4</td><td>3.4</td><td>1.5</td><td>0.4</td><td>Iris-setosa</td></tr><tr><td>5.2</td><td>4.1</td><td>1.5</td><td>0.1</td><td>Iris-setosa</td></tr><tr><td>5.5</td><td>4.2</td><td>1.4</td><td>0.2</td><td>Iris-setosa</td></tr><tr><td>4.9</td><td>3.1</td><td>1.5</td><td>0.1</td><td>Iris-setosa</td></tr><tr><td>5.0</td><td>3.2</td><td>1.2</td><td>0.2</td><td>Iris-setosa</td></tr><tr><td>5.5</td><td>3.5</td><td>1.3</td><td>0.2</td><td>Iris-setosa</td></tr><tr><td>4.9</td><td>3.1</td><td>1.5</td><td>0.1</td><td>Iris-setosa</td></tr><tr><td>4.4</td><td>3.0</td><td>1.3</td><td>0.2</td><td>Iris-setosa</td></tr><tr><td>5.1</td><td>3.4</td><td>1.5</td><td>0.2</td><td>Iris-setosa</td></tr><tr><td>5.0</td><td>3.5</td><td>1.3</td><td>0.3</td><td>Iris-setosa</td></tr><tr><td>4.5</td><td>2.3</td><td>1.3</td><td>0.3</td><td>Iris-setosa</td></tr><tr><td>4.4</td><td>3.2</td><td>1.3</td><td>0.2</td><td>Iris-setosa</td></tr><tr><td>5.0</td><td>3.5</td><td>1.6</td><td>0.6</td><td>Iris-setosa</td></tr><tr><td>5.1</td><td>3.8</td><td>1.9</td><td>0.4</td><td>Iris-setosa</td></tr><tr><td>4.8</td><td>3.0</td><td>1.4</td><td>0.3</td><td>Iris-setosa</td></tr><tr><td>5.1</td><td>3.8</td><td>1.6</td><td>0.2</td><td>Iris-setosa</td></tr><tr><td>4.6</td><td>3.2</td><td>1.4</td><td>0.2</td><td>Iris-setosa</td></tr><tr><td>5.3</td><td>3.7</td><td>1.5</td><td>0.2</td><td>Iris-setosa</td></tr><tr><td>5.0</td><td>3.3</td><td>1.4</td><td>0.2</td><td>Iris-setosa</td></tr><tr><td>7.0</td><td>3.2</td><td>4.7</td><td>1.4</td><td>Iris-versicolor</td></tr><tr><td>6.4</td><td>3.2</td><td>4.5</td><td>1.5</td><td>Iris-versicolor</td></tr><tr><td>6.9</td><td>3.1</td><td>4.9</td><td>1.5</td><td>Iris-versicolor</td></tr><tr><td>5.5</td><td>2.3</td><td>4.0</td><td>1.3</td><td>Iris-versicolor</td></tr><tr><td>6.5</td><td>2.8</td><td>4.6</td><td>1.5</td><td>Iris-versicolor</td></tr><tr><td>5.7</td><td>2.8</td><td>4.5</td><td>1.3</td><td>Iris-versicolor</td></tr><tr><td>6.3</td><td>3.3</td><td>4.7</td><td>1.6</td><td>Iris-versicolor</td></tr><tr><td>4.9</td><td>2.4</td><td>3.3</td><td>1.0</td><td>Iris-versicolor</td></tr><tr><td>6.6</td><td>2.9</td><td>4.6</td><td>1.3</td><td>Iris-versicolor</td></tr><tr><td>5.2</td><td>2.7</td><td>3.9</td><td>1.4</td><td>Iris-versicolor</td></tr><tr><td>5.0</td><td>2.0</td><td>3.5</td><td>1.0</td><td>Iris-versicolor</td></tr><tr><td>5.9</td><td>3.0</td><td>4.2</td><td>1.5</td><td>Iris-versicolor</td></tr><tr><td>6.0</td><td>2.2</td><td>4.0</td><td>1.0</td><td>Iris-versicolor</td></tr><tr><td>6.1</td><td>2.9</td><td>4.7</td><td>1.4</td><td>Iris-versicolor</td></tr><tr><td>5.6</td><td>2.9</td><td>3.6</td><td>1.3</td><td>Iris-versicolor</td></tr><tr><td>6.7</td><td>3.1</td><td>4.4</td><td>1.4</td><td>Iris-versicolor</td></tr><tr><td>5.6</td><td>3.0</td><td>4.5</td><td>1.5</td><td>Iris-versicolor</td></tr><tr><td>5.8</td><td>2.7</td><td>4.1</td><td>1.0</td><td>Iris-versicolor</td></tr><tr><td>6.2</td><td>2.2</td><td>4.5</td><td>1.5</td><td>Iris-versicolor</td></tr><tr><td>5.6</td><td>2.5</td><td>3.9</td><td>1.1</td><td>Iris-versicolor</td></tr><tr><td>5.9</td><td>3.2</td><td>4.8</td><td>1.8</td><td>Iris-versicolor</td></tr><tr><td>6.1</td><td>2.8</td><td>4.0</td><td>1.3</td><td>Iris-versicolor</td></tr><tr><td>6.3</td><td>2.5</td><td>4.9</td><td>1.5</td><td>Iris-versicolor</td></tr><tr><td>6.1</td><td>2.8</td><td>4.7</td><td>1.2</td><td>Iris-versicolor</td></tr><tr><td>6.4</td><td>2.9</td><td>4.3</td><td>1.3</td><td>Iris-versicolor</td></tr><tr><td>6.6</td><td>3.0</td><td>4.4</td><td>1.4</td><td>Iris-versicolor</td></tr><tr><td>6.8</td><td>2.8</td><td>4.8</td><td>1.4</td><td>Iris-versicolor</td></tr><tr><td>6.7</td><td>3.0</td><td>5.0</td><td>1.7</td><td>Iris-versicolor</td></tr><tr><td>6.0</td><td>2.9</td><td>4.5</td><td>1.5</td><td>Iris-versicolor</td></tr><tr><td>5.7</td><td>2.6</td><td>3.5</td><td>1.0</td><td>Iris-versicolor</td></tr><tr><td>5.5</td><td>2.4</td><td>3.8</td><td>1.1</td><td>Iris-versicolor</td></tr><tr><td>5.5</td><td>2.4</td><td>3.7</td><td>1.0</td><td>Iris-versicolor</td></tr><tr><td>5.8</td><td>2.7</td><td>3.9</td><td>1.2</td><td>Iris-versicolor</td></tr><tr><td>6.0</td><td>2.7</td><td>5.1</td><td>1.6</td><td>Iris-versicolor</td></tr><tr><td>5.4</td><td>3.0</td><td>4.5</td><td>1.5</td><td>Iris-versicolor</td></tr><tr><td>6.0</td><td>3.4</td><td>4.5</td><td>1.6</td><td>Iris-versicolor</td></tr><tr><td>6.7</td><td>3.1</td><td>4.7</td><td>1.5</td><td>Iris-versicolor</td></tr><tr><td>6.3</td><td>2.3</td><td>4.4</td><td>1.3</td><td>Iris-versicolor</td></tr><tr><td>5.6</td><td>3.0</td><td>4.1</td><td>1.3</td><td>Iris-versicolor</td></tr><tr><td>5.5</td><td>2.5</td><td>4.0</td><td>1.3</td><td>Iris-versicolor</td></tr><tr><td>5.5</td><td>2.6</td><td>4.4</td><td>1.2</td><td>Iris-versicolor</td></tr><tr><td>6.1</td><td>3.0</td><td>4.6</td><td>1.4</td><td>Iris-versicolor</td></tr><tr><td>5.8</td><td>2.6</td><td>4.0</td><td>1.2</td><td>Iris-versicolor</td></tr><tr><td>5.0</td><td>2.3</td><td>3.3</td><td>1.0</td><td>Iris-versicolor</td></tr><tr><td>5.6</td><td>2.7</td><td>4.2</td><td>1.3</td><td>Iris-versicolor</td></tr><tr><td>5.7</td><td>3.0</td><td>4.2</td><td>1.2</td><td>Iris-versicolor</td></tr><tr><td>5.7</td><td>2.9</td><td>4.2</td><td>1.3</td><td>Iris-versicolor</td></tr><tr><td>6.2</td><td>2.9</td><td>4.3</td><td>1.3</td><td>Iris-versicolor</td></tr><tr><td>5.1</td><td>2.5</td><td>3.0</td><td>1.1</td><td>Iris-versicolor</td></tr><tr><td>5.7</td><td>2.8</td><td>4.1</td><td>1.3</td><td>Iris-versicolor</td></tr><tr><td>6.3</td><td>3.3</td><td>6.0</td><td>2.5</td><td>Iris-virginica</td></tr><tr><td>5.8</td><td>2.7</td><td>5.1</td><td>1.9</td><td>Iris-virginica</td></tr><tr><td>7.1</td><td>3.0</td><td>5.9</td><td>2.1</td><td>Iris-virginica</td></tr><tr><td>6.3</td><td>2.9</td><td>5.6</td><td>1.8</td><td>Iris-virginica</td></tr><tr><td>6.5</td><td>3.0</td><td>5.8</td><td>2.2</td><td>Iris-virginica</td></tr><tr><td>7.6</td><td>3.0</td><td>6.6</td><td>2.1</td><td>Iris-virginica</td></tr><tr><td>4.9</td><td>2.5</td><td>4.5</td><td>1.7</td><td>Iris-virginica</td></tr><tr><td>7.3</td><td>2.9</td><td>6.3</td><td>1.8</td><td>Iris-virginica</td></tr><tr><td>6.7</td><td>2.5</td><td>5.8</td><td>1.8</td><td>Iris-virginica</td></tr><tr><td>7.2</td><td>3.6</td><td>6.1</td><td>2.5</td><td>Iris-virginica</td></tr><tr><td>6.5</td><td>3.2</td><td>5.1</td><td>2.0</td><td>Iris-virginica</td></tr><tr><td>6.4</td><td>2.7</td><td>5.3</td><td>1.9</td><td>Iris-virginica</td></tr><tr><td>6.8</td><td>3.0</td><td>5.5</td><td>2.1</td><td>Iris-virginica</td></tr><tr><td>5.7</td><td>2.5</td><td>5.0</td><td>2.0</td><td>Iris-virginica</td></tr><tr><td>5.8</td><td>2.8</td><td>5.1</td><td>2.4</td><td>Iris-virginica</td></tr><tr><td>6.4</td><td>3.2</td><td>5.3</td><td>2.3</td><td>Iris-virginica</td></tr><tr><td>6.5</td><td>3.0</td><td>5.5</td><td>1.8</td><td>Iris-virginica</td></tr><tr><td>7.7</td><td>3.8</td><td>6.7</td><td>2.2</td><td>Iris-virginica</td></tr><tr><td>7.7</td><td>2.6</td><td>6.9</td><td>2.3</td><td>Iris-virginica</td></tr><tr><td>6.0</td><td>2.2</td><td>5.0</td><td>1.5</td><td>Iris-virginica</td></tr><tr><td>6.9</td><td>3.2</td><td>5.7</td><td>2.3</td><td>Iris-virginica</td></tr><tr><td>5.6</td><td>2.8</td><td>4.9</td><td>2.0</td><td>Iris-virginica</td></tr><tr><td>7.7</td><td>2.8</td><td>6.7</td><td>2.0</td><td>Iris-virginica</td></tr><tr><td>6.3</td><td>2.7</td><td>4.9</td><td>1.8</td><td>Iris-virginica</td></tr><tr><td>6.7</td><td>3.3</td><td>5.7</td><td>2.1</td><td>Iris-virginica</td></tr><tr><td>7.2</td><td>3.2</td><td>6.0</td><td>1.8</td><td>Iris-virginica</td></tr><tr><td>6.2</td><td>2.8</td><td>4.8</td><td>1.8</td><td>Iris-virginica</td></tr><tr><td>6.1</td><td>3.0</td><td>4.9</td><td>1.8</td><td>Iris-virginica</td></tr><tr><td>6.4</td><td>2.8</td><td>5.6</td><td>2.1</td><td>Iris-virginica</td></tr><tr><td>7.2</td><td>3.0</td><td>5.8</td><td>1.6</td><td>Iris-virginica</td></tr><tr><td>7.4</td><td>2.8</td><td>6.1</td><td>1.9</td><td>Iris-virginica</td></tr><tr><td>7.9</td><td>3.8</td><td>6.4</td><td>2.0</td><td>Iris-virginica</td></tr><tr><td>6.4</td><td>2.8</td><td>5.6</td><td>2.2</td><td>Iris-virginica</td></tr><tr><td>6.3</td><td>2.8</td><td>5.1</td><td>1.5</td><td>Iris-virginica</td></tr><tr><td>6.1</td><td>2.6</td><td>5.6</td><td>1.4</td><td>Iris-virginica</td></tr><tr><td>7.7</td><td>3.0</td><td>6.1</td><td>2.3</td><td>Iris-virginica</td></tr><tr><td>6.3</td><td>3.4</td><td>5.6</td><td>2.4</td><td>Iris-virginica</td></tr><tr><td>6.4</td><td>3.1</td><td>5.5</td><td>1.8</td><td>Iris-virginica</td></tr><tr><td>6.0</td><td>3.0</td><td>4.8</td><td>1.8</td><td>Iris-virginica</td></tr><tr><td>6.9</td><td>3.1</td><td>5.4</td><td>2.1</td><td>Iris-virginica</td></tr><tr><td>6.7</td><td>3.1</td><td>5.6</td><td>2.4</td><td>Iris-virginica</td></tr><tr><td>6.9</td><td>3.1</td><td>5.1</td><td>2.3</td><td>Iris-virginica</td></tr><tr><td>5.8</td><td>2.7</td><td>5.1</td><td>1.9</td><td>Iris-virginica</td></tr><tr><td>6.8</td><td>3.2</td><td>5.9</td><td>2.3</td><td>Iris-virginica</td></tr><tr><td>6.7</td><td>3.3</td><td>5.7</td><td>2.5</td><td>Iris-virginica</td></tr><tr><td>6.7</td><td>3.0</td><td>5.2</td><td>2.3</td><td>Iris-virginica</td></tr><tr><td>6.3</td><td>2.5</td><td>5.0</td><td>1.9</td><td>Iris-virginica</td></tr><tr><td>6.5</td><td>3.0</td><td>5.2</td><td>2.0</td><td>Iris-virginica</td></tr><tr><td>6.2</td><td>3.4</td><td>5.4</td><td>2.3</td><td>Iris-virginica</td></tr><tr><td>5.9</td><td>3.0</td><td>5.1</td><td>1.8</td><td>Iris-virginica</td></tr></tbody></table></div>"
      ]
     },
     "metadata": {
      "application/vnd.databricks.v1+output": {
       "addedWidgets": {},
       "aggData": [],
       "aggError": "",
       "aggOverflow": false,
       "aggSchema": [],
       "aggSeriesLimitReached": false,
       "aggType": "",
       "arguments": {},
       "columnCustomDisplayInfos": {},
       "data": [
        [
         5.1,
         3.5,
         1.4,
         0.2,
         "Iris-setosa"
        ],
        [
         4.9,
         3.0,
         1.4,
         0.2,
         "Iris-setosa"
        ],
        [
         4.7,
         3.2,
         1.3,
         0.2,
         "Iris-setosa"
        ],
        [
         4.6,
         3.1,
         1.5,
         0.2,
         "Iris-setosa"
        ],
        [
         5.0,
         3.6,
         1.4,
         0.2,
         "Iris-setosa"
        ],
        [
         5.4,
         3.9,
         1.7,
         0.4,
         "Iris-setosa"
        ],
        [
         4.6,
         3.4,
         1.4,
         0.3,
         "Iris-setosa"
        ],
        [
         5.0,
         3.4,
         1.5,
         0.2,
         "Iris-setosa"
        ],
        [
         4.4,
         2.9,
         1.4,
         0.2,
         "Iris-setosa"
        ],
        [
         4.9,
         3.1,
         1.5,
         0.1,
         "Iris-setosa"
        ],
        [
         5.4,
         3.7,
         1.5,
         0.2,
         "Iris-setosa"
        ],
        [
         4.8,
         3.4,
         1.6,
         0.2,
         "Iris-setosa"
        ],
        [
         4.8,
         3.0,
         1.4,
         0.1,
         "Iris-setosa"
        ],
        [
         4.3,
         3.0,
         1.1,
         0.1,
         "Iris-setosa"
        ],
        [
         5.8,
         4.0,
         1.2,
         0.2,
         "Iris-setosa"
        ],
        [
         5.7,
         4.4,
         1.5,
         0.4,
         "Iris-setosa"
        ],
        [
         5.4,
         3.9,
         1.3,
         0.4,
         "Iris-setosa"
        ],
        [
         5.1,
         3.5,
         1.4,
         0.3,
         "Iris-setosa"
        ],
        [
         5.7,
         3.8,
         1.7,
         0.3,
         "Iris-setosa"
        ],
        [
         5.1,
         3.8,
         1.5,
         0.3,
         "Iris-setosa"
        ],
        [
         5.4,
         3.4,
         1.7,
         0.2,
         "Iris-setosa"
        ],
        [
         5.1,
         3.7,
         1.5,
         0.4,
         "Iris-setosa"
        ],
        [
         4.6,
         3.6,
         1.0,
         0.2,
         "Iris-setosa"
        ],
        [
         5.1,
         3.3,
         1.7,
         0.5,
         "Iris-setosa"
        ],
        [
         4.8,
         3.4,
         1.9,
         0.2,
         "Iris-setosa"
        ],
        [
         5.0,
         3.0,
         1.6,
         0.2,
         "Iris-setosa"
        ],
        [
         5.0,
         3.4,
         1.6,
         0.4,
         "Iris-setosa"
        ],
        [
         5.2,
         3.5,
         1.5,
         0.2,
         "Iris-setosa"
        ],
        [
         5.2,
         3.4,
         1.4,
         0.2,
         "Iris-setosa"
        ],
        [
         4.7,
         3.2,
         1.6,
         0.2,
         "Iris-setosa"
        ],
        [
         4.8,
         3.1,
         1.6,
         0.2,
         "Iris-setosa"
        ],
        [
         5.4,
         3.4,
         1.5,
         0.4,
         "Iris-setosa"
        ],
        [
         5.2,
         4.1,
         1.5,
         0.1,
         "Iris-setosa"
        ],
        [
         5.5,
         4.2,
         1.4,
         0.2,
         "Iris-setosa"
        ],
        [
         4.9,
         3.1,
         1.5,
         0.1,
         "Iris-setosa"
        ],
        [
         5.0,
         3.2,
         1.2,
         0.2,
         "Iris-setosa"
        ],
        [
         5.5,
         3.5,
         1.3,
         0.2,
         "Iris-setosa"
        ],
        [
         4.9,
         3.1,
         1.5,
         0.1,
         "Iris-setosa"
        ],
        [
         4.4,
         3.0,
         1.3,
         0.2,
         "Iris-setosa"
        ],
        [
         5.1,
         3.4,
         1.5,
         0.2,
         "Iris-setosa"
        ],
        [
         5.0,
         3.5,
         1.3,
         0.3,
         "Iris-setosa"
        ],
        [
         4.5,
         2.3,
         1.3,
         0.3,
         "Iris-setosa"
        ],
        [
         4.4,
         3.2,
         1.3,
         0.2,
         "Iris-setosa"
        ],
        [
         5.0,
         3.5,
         1.6,
         0.6,
         "Iris-setosa"
        ],
        [
         5.1,
         3.8,
         1.9,
         0.4,
         "Iris-setosa"
        ],
        [
         4.8,
         3.0,
         1.4,
         0.3,
         "Iris-setosa"
        ],
        [
         5.1,
         3.8,
         1.6,
         0.2,
         "Iris-setosa"
        ],
        [
         4.6,
         3.2,
         1.4,
         0.2,
         "Iris-setosa"
        ],
        [
         5.3,
         3.7,
         1.5,
         0.2,
         "Iris-setosa"
        ],
        [
         5.0,
         3.3,
         1.4,
         0.2,
         "Iris-setosa"
        ],
        [
         7.0,
         3.2,
         4.7,
         1.4,
         "Iris-versicolor"
        ],
        [
         6.4,
         3.2,
         4.5,
         1.5,
         "Iris-versicolor"
        ],
        [
         6.9,
         3.1,
         4.9,
         1.5,
         "Iris-versicolor"
        ],
        [
         5.5,
         2.3,
         4.0,
         1.3,
         "Iris-versicolor"
        ],
        [
         6.5,
         2.8,
         4.6,
         1.5,
         "Iris-versicolor"
        ],
        [
         5.7,
         2.8,
         4.5,
         1.3,
         "Iris-versicolor"
        ],
        [
         6.3,
         3.3,
         4.7,
         1.6,
         "Iris-versicolor"
        ],
        [
         4.9,
         2.4,
         3.3,
         1.0,
         "Iris-versicolor"
        ],
        [
         6.6,
         2.9,
         4.6,
         1.3,
         "Iris-versicolor"
        ],
        [
         5.2,
         2.7,
         3.9,
         1.4,
         "Iris-versicolor"
        ],
        [
         5.0,
         2.0,
         3.5,
         1.0,
         "Iris-versicolor"
        ],
        [
         5.9,
         3.0,
         4.2,
         1.5,
         "Iris-versicolor"
        ],
        [
         6.0,
         2.2,
         4.0,
         1.0,
         "Iris-versicolor"
        ],
        [
         6.1,
         2.9,
         4.7,
         1.4,
         "Iris-versicolor"
        ],
        [
         5.6,
         2.9,
         3.6,
         1.3,
         "Iris-versicolor"
        ],
        [
         6.7,
         3.1,
         4.4,
         1.4,
         "Iris-versicolor"
        ],
        [
         5.6,
         3.0,
         4.5,
         1.5,
         "Iris-versicolor"
        ],
        [
         5.8,
         2.7,
         4.1,
         1.0,
         "Iris-versicolor"
        ],
        [
         6.2,
         2.2,
         4.5,
         1.5,
         "Iris-versicolor"
        ],
        [
         5.6,
         2.5,
         3.9,
         1.1,
         "Iris-versicolor"
        ],
        [
         5.9,
         3.2,
         4.8,
         1.8,
         "Iris-versicolor"
        ],
        [
         6.1,
         2.8,
         4.0,
         1.3,
         "Iris-versicolor"
        ],
        [
         6.3,
         2.5,
         4.9,
         1.5,
         "Iris-versicolor"
        ],
        [
         6.1,
         2.8,
         4.7,
         1.2,
         "Iris-versicolor"
        ],
        [
         6.4,
         2.9,
         4.3,
         1.3,
         "Iris-versicolor"
        ],
        [
         6.6,
         3.0,
         4.4,
         1.4,
         "Iris-versicolor"
        ],
        [
         6.8,
         2.8,
         4.8,
         1.4,
         "Iris-versicolor"
        ],
        [
         6.7,
         3.0,
         5.0,
         1.7,
         "Iris-versicolor"
        ],
        [
         6.0,
         2.9,
         4.5,
         1.5,
         "Iris-versicolor"
        ],
        [
         5.7,
         2.6,
         3.5,
         1.0,
         "Iris-versicolor"
        ],
        [
         5.5,
         2.4,
         3.8,
         1.1,
         "Iris-versicolor"
        ],
        [
         5.5,
         2.4,
         3.7,
         1.0,
         "Iris-versicolor"
        ],
        [
         5.8,
         2.7,
         3.9,
         1.2,
         "Iris-versicolor"
        ],
        [
         6.0,
         2.7,
         5.1,
         1.6,
         "Iris-versicolor"
        ],
        [
         5.4,
         3.0,
         4.5,
         1.5,
         "Iris-versicolor"
        ],
        [
         6.0,
         3.4,
         4.5,
         1.6,
         "Iris-versicolor"
        ],
        [
         6.7,
         3.1,
         4.7,
         1.5,
         "Iris-versicolor"
        ],
        [
         6.3,
         2.3,
         4.4,
         1.3,
         "Iris-versicolor"
        ],
        [
         5.6,
         3.0,
         4.1,
         1.3,
         "Iris-versicolor"
        ],
        [
         5.5,
         2.5,
         4.0,
         1.3,
         "Iris-versicolor"
        ],
        [
         5.5,
         2.6,
         4.4,
         1.2,
         "Iris-versicolor"
        ],
        [
         6.1,
         3.0,
         4.6,
         1.4,
         "Iris-versicolor"
        ],
        [
         5.8,
         2.6,
         4.0,
         1.2,
         "Iris-versicolor"
        ],
        [
         5.0,
         2.3,
         3.3,
         1.0,
         "Iris-versicolor"
        ],
        [
         5.6,
         2.7,
         4.2,
         1.3,
         "Iris-versicolor"
        ],
        [
         5.7,
         3.0,
         4.2,
         1.2,
         "Iris-versicolor"
        ],
        [
         5.7,
         2.9,
         4.2,
         1.3,
         "Iris-versicolor"
        ],
        [
         6.2,
         2.9,
         4.3,
         1.3,
         "Iris-versicolor"
        ],
        [
         5.1,
         2.5,
         3.0,
         1.1,
         "Iris-versicolor"
        ],
        [
         5.7,
         2.8,
         4.1,
         1.3,
         "Iris-versicolor"
        ],
        [
         6.3,
         3.3,
         6.0,
         2.5,
         "Iris-virginica"
        ],
        [
         5.8,
         2.7,
         5.1,
         1.9,
         "Iris-virginica"
        ],
        [
         7.1,
         3.0,
         5.9,
         2.1,
         "Iris-virginica"
        ],
        [
         6.3,
         2.9,
         5.6,
         1.8,
         "Iris-virginica"
        ],
        [
         6.5,
         3.0,
         5.8,
         2.2,
         "Iris-virginica"
        ],
        [
         7.6,
         3.0,
         6.6,
         2.1,
         "Iris-virginica"
        ],
        [
         4.9,
         2.5,
         4.5,
         1.7,
         "Iris-virginica"
        ],
        [
         7.3,
         2.9,
         6.3,
         1.8,
         "Iris-virginica"
        ],
        [
         6.7,
         2.5,
         5.8,
         1.8,
         "Iris-virginica"
        ],
        [
         7.2,
         3.6,
         6.1,
         2.5,
         "Iris-virginica"
        ],
        [
         6.5,
         3.2,
         5.1,
         2.0,
         "Iris-virginica"
        ],
        [
         6.4,
         2.7,
         5.3,
         1.9,
         "Iris-virginica"
        ],
        [
         6.8,
         3.0,
         5.5,
         2.1,
         "Iris-virginica"
        ],
        [
         5.7,
         2.5,
         5.0,
         2.0,
         "Iris-virginica"
        ],
        [
         5.8,
         2.8,
         5.1,
         2.4,
         "Iris-virginica"
        ],
        [
         6.4,
         3.2,
         5.3,
         2.3,
         "Iris-virginica"
        ],
        [
         6.5,
         3.0,
         5.5,
         1.8,
         "Iris-virginica"
        ],
        [
         7.7,
         3.8,
         6.7,
         2.2,
         "Iris-virginica"
        ],
        [
         7.7,
         2.6,
         6.9,
         2.3,
         "Iris-virginica"
        ],
        [
         6.0,
         2.2,
         5.0,
         1.5,
         "Iris-virginica"
        ],
        [
         6.9,
         3.2,
         5.7,
         2.3,
         "Iris-virginica"
        ],
        [
         5.6,
         2.8,
         4.9,
         2.0,
         "Iris-virginica"
        ],
        [
         7.7,
         2.8,
         6.7,
         2.0,
         "Iris-virginica"
        ],
        [
         6.3,
         2.7,
         4.9,
         1.8,
         "Iris-virginica"
        ],
        [
         6.7,
         3.3,
         5.7,
         2.1,
         "Iris-virginica"
        ],
        [
         7.2,
         3.2,
         6.0,
         1.8,
         "Iris-virginica"
        ],
        [
         6.2,
         2.8,
         4.8,
         1.8,
         "Iris-virginica"
        ],
        [
         6.1,
         3.0,
         4.9,
         1.8,
         "Iris-virginica"
        ],
        [
         6.4,
         2.8,
         5.6,
         2.1,
         "Iris-virginica"
        ],
        [
         7.2,
         3.0,
         5.8,
         1.6,
         "Iris-virginica"
        ],
        [
         7.4,
         2.8,
         6.1,
         1.9,
         "Iris-virginica"
        ],
        [
         7.9,
         3.8,
         6.4,
         2.0,
         "Iris-virginica"
        ],
        [
         6.4,
         2.8,
         5.6,
         2.2,
         "Iris-virginica"
        ],
        [
         6.3,
         2.8,
         5.1,
         1.5,
         "Iris-virginica"
        ],
        [
         6.1,
         2.6,
         5.6,
         1.4,
         "Iris-virginica"
        ],
        [
         7.7,
         3.0,
         6.1,
         2.3,
         "Iris-virginica"
        ],
        [
         6.3,
         3.4,
         5.6,
         2.4,
         "Iris-virginica"
        ],
        [
         6.4,
         3.1,
         5.5,
         1.8,
         "Iris-virginica"
        ],
        [
         6.0,
         3.0,
         4.8,
         1.8,
         "Iris-virginica"
        ],
        [
         6.9,
         3.1,
         5.4,
         2.1,
         "Iris-virginica"
        ],
        [
         6.7,
         3.1,
         5.6,
         2.4,
         "Iris-virginica"
        ],
        [
         6.9,
         3.1,
         5.1,
         2.3,
         "Iris-virginica"
        ],
        [
         5.8,
         2.7,
         5.1,
         1.9,
         "Iris-virginica"
        ],
        [
         6.8,
         3.2,
         5.9,
         2.3,
         "Iris-virginica"
        ],
        [
         6.7,
         3.3,
         5.7,
         2.5,
         "Iris-virginica"
        ],
        [
         6.7,
         3.0,
         5.2,
         2.3,
         "Iris-virginica"
        ],
        [
         6.3,
         2.5,
         5.0,
         1.9,
         "Iris-virginica"
        ],
        [
         6.5,
         3.0,
         5.2,
         2.0,
         "Iris-virginica"
        ],
        [
         6.2,
         3.4,
         5.4,
         2.3,
         "Iris-virginica"
        ],
        [
         5.9,
         3.0,
         5.1,
         1.8,
         "Iris-virginica"
        ]
       ],
       "datasetInfos": [],
       "dbfsResultPath": null,
       "isJsonSchema": true,
       "metadata": {},
       "overflow": false,
       "plotOptions": {
        "customPlotOptions": {},
        "displayType": "table",
        "pivotAggregation": null,
        "pivotColumns": null,
        "xColumns": null,
        "yColumns": null
       },
       "removedWidgets": [],
       "schema": [
        {
         "metadata": "{}",
         "name": "sepal_length",
         "type": "\"double\""
        },
        {
         "metadata": "{}",
         "name": "sepal_width",
         "type": "\"double\""
        },
        {
         "metadata": "{}",
         "name": "petal_length",
         "type": "\"double\""
        },
        {
         "metadata": "{}",
         "name": "petal_width",
         "type": "\"double\""
        },
        {
         "metadata": "{}",
         "name": "class",
         "type": "\"string\""
        }
       ],
       "type": "table"
      }
     },
     "output_type": "display_data"
    }
   ],
   "source": [
    "df.display()"
   ]
  },
  {
   "cell_type": "markdown",
   "metadata": {
    "application/vnd.databricks.v1+cell": {
     "cellMetadata": {
      "byteLimit": 2048000,
      "rowLimit": 10000
     },
     "inputWidgets": {},
     "nuid": "ddf51d9c-a545-4c17-9f63-3f25ef8df1fc",
     "showTitle": false,
     "tableResultSettingsMap": {},
     "title": ""
    }
   },
   "source": [
    "Data Transformation"
   ]
  },
  {
   "cell_type": "code",
   "execution_count": 0,
   "metadata": {
    "application/vnd.databricks.v1+cell": {
     "cellMetadata": {
      "byteLimit": 2048000,
      "rowLimit": 10000
     },
     "inputWidgets": {},
     "nuid": "186337d3-b998-4f1e-87fd-77eac7534e16",
     "showTitle": false,
     "tableResultSettingsMap": {},
     "title": ""
    },
    "jupyter": {
     "outputs_hidden": true
    }
   },
   "outputs": [
    {
     "output_type": "display_data",
     "data": {
      "text/plain": [
       "\u001B[0;31m---------------------------------------------------------------------------\u001B[0m\n",
       "\u001B[0;31mNameError\u001B[0m                                 Traceback (most recent call last)\n",
       "File \u001B[0;32m<command-4199294914396520>:4\u001B[0m\n",
       "\u001B[1;32m      2\u001B[0m \u001B[38;5;28;01mfrom\u001B[39;00m \u001B[38;5;21;01mpyspark\u001B[39;00m\u001B[38;5;21;01m.\u001B[39;00m\u001B[38;5;21;01mml\u001B[39;00m\u001B[38;5;21;01m.\u001B[39;00m\u001B[38;5;21;01mfeature\u001B[39;00m \u001B[38;5;28;01mimport\u001B[39;00m VectorAssembler\n",
       "\u001B[1;32m      3\u001B[0m \u001B[38;5;66;03m# Convert class to binary label: Iris-setosa = 1, Others = 0\u001B[39;00m\n",
       "\u001B[0;32m----> 4\u001B[0m df \u001B[38;5;241m=\u001B[39m df\u001B[38;5;241m.\u001B[39mwithColumn(\u001B[38;5;124m\"\u001B[39m\u001B[38;5;124mlabel\u001B[39m\u001B[38;5;124m\"\u001B[39m, when(df[\u001B[38;5;124m\"\u001B[39m\u001B[38;5;124mclass\u001B[39m\u001B[38;5;124m\"\u001B[39m] \u001B[38;5;241m==\u001B[39m \u001B[38;5;124m\"\u001B[39m\u001B[38;5;124mIris-setosa\u001B[39m\u001B[38;5;124m\"\u001B[39m, \u001B[38;5;241m1\u001B[39m)\u001B[38;5;241m.\u001B[39motherwise(\u001B[38;5;241m0\u001B[39m))\n",
       "\u001B[1;32m      6\u001B[0m \u001B[38;5;66;03m# Assemble features into a single column\u001B[39;00m\n",
       "\u001B[1;32m      7\u001B[0m feature_assembler \u001B[38;5;241m=\u001B[39m VectorAssembler(\n",
       "\u001B[1;32m      8\u001B[0m     inputCols\u001B[38;5;241m=\u001B[39m[\u001B[38;5;124m\"\u001B[39m\u001B[38;5;124msepal_length\u001B[39m\u001B[38;5;124m\"\u001B[39m, \u001B[38;5;124m\"\u001B[39m\u001B[38;5;124msepal_width\u001B[39m\u001B[38;5;124m\"\u001B[39m, \u001B[38;5;124m\"\u001B[39m\u001B[38;5;124mpetal_length\u001B[39m\u001B[38;5;124m\"\u001B[39m, \u001B[38;5;124m\"\u001B[39m\u001B[38;5;124mpetal_width\u001B[39m\u001B[38;5;124m\"\u001B[39m],\n",
       "\u001B[1;32m      9\u001B[0m     outputCol\u001B[38;5;241m=\u001B[39m\u001B[38;5;124m\"\u001B[39m\u001B[38;5;124mfeatures\u001B[39m\u001B[38;5;124m\"\u001B[39m\n",
       "\u001B[1;32m     10\u001B[0m )\n",
       "\n",
       "\u001B[0;31mNameError\u001B[0m: name 'df' is not defined"
      ]
     },
     "metadata": {
      "application/vnd.databricks.v1+output": {
       "arguments": {},
       "data": "\u001B[0;31m---------------------------------------------------------------------------\u001B[0m\n\u001B[0;31mNameError\u001B[0m                                 Traceback (most recent call last)\nFile \u001B[0;32m<command-4199294914396520>:4\u001B[0m\n\u001B[1;32m      2\u001B[0m \u001B[38;5;28;01mfrom\u001B[39;00m \u001B[38;5;21;01mpyspark\u001B[39;00m\u001B[38;5;21;01m.\u001B[39;00m\u001B[38;5;21;01mml\u001B[39;00m\u001B[38;5;21;01m.\u001B[39;00m\u001B[38;5;21;01mfeature\u001B[39;00m \u001B[38;5;28;01mimport\u001B[39;00m VectorAssembler\n\u001B[1;32m      3\u001B[0m \u001B[38;5;66;03m# Convert class to binary label: Iris-setosa = 1, Others = 0\u001B[39;00m\n\u001B[0;32m----> 4\u001B[0m df \u001B[38;5;241m=\u001B[39m df\u001B[38;5;241m.\u001B[39mwithColumn(\u001B[38;5;124m\"\u001B[39m\u001B[38;5;124mlabel\u001B[39m\u001B[38;5;124m\"\u001B[39m, when(df[\u001B[38;5;124m\"\u001B[39m\u001B[38;5;124mclass\u001B[39m\u001B[38;5;124m\"\u001B[39m] \u001B[38;5;241m==\u001B[39m \u001B[38;5;124m\"\u001B[39m\u001B[38;5;124mIris-setosa\u001B[39m\u001B[38;5;124m\"\u001B[39m, \u001B[38;5;241m1\u001B[39m)\u001B[38;5;241m.\u001B[39motherwise(\u001B[38;5;241m0\u001B[39m))\n\u001B[1;32m      6\u001B[0m \u001B[38;5;66;03m# Assemble features into a single column\u001B[39;00m\n\u001B[1;32m      7\u001B[0m feature_assembler \u001B[38;5;241m=\u001B[39m VectorAssembler(\n\u001B[1;32m      8\u001B[0m     inputCols\u001B[38;5;241m=\u001B[39m[\u001B[38;5;124m\"\u001B[39m\u001B[38;5;124msepal_length\u001B[39m\u001B[38;5;124m\"\u001B[39m, \u001B[38;5;124m\"\u001B[39m\u001B[38;5;124msepal_width\u001B[39m\u001B[38;5;124m\"\u001B[39m, \u001B[38;5;124m\"\u001B[39m\u001B[38;5;124mpetal_length\u001B[39m\u001B[38;5;124m\"\u001B[39m, \u001B[38;5;124m\"\u001B[39m\u001B[38;5;124mpetal_width\u001B[39m\u001B[38;5;124m\"\u001B[39m],\n\u001B[1;32m      9\u001B[0m     outputCol\u001B[38;5;241m=\u001B[39m\u001B[38;5;124m\"\u001B[39m\u001B[38;5;124mfeatures\u001B[39m\u001B[38;5;124m\"\u001B[39m\n\u001B[1;32m     10\u001B[0m )\n\n\u001B[0;31mNameError\u001B[0m: name 'df' is not defined",
       "errorSummary": "<span class='ansi-red-fg'>NameError</span>: name 'df' is not defined",
       "errorTraceType": "ansi",
       "metadata": {},
       "type": "ipynbError"
      }
     },
     "output_type": "display_data"
    }
   ],
   "source": [
    "from pyspark.sql.functions import when\n",
    "from pyspark.ml.feature import VectorAssembler\n",
    "# Convert class to binary label: Iris-setosa = 1, Others = 0\n",
    "df = df.withColumn(\"label\", when(df[\"class\"] == \"Iris-setosa\", 1).otherwise(0))\n",
    "\n",
    "# Assemble features into a single column\n",
    "feature_assembler = VectorAssembler(\n",
    "    inputCols=[\"sepal_length\", \"sepal_width\", \"petal_length\", \"petal_width\"],\n",
    "    outputCol=\"features\"\n",
    ")\n",
    "df = feature_assembler.transform(df).select(\"features\", \"label\")\n"
   ]
  },
  {
   "cell_type": "markdown",
   "metadata": {
    "application/vnd.databricks.v1+cell": {
     "cellMetadata": {
      "byteLimit": 2048000,
      "rowLimit": 10000
     },
     "inputWidgets": {},
     "nuid": "323c908e-84ea-4245-ad79-731377c4f4e8",
     "showTitle": false,
     "tableResultSettingsMap": {},
     "title": ""
    }
   },
   "source": [
    "Model Training"
   ]
  },
  {
   "cell_type": "code",
   "execution_count": 0,
   "metadata": {
    "application/vnd.databricks.v1+cell": {
     "cellMetadata": {
      "byteLimit": 2048000,
      "rowLimit": 10000
     },
     "inputWidgets": {},
     "nuid": "33cd8191-7f15-424e-8629-66c0cd8a46f4",
     "showTitle": false,
     "tableResultSettingsMap": {},
     "title": ""
    }
   },
   "outputs": [
    {
     "output_type": "stream",
     "name": "stdout",
     "output_type": "stream",
     "text": [
      "ROC AUC Score: 1.0\n"
     ]
    }
   ],
   "source": [
    "from pyspark.ml.classification import LogisticRegression\n",
    "from pyspark.ml.evaluation import BinaryClassificationEvaluator\n",
    "\n",
    "# Split data\n",
    "train_data, test_data = df.randomSplit([0.7, 0.3], seed=42)\n",
    "\n",
    "# Train Logistic Regression model\n",
    "lr = LogisticRegression(featuresCol=\"features\", labelCol=\"label\")\n",
    "model = lr.fit(train_data)\n",
    "\n",
    "# Evaluate the model\n",
    "predictions = model.transform(test_data)\n",
    "evaluator = BinaryClassificationEvaluator(labelCol=\"label\", metricName=\"areaUnderROC\")\n",
    "roc_auc = evaluator.evaluate(predictions)\n",
    "\n",
    "print(f\"ROC AUC Score: {roc_auc}\")\n"
   ]
  },
  {
   "cell_type": "code",
   "execution_count": 0,
   "metadata": {
    "application/vnd.databricks.v1+cell": {
     "cellMetadata": {
      "byteLimit": 2048000,
      "rowLimit": 10000
     },
     "inputWidgets": {},
     "nuid": "561245d8-085d-42e7-b48d-e1c74dd3858b",
     "showTitle": false,
     "tableResultSettingsMap": {},
     "title": ""
    },
    "jupyter": {
     "outputs_hidden": true
    }
   },
   "outputs": [
    {
     "output_type": "stream",
     "name": "stdout",
     "output_type": "stream",
     "text": [
      "Collecting mlflow\r\n  Downloading mlflow-2.21.0-py3-none-any.whl (28.2 MB)\r\n\u001B[?25l\r\u001B[K     |                                | 10 kB 10.5 MB/s eta 0:00:03\r\u001B[K     |                                | 20 kB 4.4 MB/s eta 0:00:07\r\u001B[K     |                                | 30 kB 6.4 MB/s eta 0:00:05\r\u001B[K     |                                | 40 kB 3.6 MB/s eta 0:00:08\r\u001B[K     |                                | 51 kB 4.2 MB/s eta 0:00:07\r\u001B[K     |                                | 61 kB 5.1 MB/s eta 0:00:06\r\u001B[K     |                                | 71 kB 5.2 MB/s eta 0:00:06\r\u001B[K     |                                | 81 kB 5.9 MB/s eta 0:00:05\r\u001B[K     |                                | 92 kB 6.0 MB/s eta 0:00:05\r\u001B[K     |▏                               | 102 kB 6.3 MB/s eta 0:00:05\r\u001B[K     |▏                               | 112 kB 6.3 MB/s eta 0:00:05\r\u001B[K     |▏                               | 122 kB 6.3 MB/s eta 0:00:05\r\u001B[K     |▏                               | 133 kB 6.3 MB/s eta 0:00:05\r\u001B[K     |▏                               | 143 kB 6.3 MB/s eta 0:00:05\r\u001B[K     |▏                               | 153 kB 6.3 MB/s eta 0:00:05\r\u001B[K     |▏                               | 163 kB 6.3 MB/s eta 0:00:05\r\u001B[K     |▏                               | 174 kB 6.3 MB/s eta 0:00:05\r\u001B[K     |▏                               | 184 kB 6.3 MB/s eta 0:00:05\r\u001B[K     |▏                               | 194 kB 6.3 MB/s eta 0:00:05\r\u001B[K     |▎                               | 204 kB 6.3 MB/s eta 0:00:05\r\u001B[K     |▎                               | 215 kB 6.3 MB/s eta 0:00:05\r\u001B[K     |▎                               | 225 kB 6.3 MB/s eta 0:00:05\r\u001B[K     |▎                               | 235 kB 6.3 MB/s eta 0:00:05\r\u001B[K     |▎                               | 245 kB 6.3 MB/s eta 0:00:05\r\u001B[K     |▎                               | 256 kB 6.3 MB/s eta 0:00:05\r\u001B[K     |▎                               | 266 kB 6.3 MB/s eta 0:00:05\r\u001B[K     |▎                               | 276 kB 6.3 MB/s eta 0:00:05\r\u001B[K     |▎                               | 286 kB 6.3 MB/s eta 0:00:05\r\u001B[K     |▍                               | 296 kB 6.3 MB/s eta 0:00:05\r\u001B[K     |▍                               | 307 kB 6.3 MB/s eta 0:00:05\r\u001B[K     |▍                               | 317 kB 6.3 MB/s eta 0:00:05\r\u001B[K     |▍                               | 327 kB 6.3 MB/s eta 0:00:05\r\u001B[K     |▍                               | 337 kB 6.3 MB/s eta 0:00:05\r\u001B[K     |▍                               | 348 kB 6.3 MB/s eta 0:00:05\r\u001B[K     |▍                               | 358 kB 6.3 MB/s eta 0:00:05\r\u001B[K     |▍                               | 368 kB 6.3 MB/s eta 0:00:05\r\u001B[K     |▍                               | 378 kB 6.3 MB/s eta 0:00:05\r\u001B[K     |▍                               | 389 kB 6.3 MB/s eta 0:00:05\r\u001B[K     |▌                               | 399 kB 6.3 MB/s eta 0:00:05\r\u001B[K     |▌                               | 409 kB 6.3 MB/s eta 0:00:05\r\u001B[K     |▌                               | 419 kB 6.3 MB/s eta 0:00:05\r\u001B[K     |▌                               | 430 kB 6.3 MB/s eta 0:00:05\r\u001B[K     |▌                               | 440 kB 6.3 MB/s eta 0:00:05\r\u001B[K     |▌                               | 450 kB 6.3 MB/s eta 0:00:05\r\u001B[K     |▌                               | 460 kB 6.3 MB/s eta 0:00:05\r\u001B[K     |▌                               | 471 kB 6.3 MB/s eta 0:00:05\r\u001B[K     |▌                               | 481 kB 6.3 MB/s eta 0:00:05\r\u001B[K     |▋                               | 491 kB 6.3 MB/s eta 0:00:05\r\u001B[K     |▋                               | 501 kB 6.3 MB/s eta 0:00:05\r\u001B[K     |▋                               | 512 kB 6.3 MB/s eta 0:00:05\r\u001B[K     |▋                               | 522 kB 6.3 MB/s eta 0:00:05\r\u001B[K     |▋                               | 532 kB 6.3 MB/s eta 0:00:05\r\u001B[K     |▋                               | 542 kB 6.3 MB/s eta 0:00:05\r\u001B[K     |▋                               | 552 kB 6.3 MB/s eta 0:00:05\r\u001B[K     |▋                               | 563 kB 6.3 MB/s eta 0:00:05\r\u001B[K     |▋                               | 573 kB 6.3 MB/s eta 0:00:05\r\u001B[K     |▋                               | 583 kB 6.3 MB/s eta 0:00:05\r\u001B[K     |▊                               | 593 kB 6.3 MB/s eta 0:00:05\r\u001B[K     |▊                               | 604 kB 6.3 MB/s eta 0:00:05\r\u001B[K     |▊                               | 614 kB 6.3 MB/s eta 0:00:05\r\u001B[K     |▊                               | 624 kB 6.3 MB/s eta 0:00:05\r\u001B[K     |▊                               | 634 kB 6.3 MB/s eta 0:00:05\r\u001B[K     |▊                               | 645 kB 6.3 MB/s eta 0:00:05\r\u001B[K     |▊                               | 655 kB 6.3 MB/s eta 0:00:05\r\u001B[K     |▊                               | 665 kB 6.3 MB/s eta 0:00:05\r\u001B[K     |▊                               | 675 kB 6.3 MB/s eta 0:00:05\r\u001B[K     |▉                               | 686 kB 6.3 MB/s eta 0:00:05\r\u001B[K     |▉                               | 696 kB 6.3 MB/s eta 0:00:05\r\u001B[K     |▉                               | 706 kB 6.3 MB/s eta 0:00:05\r\u001B[K     |▉                               | 716 kB 6.3 MB/s eta 0:00:05\r\u001B[K     |▉                               | 727 kB 6.3 MB/s eta 0:00:05\r\u001B[K     |▉                               | 737 kB 6.3 MB/s eta 0:00:05\r\u001B[K     |▉                               | 747 kB 6.3 MB/s eta 0:00:05\r\u001B[K     |▉                               | 757 kB 6.3 MB/s eta 0:00:05\r\u001B[K     |▉                               | 768 kB 6.3 MB/s eta 0:00:05\r\u001B[K     |▉                               | 778 kB 6.3 MB/s eta 0:00:05\r\u001B[K     |█                               | 788 kB 6.3 MB/s eta 0:00:05\r\u001B[K     |█                               | 798 kB 6.3 MB/s eta 0:00:05\r\u001B[K     |█                               | 808 kB 6.3 MB/s eta 0:00:05\r\u001B[K     |█                               | 819 kB 6.3 MB/s eta 0:00:05\r\u001B[K     |█                               | 829 kB 6.3 MB/s eta 0:00:05\r\u001B[K     |█                               | 839 kB 6.3 MB/s eta 0:00:05\r\u001B[K     |█                               | 849 kB 6.3 MB/s eta 0:00:05\r\u001B[K     |█                               | 860 kB 6.3 MB/s eta 0:00:05\r\u001B[K     |█                               | 870 kB 6.3 MB/s eta 0:00:05\r\u001B[K     |█                               | 880 kB 6.3 MB/s eta 0:00:05\r\u001B[K     |█                               | 890 kB 6.3 MB/s eta 0:00:05\r\u001B[K     |█                               | 901 kB 6.3 MB/s eta 0:00:05\r\u001B[K     |█                               | 911 kB 6.3 MB/s eta 0:00:05\r\u001B[K     |█                               | 921 kB 6.3 MB/s eta 0:00:05\r\u001B[K     |█                               | 931 kB 6.3 MB/s eta 0:00:05\r\u001B[K     |█                               | 942 kB 6.3 MB/s eta 0:00:05\r\u001B[K     |█                               | 952 kB 6.3 MB/s eta 0:00:05\r\u001B[K     |█                               | 962 kB 6.3 MB/s eta 0:00:05\r\u001B[K     |█                               | 972 kB 6.3 MB/s eta 0:00:05\r\u001B[K     |█▏                              | 983 kB 6.3 MB/s eta 0:00:05\r\u001B[K     |█▏                              | 993 kB 6.3 MB/s eta 0:00:05\r\u001B[K     |█▏                              | 1.0 MB 6.3 MB/s eta 0:00:05\r\u001B[K     |█▏                              | 1.0 MB 6.3 MB/s eta 0:00:05\r\u001B[K     |█▏                              | 1.0 MB 6.3 MB/s eta 0:00:05\r\u001B[K     |█▏                              | 1.0 MB 6.3 MB/s eta 0:00:05\r\u001B[K     |█▏                              | 1.0 MB 6.3 MB/s eta 0:00:05\r\u001B[K     |█▏                              | 1.1 MB 6.3 MB/s eta 0:00:05\r\u001B[K     |█▏                              | 1.1 MB 6.3 MB/s eta 0:00:05\r\u001B[K     |█▏                              | 1.1 MB 6.3 MB/s eta 0:00:05\r\u001B[K     |█▎                              | 1.1 MB 6.3 MB/s eta 0:00:05\r\u001B[K     |█▎                              | 1.1 MB 6.3 MB/s eta 0:00:05\r\u001B[K     |█▎                              | 1.1 MB 6.3 MB/s eta 0:00:05\r\u001B[K     |█▎                              | 1.1 MB 6.3 MB/s eta 0:00:05\r\u001B[K     |█▎                              | 1.1 MB 6.3 MB/s eta 0:00:05\r\u001B[K     |█▎                              | 1.1 MB 6.3 MB/s eta 0:00:05\r\u001B[K     |█▎                              | 1.1 MB 6.3 MB/s eta 0:00:05\r\u001B[K     |█▎                              | 1.2 MB 6.3 MB/s eta 0:00:05\r\u001B[K     |█▎                              | 1.2 MB 6.3 MB/s eta 0:00:05\r\u001B[K     |█▍                              | 1.2 MB 6.3 MB/s eta 0:00:05\r\u001B[K     |█▍                              | 1.2 MB 6.3 MB/s eta 0:00:05\r\u001B[K     |█▍                              | 1.2 MB 6.3 MB/s eta 0:00:05\r\u001B[K     |█▍                              | 1.2 MB 6.3 MB/s eta 0:00:05\r\u001B[K     |█▍                              | 1.2 MB 6.3 MB/s eta 0:00:05\r\u001B[K     |█▍                              | 1.2 MB 6.3 MB/s eta 0:00:05\r\u001B[K     |█▍                              | 1.2 MB 6.3 MB/s eta 0:00:05\r\u001B[K     |█▍                              | 1.2 MB 6.3 MB/s eta 0:00:05\r\u001B[K     |█▍                              | 1.3 MB 6.3 MB/s eta 0:00:05\r\u001B[K     |█▍                              | 1.3 MB 6.3 MB/s eta 0:00:05\r\u001B[K     |█▌                              | 1.3 MB 6.3 MB/s eta 0:00:05\r\u001B[K     |█▌                              | 1.3 MB 6.3 MB/s eta 0:00:05\r\u001B[K     |█▌                              | 1.3 MB 6.3 MB/s eta 0:00:05\r\u001B[K     |█▌                              | 1.3 MB 6.3 MB/s eta 0:00:05\r\u001B[K     |█▌                              | 1.3 MB 6.3 MB/s eta 0:00:05\r\u001B[K     |█▌                              | 1.3 MB 6.3 MB/s eta 0:00:05\r\u001B[K     |█▌                              | 1.3 MB 6.3 MB/s eta 0:00:05\r\u001B[K     |█▌                              | 1.4 MB 6.3 MB/s eta 0:00:05\r\u001B[K     |█▌                              | 1.4 MB 6.3 MB/s eta 0:00:05\r\u001B[K     |█▋                              | 1.4 MB 6.3 MB/s eta 0:00:05\r\u001B[K     |█▋                              | 1.4 MB 6.3 MB/s eta 0:00:05\r\u001B[K     |█▋                              | 1.4 MB 6.3 MB/s eta 0:00:05\r\u001B[K     |█▋                              | 1.4 MB 6.3 MB/s eta 0:00:05\r\u001B[K     |█▋                              | 1.4 MB 6.3 MB/s eta 0:00:05\r\u001B[K     |█▋                              | 1.4 MB 6.3 MB/s eta 0:00:05\r\u001B[K     |█▋                              | 1.4 MB 6.3 MB/s eta 0:00:05\r\u001B[K     |█▋                              | 1.4 MB 6.3 MB/s eta 0:00:05\r\u001B[K     |█▋                              | 1.5 MB 6.3 MB/s eta 0:00:05\r\u001B[K     |█▋                              | 1.5 MB 6.3 MB/s eta 0:00:05\r\u001B[K     |█▊                              | 1.5 MB 6.3 MB/s eta 0:00:05\r\u001B[K     |█▊                              | 1.5 MB 6.3 MB/s eta 0:00:05\r\u001B[K     |█▊                              | 1.5 MB 6.3 MB/s eta 0:00:05\r\u001B[K     |█▊                              | 1.5 MB 6.3 MB/s eta 0:00:05\r\u001B[K     |█▊                              | 1.5 MB 6.3 MB/s eta 0:00:05\r\u001B[K     |█▊                              | 1.5 MB 6.3 MB/s eta 0:00:05\r\u001B[K     |█▊                              | 1.5 MB 6.3 MB/s eta 0:00:05\r\u001B[K     |█▊                              | 1.5 MB 6.3 MB/s eta 0:00:05\r\u001B[K     |█▊                              | 1.6 MB 6.3 MB/s eta 0:00:05\r\u001B[K     |█▉                              | 1.6 MB 6.3 MB/s eta 0:00:05\r\u001B[K     |█▉                              | 1.6 MB 6.3 MB/s eta 0:00:05\r\u001B[K     |█▉                              | 1.6 MB 6.3 MB/s eta 0:00:05\r\u001B[K     |█▉                              | 1.6 MB 6.3 MB/s eta 0:00:05\r\u001B[K     |█▉                              | 1.6 MB 6.3 MB/s eta 0:00:05\r\u001B[K     |█▉                              | 1.6 MB 6.3 MB/s eta 0:00:05\r\u001B[K     |█▉                              | 1.6 MB 6.3 MB/s eta 0:00:05\r\u001B[K     |█▉                              | 1.6 MB 6.3 MB/s eta 0:00:05\r\u001B[K     |█▉                              | 1.6 MB 6.3 MB/s eta 0:00:05\r\u001B[K     |█▉                              | 1.7 MB 6.3 MB/s eta 0:00:05\r\u001B[K     |██                              | 1.7 MB 6.3 MB/s eta 0:00:05\r\u001B[K     |██                              | 1.7 MB 6.3 MB/s eta 0:00:05\r\u001B[K     |██                              | 1.7 MB 6.3 MB/s eta 0:00:05\r\u001B[K     |██                              | 1.7 MB 6.3 MB/s eta 0:00:05\r\u001B[K     |██                              | 1.7 MB 6.3 MB/s eta 0:00:05\r\u001B[K     |██                              | 1.7 MB 6.3 MB/s eta 0:00:05\r\u001B[K     |██                              | 1.7 MB 6.3 MB/s eta 0:00:05\r\u001B[K     |██                              | 1.7 MB 6.3 MB/s eta 0:00:05\r\u001B[K     |██                              | 1.8 MB 6.3 MB/s eta 0:00:05\r\u001B[K     |██                              | 1.8 MB 6.3 MB/s eta 0:00:05\r\u001B[K     |██                              | 1.8 MB 6.3 MB/s eta 0:00:05\r\u001B[K     |██                              | 1.8 MB 6.3 MB/s eta 0:00:05\r\u001B[K     |██                              | 1.8 MB 6.3 MB/s eta 0:00:05\r\u001B[K     |██                              | 1.8 MB 6.3 MB/s eta 0:00:05\r\u001B[K     |██                              | 1.8 MB 6.3 MB/s eta 0:00:05\r\u001B[K     |██                              | 1.8 MB 6.3 MB/s eta 0:00:05\r\u001B[K     |██                              | 1.8 MB 6.3 MB/s eta 0:00:05\r\u001B[K     |██                              | 1.8 MB 6.3 MB/s eta 0:00:05\r\u001B[K     |██                              | 1.9 MB 6.3 MB/s eta 0:00:05\r\u001B[K     |██▏                             | 1.9 MB 6.3 MB/s eta 0:00:05\r\u001B[K     |██▏                             | 1.9 MB 6.3 MB/s eta 0:00:05\r\u001B[K     |██▏                             | 1.9 MB 6.3 MB/s eta 0:00:05\r\u001B[K     |██▏                             | 1.9 MB 6.3 MB/s eta 0:00:05\r\u001B[K     |██▏                             | 1.9 MB 6.3 MB/s eta 0:00:05\r\u001B[K     |██▏                             | 1.9 MB 6.3 MB/s eta 0:00:05\r\u001B[K     |██▏                             | 1.9 MB 6.3 MB/s eta 0:00:05\r\u001B[K     |██▏                             | 1.9 MB 6.3 MB/s eta 0:00:05\r\u001B[K     |██▏                             | 1.9 MB 6.3 MB/s eta 0:00:05\r\u001B[K     |██▎                             | 2.0 MB 6.3 MB/s eta 0:00:05\r\u001B[K     |██▎                             | 2.0 MB 6.3 MB/s eta 0:00:05\r\u001B[K     |██▎                             | 2.0 MB 6.3 MB/s eta 0:00:05\r\u001B[K     |██▎                             | 2.0 MB 6.3 MB/s eta 0:00:05\r\u001B[K     |██▎                             | 2.0 MB 6.3 MB/s eta 0:00:05\r\u001B[K     |██▎                             | 2.0 MB 6.3 MB/s eta 0:00:05\r\u001B[K     |██▎                             | 2.0 MB 6.3 MB/s eta 0:00:05\r\u001B[K     |██▎                             | 2.0 MB 6.3 MB/s eta 0:00:05\r\u001B[K     |██▎                             | 2.0 MB 6.3 MB/s eta 0:00:05\r\u001B[K     |██▎                             | 2.0 MB 6.3 MB/s eta 0:00:05\r\u001B[K     |██▍                             | 2.1 MB 6.3 MB/s eta 0:00:05\r\u001B[K     |██▍                             | 2.1 MB 6.3 MB/s eta 0:00:05\r\u001B[K     |██▍                             | 2.1 MB 6.3 MB/s eta 0:00:05\r\u001B[K     |██▍                             | 2.1 MB 6.3 MB/s eta 0:00:05\r\u001B[K     |██▍                             | 2.1 MB 6.3 MB/s eta 0:00:05\r\u001B[K     |██▍                             | 2.1 MB 6.3 MB/s eta 0:00:05\r\u001B[K     |██▍                             | 2.1 MB 6.3 MB/s eta 0:00:05\r\u001B[K     |██▍                             | 2.1 MB 6.3 MB/s eta 0:00:05\r\u001B[K     |██▍                             | 2.1 MB 6.3 MB/s eta 0:00:05\r\u001B[K     |██▍                             | 2.2 MB 6.3 MB/s eta 0:00:05\r\u001B[K     |██▌                             | 2.2 MB 6.3 MB/s eta 0:00:05\r\u001B[K     |██▌                             | 2.2 MB 6.3 MB/s eta 0:00:05\r\u001B[K     |██▌                             | 2.2 MB 6.3 MB/s eta 0:00:05\r\u001B[K     |██▌                             | 2.2 MB 6.3 MB/s eta 0:00:05\r\u001B[K     |██▌                             | 2.2 MB 6.3 MB/s eta 0:00:05\r\u001B[K     |██▌                             | 2.2 MB 6.3 MB/s eta 0:00:05\r\u001B[K     |██▌                             | 2.2 MB 6.3 MB/s eta 0:00:05\r\u001B[K     |██▌                             | 2.2 MB 6.3 MB/s eta 0:00:05\r\u001B[K     |██▌                             | 2.2 MB 6.3 MB/s eta 0:00:05\r\u001B[K     |██▋                             | 2.3 MB 6.3 MB/s eta 0:00:05\r\u001B[K     |██▋                             | 2.3 MB 6.3 MB/s eta 0:00:05\r\u001B[K     |██▋                             | 2.3 MB 6.3 MB/s eta 0:00:05\r\u001B[K     |██▋                             | 2.3 MB 6.3 MB/s eta 0:00:05\r\u001B[K     |██▋                             | 2.3 MB 6.3 MB/s eta 0:00:05\r\u001B[K     |██▋                             | 2.3 MB 6.3 MB/s eta 0:00:05\r\u001B[K     |██▋                             | 2.3 MB 6.3 MB/s eta 0:00:05\r\u001B[K     |██▋                             | 2.3 MB 6.3 MB/s eta 0:00:05\r\u001B[K     |██▋                             | 2.3 MB 6.3 MB/s eta 0:00:05\r\u001B[K     |██▋                             | 2.3 MB 6.3 MB/s eta 0:00:05\r\u001B[K     |██▊                             | 2.4 MB 6.3 MB/s eta 0:00:05\r\u001B[K     |██▊                             | 2.4 MB 6.3 MB/s eta 0:00:05\r\u001B[K     |██▊                             | 2.4 MB 6.3 MB/s eta 0:00:05\r\u001B[K     |██▊                             | 2.4 MB 6.3 MB/s eta 0:00:05\r\u001B[K     |██▊                             | 2.4 MB 6.3 MB/s eta 0:00:05\r\u001B[K     |██▊                             | 2.4 MB 6.3 MB/s eta 0:00:05\r\u001B[K     |██▊                             | 2.4 MB 6.3 MB/s eta 0:00:05\r\u001B[K     |██▊                             | 2.4 MB 6.3 MB/s eta 0:00:05\r\u001B[K     |██▊                             | 2.4 MB 6.3 MB/s eta 0:00:05\r\u001B[K     |██▉                             | 2.4 MB 6.3 MB/s eta 0:00:05\r\u001B[K     |██▉                             | 2.5 MB 6.3 MB/s eta 0:00:05\r\u001B[K     |██▉                             | 2.5 MB 6.3 MB/s eta 0:00:05\r\u001B[K     |██▉                             | 2.5 MB 6.3 MB/s eta 0:00:05\r\u001B[K     |██▉                             | 2.5 MB 6.3 MB/s eta 0:00:05\r\u001B[K     |██▉                             | 2.5 MB 6.3 MB/s eta 0:00:05\r\u001B[K     |██▉                             | 2.5 MB 6.3 MB/s eta 0:00:05\r\u001B[K     |██▉                             | 2.5 MB 6.3 MB/s eta 0:00:05\r\u001B[K     |██▉                             | 2.5 MB 6.3 MB/s eta 0:00:05\r\u001B[K     |██▉                             | 2.5 MB 6.3 MB/s eta 0:00:05\r\u001B[K     |███                             | 2.5 MB 6.3 MB/s eta 0:00:05\r\u001B[K     |███                             | 2.6 MB 6.3 MB/s eta 0:00:05\r\u001B[K     |███                             | 2.6 MB 6.3 MB/s eta 0:00:05\r\u001B[K     |███                             | 2.6 MB 6.3 MB/s eta 0:00:05\r\u001B[K     |███                             | 2.6 MB 6.3 MB/s eta 0:00:05\r\u001B[K     |███                             | 2.6 MB 6.3 MB/s eta 0:00:05\r\u001B[K     |███                             | 2.6 MB 6.3 MB/s eta 0:00:05\r\u001B[K     |███                             | 2.6 MB 6.3 MB/s eta 0:00:05\r\u001B[K     |███                             | 2.6 MB 6.3 MB/s eta 0:00:05\r\u001B[K     |███                             | 2.6 MB 6.3 MB/s eta 0:00:05\r\u001B[K     |███                             | 2.7 MB 6.3 MB/s eta 0:00:05\r\u001B[K     |███                             | 2.7 MB 6.3 MB/s eta 0:00:05\r\u001B[K     |███                             | 2.7 MB 6.3 MB/s eta 0:00:05\r\u001B[K     |███                             | 2.7 MB 6.3 MB/s eta 0:00:05\r\u001B[K     |███                             | 2.7 MB 6.3 MB/s eta 0:00:05\r\u001B[K     |███                             | 2.7 MB 6.3 MB/s eta 0:00:05\r\u001B[K     |███                             | 2.7 MB 6.3 MB/s eta 0:00:05\r\u001B[K     |███                             | 2.7 MB 6.3 MB/s eta 0:00:05\r\u001B[K     |███                             | 2.7 MB 6.3 MB/s eta 0:00:05\r\u001B[K     |███▏                            | 2.7 MB 6.3 MB/s eta 0:00:05\r\u001B[K     |███▏                            | 2.8 MB 6.3 MB/s eta 0:00:05\r\u001B[K     |███▏                            | 2.8 MB 6.3 MB/s eta 0:00:05\r\u001B[K     |███▏                            | 2.8 MB 6.3 MB/s eta 0:00:05\r\u001B[K     |███▏                            | 2.8 MB 6.3 MB/s eta 0:00:05\r\u001B[K     |███▏                            | 2.8 MB 6.3 MB/s eta 0:00:05\r\u001B[K     |███▏                            | 2.8 MB 6.3 MB/s eta 0:00:05\r\u001B[K     |███▏                            | 2.8 MB 6.3 MB/s eta 0:00:05\r\u001B[K     |███▏                            | 2.8 MB 6.3 MB/s eta 0:00:05\r\u001B[K     |███▎                            | 2.8 MB 6.3 MB/s eta 0:00:05\r\u001B[K     |███▎                            | 2.8 MB 6.3 MB/s eta 0:00:05\r\u001B[K     |███▎                            | 2.9 MB 6.3 MB/s eta 0:00:05\r\u001B[K     |███▎                            | 2.9 MB 6.3 MB/s eta 0:00:05\r\u001B[K     |███▎                            | 2.9 MB 6.3 MB/s eta 0:00:05\r\u001B[K     |███▎                            | 2.9 MB 6.3 MB/s eta 0:00:05\r\u001B[K     |███▎                            | 2.9 MB 6.3 MB/s eta 0:00:05\r\u001B[K     |███▎                            | 2.9 MB 6.3 MB/s eta 0:00:05\r\u001B[K     |███▎                            | 2.9 MB 6.3 MB/s eta 0:00:05\r\u001B[K     |███▎                            | 2.9 MB 6.3 MB/s eta 0:00:05\r\u001B[K     |███▍                            | 2.9 MB 6.3 MB/s eta 0:00:05\r\u001B[K     |███▍                            | 2.9 MB 6.3 MB/s eta 0:00:05\r\u001B[K     |███▍                            | 3.0 MB 6.3 MB/s eta 0:00:05\r\u001B[K     |███▍                            | 3.0 MB 6.3 MB/s eta 0:00:05\r\u001B[K     |███▍                            | 3.0 MB 6.3 MB/s eta 0:00:05\r\u001B[K     |███▍                            | 3.0 MB 6.3 MB/s eta 0:00:04\r\u001B[K     |███▍                            | 3.0 MB 6.3 MB/s eta 0:00:04\r\u001B[K     |███▍                            | 3.0 MB 6.3 MB/s eta 0:00:04\r\u001B[K     |███▍                            | 3.0 MB 6.3 MB/s eta 0:00:04\r\u001B[K     |███▍                            | 3.0 MB 6.3 MB/s eta 0:00:04\r\u001B[K     |███▌                            | 3.0 MB 6.3 MB/s eta 0:00:04\r\u001B[K     |███▌                            | 3.1 MB 6.3 MB/s eta 0:00:04\r\u001B[K     |███▌                            | 3.1 MB 6.3 MB/s eta 0:00:04\r\u001B[K     |███▌                            | 3.1 MB 6.3 MB/s eta 0:00:04\r\u001B[K     |███▌                            | 3.1 MB 6.3 MB/s eta 0:00:04\r\u001B[K     |███▌                            | 3.1 MB 6.3 MB/s eta 0:00:04\r\u001B[K     |███▌                            | 3.1 MB 6.3 MB/s eta 0:00:04\r\u001B[K     |███▌                            | 3.1 MB 6.3 MB/s eta 0:00:04\r\u001B[K     |███▌                            | 3.1 MB 6.3 MB/s eta 0:00:04\r\u001B[K     |███▋                            | 3.1 MB 6.3 MB/s eta 0:00:04\r\u001B[K     |███▋                            | 3.1 MB 6.3 MB/s eta 0:00:04\r\u001B[K     |███▋                            | 3.2 MB 6.3 MB/s eta 0:00:04\r\u001B[K     |███▋                            | 3.2 MB 6.3 MB/s eta 0:00:04\r\u001B[K     |███▋                            | 3.2 MB 6.3 MB/s eta 0:00:04\r\u001B[K     |███▋                            | 3.2 MB 6.3 MB/s eta 0:00:04\r\u001B[K     |███▋                            | 3.2 MB 6.3 MB/s eta 0:00:04\r\u001B[K     |███▋                            | 3.2 MB 6.3 MB/s eta 0:00:04\r\u001B[K     |███▋                            | 3.2 MB 6.3 MB/s eta 0:00:04\r\u001B[K     |███▋                            | 3.2 MB 6.3 MB/s eta 0:00:04\r\u001B[K     |███▊                            | 3.2 MB 6.3 MB/s eta 0:00:04\r\u001B[K     |███▊                            | 3.2 MB 6.3 MB/s eta 0:00:04\r\u001B[K     |███▊                            | 3.3 MB 6.3 MB/s eta 0:00:04\r\u001B[K     |███▊                            | 3.3 MB 6.3 MB/s eta 0:00:04\r\u001B[K     |███▊                            | 3.3 MB 6.3 MB/s eta 0:00:04\r\u001B[K     |███▊                            | 3.3 MB 6.3 MB/s eta 0:00:04\r\u001B[K     |███▊                            | 3.3 MB 6.3 MB/s eta 0:00:04\r\u001B[K     |███▊                            | 3.3 MB 6.3 MB/s eta 0:00:04\r\u001B[K     |███▊                            | 3.3 MB 6.3 MB/s eta 0:00:04\r\u001B[K     |███▉                            | 3.3 MB 6.3 MB/s eta 0:00:04\r\u001B[K     |███▉                            | 3.3 MB 6.3 MB/s eta 0:00:04\r\u001B[K     |███▉                            | 3.3 MB 6.3 MB/s eta 0:00:04\r\u001B[K     |███▉                            | 3.4 MB 6.3 MB/s eta 0:00:04\r\u001B[K     |███▉                            | 3.4 MB 6.3 MB/s eta 0:00:04\r\u001B[K     |███▉                            | 3.4 MB 6.3 MB/s eta 0:00:04\r\u001B[K     |███▉                            | 3.4 MB 6.3 MB/s eta 0:00:04\r\u001B[K     |███▉                            | 3.4 MB 6.3 MB/s eta 0:00:04\r\u001B[K     |███▉                            | 3.4 MB 6.3 MB/s eta 0:00:04\r\u001B[K     |███▉                            | 3.4 MB 6.3 MB/s eta 0:00:04\r\u001B[K     |████                            | 3.4 MB 6.3 MB/s eta 0:00:04\r\u001B[K     |████                            | 3.4 MB 6.3 MB/s eta 0:00:04\r\u001B[K     |████                            | 3.5 MB 6.3 MB/s eta 0:00:04\r\u001B[K     |████                            | 3.5 MB 6.3 MB/s eta 0:00:04\r\u001B[K     |████                            | 3.5 MB 6.3 MB/s eta 0:00:04\r\u001B[K     |████                            | 3.5 MB 6.3 MB/s eta 0:00:04\r\u001B[K     |████                            | 3.5 MB 6.3 MB/s eta 0:00:04\r\u001B[K     |████                            | 3.5 MB 6.3 MB/s eta 0:00:04\r\u001B[K     |████                            | 3.5 MB 6.3 MB/s eta 0:00:04\r\u001B[K     |████                            | 3.5 MB 6.3 MB/s eta 0:00:04\r\u001B[K     |████                            | 3.5 MB 6.3 MB/s eta 0:00:04\r\u001B[K     |████                            | 3.5 MB 6.3 MB/s eta 0:00:04\r\u001B[K     |████                            | 3.6 MB 6.3 MB/s eta 0:00:04\r\u001B[K     |████                            | 3.6 MB 6.3 MB/s eta 0:00:04\r\u001B[K     |████                            | 3.6 MB 6.3 MB/s eta 0:00:04\r\u001B[K     |████                            | 3.6 MB 6.3 MB/s eta 0:00:04\r\u001B[K     |████                            | 3.6 MB 6.3 MB/s eta 0:00:04\r\u001B[K  \n\n*** WARNING: max output size exceeded, skipping output. ***\n\n████████▊                | 40 kB 65.5 MB/s eta 0:00:01\r\u001B[K     |███████████████████▊            | 51 kB 72.1 MB/s eta 0:00:01\r\u001B[K     |███████████████████████▋        | 61 kB 79.7 MB/s eta 0:00:01\r\u001B[K     |███████████████████████████▋    | 71 kB 83.4 MB/s eta 0:00:01\r\u001B[K     |███████████████████████████████▌| 81 kB 89.6 MB/s eta 0:00:01\r\u001B[K     |████████████████████████████████| 83 kB 2.8 MB/s \r\n\u001B[?25hCollecting annotated-types>=0.6.0\r\n  Downloading annotated_types-0.7.0-py3-none-any.whl (13 kB)\r\nCollecting pydantic-core==2.27.2\r\n  Downloading pydantic_core-2.27.2-cp39-cp39-manylinux_2_17_x86_64.manylinux2014_x86_64.whl (2.0 MB)\r\n\u001B[?25l\r\u001B[K     |▏                               | 10 kB 15.2 MB/s eta 0:00:01\r\u001B[K     |▎                               | 20 kB 17.6 MB/s eta 0:00:01\r\u001B[K     |▌                               | 30 kB 21.8 MB/s eta 0:00:01\r\u001B[K     |▋                               | 40 kB 22.4 MB/s eta 0:00:01\r\u001B[K     |▉                               | 51 kB 23.2 MB/s eta 0:00:01\r\u001B[K     |█                               | 61 kB 25.8 MB/s eta 0:00:01\r\u001B[K     |█▏                              | 71 kB 25.9 MB/s eta 0:00:01\r\u001B[K     |█▎                              | 81 kB 27.7 MB/s eta 0:00:01\r\u001B[K     |█▌                              | 92 kB 30.0 MB/s eta 0:00:01\r\u001B[K     |█▋                              | 102 kB 32.3 MB/s eta 0:00:01\r\u001B[K     |█▉                              | 112 kB 32.3 MB/s eta 0:00:01\r\u001B[K     |██                              | 122 kB 32.3 MB/s eta 0:00:01\r\u001B[K     |██▏                             | 133 kB 32.3 MB/s eta 0:00:01\r\u001B[K     |██▎                             | 143 kB 32.3 MB/s eta 0:00:01\r\u001B[K     |██▌                             | 153 kB 32.3 MB/s eta 0:00:01\r\u001B[K     |██▋                             | 163 kB 32.3 MB/s eta 0:00:01\r\u001B[K     |██▉                             | 174 kB 32.3 MB/s eta 0:00:01\r\u001B[K     |███                             | 184 kB 32.3 MB/s eta 0:00:01\r\u001B[K     |███▏                            | 194 kB 32.3 MB/s eta 0:00:01\r\u001B[K     |███▎                            | 204 kB 32.3 MB/s eta 0:00:01\r\u001B[K     |███▌                            | 215 kB 32.3 MB/s eta 0:00:01\r\u001B[K     |███▋                            | 225 kB 32.3 MB/s eta 0:00:01\r\u001B[K     |███▊                            | 235 kB 32.3 MB/s eta 0:00:01\r\u001B[K     |████                            | 245 kB 32.3 MB/s eta 0:00:01\r\u001B[K     |████                            | 256 kB 32.3 MB/s eta 0:00:01\r\u001B[K     |████▎                           | 266 kB 32.3 MB/s eta 0:00:01\r\u001B[K     |████▍                           | 276 kB 32.3 MB/s eta 0:00:01\r\u001B[K     |████▋                           | 286 kB 32.3 MB/s eta 0:00:01\r\u001B[K     |████▊                           | 296 kB 32.3 MB/s eta 0:00:01\r\u001B[K     |█████                           | 307 kB 32.3 MB/s eta 0:00:01\r\u001B[K     |█████                           | 317 kB 32.3 MB/s eta 0:00:01\r\u001B[K     |█████▎                          | 327 kB 32.3 MB/s eta 0:00:01\r\u001B[K     |█████▍                          | 337 kB 32.3 MB/s eta 0:00:01\r\u001B[K     |█████▋                          | 348 kB 32.3 MB/s eta 0:00:01\r\u001B[K     |█████▊                          | 358 kB 32.3 MB/s eta 0:00:01\r\u001B[K     |██████                          | 368 kB 32.3 MB/s eta 0:00:01\r\u001B[K     |██████                          | 378 kB 32.3 MB/s eta 0:00:01\r\u001B[K     |██████▎                         | 389 kB 32.3 MB/s eta 0:00:01\r\u001B[K     |██████▍                         | 399 kB 32.3 MB/s eta 0:00:01\r\u001B[K     |██████▋                         | 409 kB 32.3 MB/s eta 0:00:01\r\u001B[K     |██████▊                         | 419 kB 32.3 MB/s eta 0:00:01\r\u001B[K     |███████                         | 430 kB 32.3 MB/s eta 0:00:01\r\u001B[K     |███████                         | 440 kB 32.3 MB/s eta 0:00:01\r\u001B[K     |███████▎                        | 450 kB 32.3 MB/s eta 0:00:01\r\u001B[K     |███████▍                        | 460 kB 32.3 MB/s eta 0:00:01\r\u001B[K     |███████▌                        | 471 kB 32.3 MB/s eta 0:00:01\r\u001B[K     |███████▊                        | 481 kB 32.3 MB/s eta 0:00:01\r\u001B[K     |███████▉                        | 491 kB 32.3 MB/s eta 0:00:01\r\u001B[K     |████████                        | 501 kB 32.3 MB/s eta 0:00:01\r\u001B[K     |████████▏                       | 512 kB 32.3 MB/s eta 0:00:01\r\u001B[K     |████████▍                       | 522 kB 32.3 MB/s eta 0:00:01\r\u001B[K     |████████▌                       | 532 kB 32.3 MB/s eta 0:00:01\r\u001B[K     |████████▊                       | 542 kB 32.3 MB/s eta 0:00:01\r\u001B[K     |████████▉                       | 552 kB 32.3 MB/s eta 0:00:01\r\u001B[K     |█████████                       | 563 kB 32.3 MB/s eta 0:00:01\r\u001B[K     |█████████▏                      | 573 kB 32.3 MB/s eta 0:00:01\r\u001B[K     |█████████▍                      | 583 kB 32.3 MB/s eta 0:00:01\r\u001B[K     |█████████▌                      | 593 kB 32.3 MB/s eta 0:00:01\r\u001B[K     |█████████▊                      | 604 kB 32.3 MB/s eta 0:00:01\r\u001B[K     |█████████▉                      | 614 kB 32.3 MB/s eta 0:00:01\r\u001B[K     |██████████                      | 624 kB 32.3 MB/s eta 0:00:01\r\u001B[K     |██████████▏                     | 634 kB 32.3 MB/s eta 0:00:01\r\u001B[K     |██████████▍                     | 645 kB 32.3 MB/s eta 0:00:01\r\u001B[K     |██████████▌                     | 655 kB 32.3 MB/s eta 0:00:01\r\u001B[K     |██████████▊                     | 665 kB 32.3 MB/s eta 0:00:01\r\u001B[K     |██████████▉                     | 675 kB 32.3 MB/s eta 0:00:01\r\u001B[K     |███████████                     | 686 kB 32.3 MB/s eta 0:00:01\r\u001B[K     |███████████▏                    | 696 kB 32.3 MB/s eta 0:00:01\r\u001B[K     |███████████▎                    | 706 kB 32.3 MB/s eta 0:00:01\r\u001B[K     |███████████▌                    | 716 kB 32.3 MB/s eta 0:00:01\r\u001B[K     |███████████▋                    | 727 kB 32.3 MB/s eta 0:00:01\r\u001B[K     |███████████▉                    | 737 kB 32.3 MB/s eta 0:00:01\r\u001B[K     |████████████                    | 747 kB 32.3 MB/s eta 0:00:01\r\u001B[K     |████████████▏                   | 757 kB 32.3 MB/s eta 0:00:01\r\u001B[K     |████████████▎                   | 768 kB 32.3 MB/s eta 0:00:01\r\u001B[K     |████████████▌                   | 778 kB 32.3 MB/s eta 0:00:01\r\u001B[K     |████████████▋                   | 788 kB 32.3 MB/s eta 0:00:01\r\u001B[K     |████████████▉                   | 798 kB 32.3 MB/s eta 0:00:01\r\u001B[K     |█████████████                   | 808 kB 32.3 MB/s eta 0:00:01\r\u001B[K     |█████████████▏                  | 819 kB 32.3 MB/s eta 0:00:01\r\u001B[K     |█████████████▎                  | 829 kB 32.3 MB/s eta 0:00:01\r\u001B[K     |█████████████▌                  | 839 kB 32.3 MB/s eta 0:00:01\r\u001B[K     |█████████████▋                  | 849 kB 32.3 MB/s eta 0:00:01\r\u001B[K     |█████████████▉                  | 860 kB 32.3 MB/s eta 0:00:01\r\u001B[K     |██████████████                  | 870 kB 32.3 MB/s eta 0:00:01\r\u001B[K     |██████████████▏                 | 880 kB 32.3 MB/s eta 0:00:01\r\u001B[K     |██████████████▎                 | 890 kB 32.3 MB/s eta 0:00:01\r\u001B[K     |██████████████▌                 | 901 kB 32.3 MB/s eta 0:00:01\r\u001B[K     |██████████████▋                 | 911 kB 32.3 MB/s eta 0:00:01\r\u001B[K     |██████████████▊                 | 921 kB 32.3 MB/s eta 0:00:01\r\u001B[K     |███████████████                 | 931 kB 32.3 MB/s eta 0:00:01\r\u001B[K     |███████████████                 | 942 kB 32.3 MB/s eta 0:00:01\r\u001B[K     |███████████████▎                | 952 kB 32.3 MB/s eta 0:00:01\r\u001B[K     |███████████████▍                | 962 kB 32.3 MB/s eta 0:00:01\r\u001B[K     |███████████████▋                | 972 kB 32.3 MB/s eta 0:00:01\r\u001B[K     |███████████████▊                | 983 kB 32.3 MB/s eta 0:00:01\r\u001B[K     |████████████████                | 993 kB 32.3 MB/s eta 0:00:01\r\u001B[K     |████████████████                | 1.0 MB 32.3 MB/s eta 0:00:01\r\u001B[K     |████████████████▎               | 1.0 MB 32.3 MB/s eta 0:00:01\r\u001B[K     |████████████████▍               | 1.0 MB 32.3 MB/s eta 0:00:01\r\u001B[K     |████████████████▋               | 1.0 MB 32.3 MB/s eta 0:00:01\r\u001B[K     |████████████████▊               | 1.0 MB 32.3 MB/s eta 0:00:01\r\u001B[K     |█████████████████               | 1.1 MB 32.3 MB/s eta 0:00:01\r\u001B[K     |█████████████████               | 1.1 MB 32.3 MB/s eta 0:00:01\r\u001B[K     |█████████████████▎              | 1.1 MB 32.3 MB/s eta 0:00:01\r\u001B[K     |█████████████████▍              | 1.1 MB 32.3 MB/s eta 0:00:01\r\u001B[K     |█████████████████▋              | 1.1 MB 32.3 MB/s eta 0:00:01\r\u001B[K     |█████████████████▊              | 1.1 MB 32.3 MB/s eta 0:00:01\r\u001B[K     |██████████████████              | 1.1 MB 32.3 MB/s eta 0:00:01\r\u001B[K     |██████████████████              | 1.1 MB 32.3 MB/s eta 0:00:01\r\u001B[K     |██████████████████▎             | 1.1 MB 32.3 MB/s eta 0:00:01\r\u001B[K     |██████████████████▍             | 1.1 MB 32.3 MB/s eta 0:00:01\r\u001B[K     |██████████████████▌             | 1.2 MB 32.3 MB/s eta 0:00:01\r\u001B[K     |██████████████████▊             | 1.2 MB 32.3 MB/s eta 0:00:01\r\u001B[K     |██████████████████▉             | 1.2 MB 32.3 MB/s eta 0:00:01\r\u001B[K     |███████████████████             | 1.2 MB 32.3 MB/s eta 0:00:01\r\u001B[K     |███████████████████▏            | 1.2 MB 32.3 MB/s eta 0:00:01\r\u001B[K     |███████████████████▍            | 1.2 MB 32.3 MB/s eta 0:00:01\r\u001B[K     |███████████████████▌            | 1.2 MB 32.3 MB/s eta 0:00:01\r\u001B[K     |███████████████████▊            | 1.2 MB 32.3 MB/s eta 0:00:01\r\u001B[K     |███████████████████▉            | 1.2 MB 32.3 MB/s eta 0:00:01\r\u001B[K     |████████████████████            | 1.2 MB 32.3 MB/s eta 0:00:01\r\u001B[K     |████████████████████▏           | 1.3 MB 32.3 MB/s eta 0:00:01\r\u001B[K     |████████████████████▍           | 1.3 MB 32.3 MB/s eta 0:00:01\r\u001B[K     |████████████████████▌           | 1.3 MB 32.3 MB/s eta 0:00:01\r\u001B[K     |████████████████████▊           | 1.3 MB 32.3 MB/s eta 0:00:01\r\u001B[K     |████████████████████▉           | 1.3 MB 32.3 MB/s eta 0:00:01\r\u001B[K     |█████████████████████           | 1.3 MB 32.3 MB/s eta 0:00:01\r\u001B[K     |█████████████████████▏          | 1.3 MB 32.3 MB/s eta 0:00:01\r\u001B[K     |█████████████████████▍          | 1.3 MB 32.3 MB/s eta 0:00:01\r\u001B[K     |█████████████████████▌          | 1.3 MB 32.3 MB/s eta 0:00:01\r\u001B[K     |█████████████████████▊          | 1.4 MB 32.3 MB/s eta 0:00:01\r\u001B[K     |█████████████████████▉          | 1.4 MB 32.3 MB/s eta 0:00:01\r\u001B[K     |██████████████████████          | 1.4 MB 32.3 MB/s eta 0:00:01\r\u001B[K     |██████████████████████▏         | 1.4 MB 32.3 MB/s eta 0:00:01\r\u001B[K     |██████████████████████▎         | 1.4 MB 32.3 MB/s eta 0:00:01\r\u001B[K     |██████████████████████▌         | 1.4 MB 32.3 MB/s eta 0:00:01\r\u001B[K     |██████████████████████▋         | 1.4 MB 32.3 MB/s eta 0:00:01\r\u001B[K     |██████████████████████▉         | 1.4 MB 32.3 MB/s eta 0:00:01\r\u001B[K     |███████████████████████         | 1.4 MB 32.3 MB/s eta 0:00:01\r\u001B[K     |███████████████████████▏        | 1.4 MB 32.3 MB/s eta 0:00:01\r\u001B[K     |███████████████████████▎        | 1.5 MB 32.3 MB/s eta 0:00:01\r\u001B[K     |███████████████████████▌        | 1.5 MB 32.3 MB/s eta 0:00:01\r\u001B[K     |███████████████████████▋        | 1.5 MB 32.3 MB/s eta 0:00:01\r\u001B[K     |███████████████████████▉        | 1.5 MB 32.3 MB/s eta 0:00:01\r\u001B[K     |████████████████████████        | 1.5 MB 32.3 MB/s eta 0:00:01\r\u001B[K     |████████████████████████▏       | 1.5 MB 32.3 MB/s eta 0:00:01\r\u001B[K     |████████████████████████▎       | 1.5 MB 32.3 MB/s eta 0:00:01\r\u001B[K     |████████████████████████▌       | 1.5 MB 32.3 MB/s eta 0:00:01\r\u001B[K     |████████████████████████▋       | 1.5 MB 32.3 MB/s eta 0:00:01\r\u001B[K     |████████████████████████▉       | 1.5 MB 32.3 MB/s eta 0:00:01\r\u001B[K     |█████████████████████████       | 1.6 MB 32.3 MB/s eta 0:00:01\r\u001B[K     |█████████████████████████▏      | 1.6 MB 32.3 MB/s eta 0:00:01\r\u001B[K     |█████████████████████████▎      | 1.6 MB 32.3 MB/s eta 0:00:01\r\u001B[K     |█████████████████████████▌      | 1.6 MB 32.3 MB/s eta 0:00:01\r\u001B[K     |█████████████████████████▋      | 1.6 MB 32.3 MB/s eta 0:00:01\r\u001B[K     |█████████████████████████▉      | 1.6 MB 32.3 MB/s eta 0:00:01\r\u001B[K     |██████████████████████████      | 1.6 MB 32.3 MB/s eta 0:00:01\r\u001B[K     |██████████████████████████      | 1.6 MB 32.3 MB/s eta 0:00:01\r\u001B[K     |██████████████████████████▎     | 1.6 MB 32.3 MB/s eta 0:00:01\r\u001B[K     |██████████████████████████▍     | 1.6 MB 32.3 MB/s eta 0:00:01\r\u001B[K     |██████████████████████████▋     | 1.7 MB 32.3 MB/s eta 0:00:01\r\u001B[K     |██████████████████████████▊     | 1.7 MB 32.3 MB/s eta 0:00:01\r\u001B[K     |███████████████████████████     | 1.7 MB 32.3 MB/s eta 0:00:01\r\u001B[K     |███████████████████████████     | 1.7 MB 32.3 MB/s eta 0:00:01\r\u001B[K     |███████████████████████████▎    | 1.7 MB 32.3 MB/s eta 0:00:01\r\u001B[K     |███████████████████████████▍    | 1.7 MB 32.3 MB/s eta 0:00:01\r\u001B[K     |███████████████████████████▋    | 1.7 MB 32.3 MB/s eta 0:00:01\r\u001B[K     |███████████████████████████▊    | 1.7 MB 32.3 MB/s eta 0:00:01\r\u001B[K     |████████████████████████████    | 1.7 MB 32.3 MB/s eta 0:00:01\r\u001B[K     |████████████████████████████    | 1.8 MB 32.3 MB/s eta 0:00:01\r\u001B[K     |████████████████████████████▎   | 1.8 MB 32.3 MB/s eta 0:00:01\r\u001B[K     |████████████████████████████▍   | 1.8 MB 32.3 MB/s eta 0:00:01\r\u001B[K     |████████████████████████████▋   | 1.8 MB 32.3 MB/s eta 0:00:01\r\u001B[K     |████████████████████████████▊   | 1.8 MB 32.3 MB/s eta 0:00:01\r\u001B[K     |█████████████████████████████   | 1.8 MB 32.3 MB/s eta 0:00:01\r\u001B[K     |█████████████████████████████   | 1.8 MB 32.3 MB/s eta 0:00:01\r\u001B[K     |█████████████████████████████▎  | 1.8 MB 32.3 MB/s eta 0:00:01\r\u001B[K     |█████████████████████████████▍  | 1.8 MB 32.3 MB/s eta 0:00:01\r\u001B[K     |█████████████████████████████▌  | 1.8 MB 32.3 MB/s eta 0:00:01\r\u001B[K     |█████████████████████████████▊  | 1.9 MB 32.3 MB/s eta 0:00:01\r\u001B[K     |█████████████████████████████▉  | 1.9 MB 32.3 MB/s eta 0:00:01\r\u001B[K     |██████████████████████████████  | 1.9 MB 32.3 MB/s eta 0:00:01\r\u001B[K     |██████████████████████████████▏ | 1.9 MB 32.3 MB/s eta 0:00:01\r\u001B[K     |██████████████████████████████▍ | 1.9 MB 32.3 MB/s eta 0:00:01\r\u001B[K     |██████████████████████████████▌ | 1.9 MB 32.3 MB/s eta 0:00:01\r\u001B[K     |██████████████████████████████▊ | 1.9 MB 32.3 MB/s eta 0:00:01\r\u001B[K     |██████████████████████████████▉ | 1.9 MB 32.3 MB/s eta 0:00:01\r\u001B[K     |███████████████████████████████ | 1.9 MB 32.3 MB/s eta 0:00:01\r\u001B[K     |███████████████████████████████▏| 1.9 MB 32.3 MB/s eta 0:00:01\r\u001B[K     |███████████████████████████████▍| 2.0 MB 32.3 MB/s eta 0:00:01\r\u001B[K     |███████████████████████████████▌| 2.0 MB 32.3 MB/s eta 0:00:01\r\u001B[K     |███████████████████████████████▊| 2.0 MB 32.3 MB/s eta 0:00:01\r\u001B[K     |███████████████████████████████▉| 2.0 MB 32.3 MB/s eta 0:00:01\r\u001B[K     |████████████████████████████████| 2.0 MB 32.3 MB/s \r\n\u001B[?25hRequirement already satisfied: six>=1.5 in /databricks/python3/lib/python3.9/site-packages (from python-dateutil<3,>=2.7.0->graphene<4->mlflow) (1.16.0)\r\nRequirement already satisfied: certifi>=2017.4.17 in /databricks/python3/lib/python3.9/site-packages (from requests<3,>=2.17.3->mlflow-skinny==2.21.0->mlflow) (2021.10.8)\r\nRequirement already satisfied: idna<4,>=2.5 in /databricks/python3/lib/python3.9/site-packages (from requests<3,>=2.17.3->mlflow-skinny==2.21.0->mlflow) (3.3)\r\nRequirement already satisfied: charset-normalizer<4,>=2 in /databricks/python3/lib/python3.9/site-packages (from requests<3,>=2.17.3->mlflow-skinny==2.21.0->mlflow) (2.0.4)\r\nRequirement already satisfied: joblib>=0.11 in /databricks/python3/lib/python3.9/site-packages (from scikit-learn<2->mlflow) (1.1.1)\r\nRequirement already satisfied: threadpoolctl>=2.0.0 in /databricks/python3/lib/python3.9/site-packages (from scikit-learn<2->mlflow) (2.2.0)\r\nCollecting greenlet!=0.4.17\r\n  Downloading greenlet-3.1.1-cp39-cp39-manylinux_2_24_x86_64.manylinux_2_28_x86_64.whl (597 kB)\r\n\u001B[?25l\r\u001B[K     |▌                               | 10 kB 41.3 MB/s eta 0:00:01\r\u001B[K     |█                               | 20 kB 48.0 MB/s eta 0:00:01\r\u001B[K     |█▋                              | 30 kB 58.1 MB/s eta 0:00:01\r\u001B[K     |██▏                             | 40 kB 66.7 MB/s eta 0:00:01\r\u001B[K     |██▊                             | 51 kB 71.8 MB/s eta 0:00:01\r\u001B[K     |███▎                            | 61 kB 79.7 MB/s eta 0:00:01\r\u001B[K     |███▉                            | 71 kB 86.2 MB/s eta 0:00:01\r\u001B[K     |████▍                           | 81 kB 90.9 MB/s eta 0:00:01\r\u001B[K     |█████                           | 92 kB 92.4 MB/s eta 0:00:01\r\u001B[K     |█████▌                          | 102 kB 95.9 MB/s eta 0:00:01\r\u001B[K     |██████                          | 112 kB 95.9 MB/s eta 0:00:01\r\u001B[K     |██████▋                         | 122 kB 95.9 MB/s eta 0:00:01\r\u001B[K     |███████▏                        | 133 kB 95.9 MB/s eta 0:00:01\r\u001B[K     |███████▊                        | 143 kB 95.9 MB/s eta 0:00:01\r\u001B[K     |████████▎                       | 153 kB 95.9 MB/s eta 0:00:01\r\u001B[K     |████████▊                       | 163 kB 95.9 MB/s eta 0:00:01\r\u001B[K     |█████████▎                      | 174 kB 95.9 MB/s eta 0:00:01\r\u001B[K     |█████████▉                      | 184 kB 95.9 MB/s eta 0:00:01\r\u001B[K     |██████████▍                     | 194 kB 95.9 MB/s eta 0:00:01\r\u001B[K     |███████████                     | 204 kB 95.9 MB/s eta 0:00:01\r\u001B[K     |███████████▌                    | 215 kB 95.9 MB/s eta 0:00:01\r\u001B[K     |████████████                    | 225 kB 95.9 MB/s eta 0:00:01\r\u001B[K     |████████████▋                   | 235 kB 95.9 MB/s eta 0:00:01\r\u001B[K     |█████████████▏                  | 245 kB 95.9 MB/s eta 0:00:01\r\u001B[K     |█████████████▊                  | 256 kB 95.9 MB/s eta 0:00:01\r\u001B[K     |██████████████▎                 | 266 kB 95.9 MB/s eta 0:00:01\r\u001B[K     |██████████████▉                 | 276 kB 95.9 MB/s eta 0:00:01\r\u001B[K     |███████████████▍                | 286 kB 95.9 MB/s eta 0:00:01\r\u001B[K     |████████████████                | 296 kB 95.9 MB/s eta 0:00:01\r\u001B[K     |████████████████▌               | 307 kB 95.9 MB/s eta 0:00:01\r\u001B[K     |█████████████████               | 317 kB 95.9 MB/s eta 0:00:01\r\u001B[K     |█████████████████▌              | 327 kB 95.9 MB/s eta 0:00:01\r\u001B[K     |██████████████████              | 337 kB 95.9 MB/s eta 0:00:01\r\u001B[K     |██████████████████▋             | 348 kB 95.9 MB/s eta 0:00:01\r\u001B[K     |███████████████████▏            | 358 kB 95.9 MB/s eta 0:00:01\r\u001B[K     |███████████████████▊            | 368 kB 95.9 MB/s eta 0:00:01\r\u001B[K     |████████████████████▎           | 378 kB 95.9 MB/s eta 0:00:01\r\u001B[K     |████████████████████▉           | 389 kB 95.9 MB/s eta 0:00:01\r\u001B[K     |█████████████████████▍          | 399 kB 95.9 MB/s eta 0:00:01\r\u001B[K     |██████████████████████          | 409 kB 95.9 MB/s eta 0:00:01\r\u001B[K     |██████████████████████▌         | 419 kB 95.9 MB/s eta 0:00:01\r\u001B[K     |███████████████████████         | 430 kB 95.9 MB/s eta 0:00:01\r\u001B[K     |███████████████████████▋        | 440 kB 95.9 MB/s eta 0:00:01\r\u001B[K     |████████████████████████▏       | 450 kB 95.9 MB/s eta 0:00:01\r\u001B[K     |████████████████████████▊       | 460 kB 95.9 MB/s eta 0:00:01\r\u001B[K     |█████████████████████████▎      | 471 kB 95.9 MB/s eta 0:00:01\r\u001B[K     |█████████████████████████▉      | 481 kB 95.9 MB/s eta 0:00:01\r\u001B[K     |██████████████████████████▎     | 491 kB 95.9 MB/s eta 0:00:01\r\u001B[K     |██████████████████████████▉     | 501 kB 95.9 MB/s eta 0:00:01\r\u001B[K     |███████████████████████████▍    | 512 kB 95.9 MB/s eta 0:00:01\r\u001B[K     |████████████████████████████    | 522 kB 95.9 MB/s eta 0:00:01\r\u001B[K     |████████████████████████████▌   | 532 kB 95.9 MB/s eta 0:00:01\r\u001B[K     |█████████████████████████████   | 542 kB 95.9 MB/s eta 0:00:01\r\u001B[K     |█████████████████████████████▋  | 552 kB 95.9 MB/s eta 0:00:01\r\u001B[K     |██████████████████████████████▏ | 563 kB 95.9 MB/s eta 0:00:01\r\u001B[K     |██████████████████████████████▊ | 573 kB 95.9 MB/s eta 0:00:01\r\u001B[K     |███████████████████████████████▎| 583 kB 95.9 MB/s eta 0:00:01\r\u001B[K     |███████████████████████████████▉| 593 kB 95.9 MB/s eta 0:00:01\r\u001B[K     |████████████████████████████████| 597 kB 95.9 MB/s \r\n\u001B[?25hCollecting anyio<5,>=3.6.2\r\n  Downloading anyio-4.9.0-py3-none-any.whl (100 kB)\r\n\u001B[?25l\r\u001B[K     |███▎                            | 10 kB 14.3 MB/s eta 0:00:01\r\u001B[K     |██████▌                         | 20 kB 22.8 MB/s eta 0:00:01\r\u001B[K     |█████████▊                      | 30 kB 30.9 MB/s eta 0:00:01\r\u001B[K     |█████████████                   | 40 kB 38.4 MB/s eta 0:00:01\r\u001B[K     |████████████████▎               | 51 kB 44.6 MB/s eta 0:00:01\r\u001B[K     |███████████████████▌            | 61 kB 49.2 MB/s eta 0:00:01\r\u001B[K     |██████████████████████▊         | 71 kB 40.0 MB/s eta 0:00:01\r\u001B[K     |██████████████████████████      | 81 kB 43.8 MB/s eta 0:00:01\r\u001B[K     |█████████████████████████████▎  | 92 kB 47.6 MB/s eta 0:00:01\r\u001B[K     |████████████████████████████████| 100 kB 13.1 MB/s \r\n\u001B[?25hCollecting sniffio>=1.1\r\n  Downloading sniffio-1.3.1-py3-none-any.whl (10 kB)\r\nCollecting exceptiongroup>=1.0.2\r\n  Downloading exceptiongroup-1.2.2-py3-none-any.whl (16 kB)\r\nCollecting h11>=0.8\r\n  Downloading h11-0.14.0-py3-none-any.whl (58 kB)\r\n\u001B[?25l\r\u001B[K     |█████▋                          | 10 kB 36.1 MB/s eta 0:00:01\r\u001B[K     |███████████▎                    | 20 kB 50.6 MB/s eta 0:00:01\r\u001B[K     |████████████████▉               | 30 kB 64.8 MB/s eta 0:00:01\r\u001B[K     |██████████████████████▌         | 40 kB 75.8 MB/s eta 0:00:01\r\u001B[K     |████████████████████████████▏   | 51 kB 80.8 MB/s eta 0:00:01\r\u001B[K     |████████████████████████████████| 58 kB 5.9 MB/s \r\n\u001B[?25hCollecting MarkupSafe>=2.0\r\n  Downloading MarkupSafe-3.0.2-cp39-cp39-manylinux_2_17_x86_64.manylinux2014_x86_64.whl (20 kB)\r\nInstalling collected packages: zipp, wrapt, typing-extensions, sniffio, pyasn1, importlib-metadata, exceptiongroup, deprecated, smmap, rsa, pydantic-core, pyasn1-modules, opentelemetry-api, cachetools, anyio, annotated-types, starlette, requests, pydantic, opentelemetry-semantic-conventions, MarkupSafe, h11, greenlet, graphql-core, google-auth, gitdb, click, Werkzeug, uvicorn, sqlparse, sqlalchemy, pyyaml, opentelemetry-sdk, Mako, Jinja2, itsdangerous, graphql-relay, gitpython, fastapi, databricks-sdk, cloudpickle, blinker, mlflow-skinny, markdown, gunicorn, graphene, Flask, docker, alembic, mlflow\r\n  Attempting uninstall: typing-extensions\r\n    Found existing installation: typing-extensions 4.1.1\r\n    Not uninstalling typing-extensions at /databricks/python3/lib/python3.9/site-packages, outside environment /local_disk0/.ephemeral_nfs/envs/pythonEnv-7f0e8d96-ac97-4196-92b6-b8f7cec76896\r\n    Can't uninstall 'typing-extensions'. No files were found to uninstall.\r\n  Attempting uninstall: requests\r\n    Found existing installation: requests 2.27.1\r\n    Not uninstalling requests at /databricks/python3/lib/python3.9/site-packages, outside environment /local_disk0/.ephemeral_nfs/envs/pythonEnv-7f0e8d96-ac97-4196-92b6-b8f7cec76896\r\n    Can't uninstall 'requests'. No files were found to uninstall.\r\n  Attempting uninstall: MarkupSafe\r\n    Found existing installation: MarkupSafe 2.0.1\r\n    Not uninstalling markupsafe at /databricks/python3/lib/python3.9/site-packages, outside environment /local_disk0/.ephemeral_nfs/envs/pythonEnv-7f0e8d96-ac97-4196-92b6-b8f7cec76896\r\n    Can't uninstall 'MarkupSafe'. No files were found to uninstall.\r\n  Attempting uninstall: click\r\n    Found existing installation: click 8.0.4\r\n    Not uninstalling click at /databricks/python3/lib/python3.9/site-packages, outside environment /local_disk0/.ephemeral_nfs/envs/pythonEnv-7f0e8d96-ac97-4196-92b6-b8f7cec76896\r\n    Can't uninstall 'click'. No files were found to uninstall.\r\n  Attempting uninstall: Jinja2\r\n    Found existing installation: Jinja2 2.11.3\r\n    Not uninstalling jinja2 at /databricks/python3/lib/python3.9/site-packages, outside environment /local_disk0/.ephemeral_nfs/envs/pythonEnv-7f0e8d96-ac97-4196-92b6-b8f7cec76896\r\n    Can't uninstall 'Jinja2'. No files were found to uninstall.\r\nSuccessfully installed Flask-3.1.0 Jinja2-3.1.6 Mako-1.3.9 MarkupSafe-3.0.2 Werkzeug-3.1.3 alembic-1.15.1 annotated-types-0.7.0 anyio-4.9.0 blinker-1.9.0 cachetools-5.5.2 click-8.1.8 cloudpickle-3.1.1 databricks-sdk-0.47.0 deprecated-1.2.18 docker-7.1.0 exceptiongroup-1.2.2 fastapi-0.115.11 gitdb-4.0.12 gitpython-3.1.44 google-auth-2.38.0 graphene-3.4.3 graphql-core-3.2.6 graphql-relay-3.2.0 greenlet-3.1.1 gunicorn-23.0.0 h11-0.14.0 importlib-metadata-8.6.1 itsdangerous-2.2.0 markdown-3.7 mlflow-2.21.0 mlflow-skinny-2.21.0 opentelemetry-api-1.31.1 opentelemetry-sdk-1.31.1 opentelemetry-semantic-conventions-0.52b1 pyasn1-0.6.1 pyasn1-modules-0.4.1 pydantic-2.10.6 pydantic-core-2.27.2 pyyaml-6.0.2 requests-2.32.3 rsa-4.9 smmap-5.0.2 sniffio-1.3.1 sqlalchemy-2.0.39 sqlparse-0.5.3 starlette-0.46.1 typing-extensions-4.12.2 uvicorn-0.34.0 wrapt-1.17.2 zipp-3.21.0\r\n\u001B[33mWARNING: You are using pip version 21.2.4; however, version 25.0.1 is available.\r\nYou should consider upgrading via the '/local_disk0/.ephemeral_nfs/envs/pythonEnv-7f0e8d96-ac97-4196-92b6-b8f7cec76896/bin/python -m pip install --upgrade pip' command.\u001B[0m\r\n"
     ]
    }
   ],
   "source": [
    "!pip install mlflow"
   ]
  },
  {
   "cell_type": "code",
   "execution_count": 0,
   "metadata": {
    "application/vnd.databricks.v1+cell": {
     "cellMetadata": {
      "byteLimit": 2048000,
      "rowLimit": 10000
     },
     "inputWidgets": {},
     "nuid": "e178a0bc-a7cc-4b5e-b8fe-3efc9aa2e070",
     "showTitle": false,
     "tableResultSettingsMap": {},
     "title": ""
    },
    "jupyter": {
     "outputs_hidden": true
    }
   },
   "outputs": [
    {
     "output_type": "stream",
     "name": "stdout",
     "output_type": "stream",
     "text": [
      "Python interpreter will be restarted.\nRequirement already satisfied: typing-extensions in /local_disk0/.ephemeral_nfs/envs/pythonEnv-7f0e8d96-ac97-4196-92b6-b8f7cec76896/lib/python3.9/site-packages (4.12.2)\nPython interpreter will be restarted.\n"
     ]
    }
   ],
   "source": [
    "%pip install --upgrade typing-extensions"
   ]
  },
  {
   "cell_type": "markdown",
   "metadata": {
    "application/vnd.databricks.v1+cell": {
     "cellMetadata": {
      "byteLimit": 2048000,
      "rowLimit": 10000
     },
     "inputWidgets": {},
     "nuid": "0937a477-fe2a-4558-83b5-2d071cbf98a3",
     "showTitle": false,
     "tableResultSettingsMap": {},
     "title": ""
    }
   },
   "source": [
    "Logging model without registering Because of Databricks community edition feature limitations"
   ]
  },
  {
   "cell_type": "code",
   "execution_count": 0,
   "metadata": {
    "application/vnd.databricks.v1+cell": {
     "cellMetadata": {
      "byteLimit": 2048000,
      "rowLimit": 10000
     },
     "inputWidgets": {},
     "nuid": "5fb7501c-b7ad-408a-a359-52d743ba5f03",
     "showTitle": false,
     "tableResultSettingsMap": {},
     "title": ""
    }
   },
   "outputs": [
    {
     "output_type": "display_data",
     "data": {
      "text/plain": [
       "\u001B[0;31m---------------------------------------------------------------------------\u001B[0m\n",
       "\u001B[0;31mNameError\u001B[0m                                 Traceback (most recent call last)\n",
       "File \u001B[0;32m<command-4199294914396523>:22\u001B[0m\n",
       "\u001B[1;32m     20\u001B[0m \u001B[38;5;28;01mwith\u001B[39;00m mlflow\u001B[38;5;241m.\u001B[39mstart_run() \u001B[38;5;28;01mas\u001B[39;00m run:\n",
       "\u001B[1;32m     21\u001B[0m     mlflow\u001B[38;5;241m.\u001B[39mlog_param(\u001B[38;5;124m\"\u001B[39m\u001B[38;5;124mmodel_type\u001B[39m\u001B[38;5;124m\"\u001B[39m, \u001B[38;5;124m\"\u001B[39m\u001B[38;5;124mLogisticRegression\u001B[39m\u001B[38;5;124m\"\u001B[39m)\n",
       "\u001B[0;32m---> 22\u001B[0m     mlflow\u001B[38;5;241m.\u001B[39mlog_metric(\u001B[38;5;124m\"\u001B[39m\u001B[38;5;124mroc_auc\u001B[39m\u001B[38;5;124m\"\u001B[39m, roc_auc)\n",
       "\u001B[1;32m     24\u001B[0m     \u001B[38;5;66;03m# Log model without registration\u001B[39;00m\n",
       "\u001B[1;32m     25\u001B[0m     model_path \u001B[38;5;241m=\u001B[39m \u001B[38;5;124m\"\u001B[39m\u001B[38;5;124miris_binary_classification\u001B[39m\u001B[38;5;124m\"\u001B[39m\n",
       "\n",
       "\u001B[0;31mNameError\u001B[0m: name 'roc_auc' is not defined"
      ]
     },
     "metadata": {
      "application/vnd.databricks.v1+output": {
       "arguments": {},
       "data": "\u001B[0;31m---------------------------------------------------------------------------\u001B[0m\n\u001B[0;31mNameError\u001B[0m                                 Traceback (most recent call last)\nFile \u001B[0;32m<command-4199294914396523>:22\u001B[0m\n\u001B[1;32m     20\u001B[0m \u001B[38;5;28;01mwith\u001B[39;00m mlflow\u001B[38;5;241m.\u001B[39mstart_run() \u001B[38;5;28;01mas\u001B[39;00m run:\n\u001B[1;32m     21\u001B[0m     mlflow\u001B[38;5;241m.\u001B[39mlog_param(\u001B[38;5;124m\"\u001B[39m\u001B[38;5;124mmodel_type\u001B[39m\u001B[38;5;124m\"\u001B[39m, \u001B[38;5;124m\"\u001B[39m\u001B[38;5;124mLogisticRegression\u001B[39m\u001B[38;5;124m\"\u001B[39m)\n\u001B[0;32m---> 22\u001B[0m     mlflow\u001B[38;5;241m.\u001B[39mlog_metric(\u001B[38;5;124m\"\u001B[39m\u001B[38;5;124mroc_auc\u001B[39m\u001B[38;5;124m\"\u001B[39m, roc_auc)\n\u001B[1;32m     24\u001B[0m     \u001B[38;5;66;03m# Log model without registration\u001B[39;00m\n\u001B[1;32m     25\u001B[0m     model_path \u001B[38;5;241m=\u001B[39m \u001B[38;5;124m\"\u001B[39m\u001B[38;5;124miris_binary_classification\u001B[39m\u001B[38;5;124m\"\u001B[39m\n\n\u001B[0;31mNameError\u001B[0m: name 'roc_auc' is not defined",
       "errorSummary": "<span class='ansi-red-fg'>NameError</span>: name 'roc_auc' is not defined",
       "errorTraceType": "ansi",
       "metadata": {},
       "type": "ipynbError"
      }
     },
     "output_type": "display_data"
    }
   ],
   "source": [
    "# import mlflow\n",
    "# import mlflow.spark\n",
    "\n",
    "# # Start MLflow experiment\n",
    "# mlflow.set_experiment(\"/Users/aniketpandey0796@gmail.com/iris_binary_classification\")\n",
    "\n",
    "# with mlflow.start_run():\n",
    "#     mlflow.log_param(\"model_type\", \"LogisticRegression\")\n",
    "#     mlflow.log_metric(\"roc_auc\", roc_auc)\n",
    "    \n",
    "#     # Log the model\n",
    "#     mlflow.spark.log_model(model, \"iris_model\")\n",
    "\n",
    "import mlflow\n",
    "import mlflow.spark\n",
    "\n",
    "# Set MLflow experiment (modify as needed)\n",
    "mlflow.set_experiment(\"/Users/aniketpandey0796@gmail.com/iris_binary_classification\")\n",
    "\n",
    "with mlflow.start_run() as run:\n",
    "    mlflow.log_param(\"model_type\", \"LogisticRegression\")\n",
    "    mlflow.log_metric(\"roc_auc\", roc_auc)\n",
    "    \n",
    "    # Log model without registration\n",
    "    model_path = \"iris_binary_classification\"\n",
    "    mlflow.spark.log_model(model, model_path)\n",
    "    \n",
    "    run_id = run.info.run_id  # Capture run ID\n",
    "    print(f\"Model logged under run ID: {run_id}\")\n",
    "\n"
   ]
  },
  {
   "cell_type": "markdown",
   "metadata": {
    "application/vnd.databricks.v1+cell": {
     "cellMetadata": {
      "byteLimit": 2048000,
      "rowLimit": 10000
     },
     "inputWidgets": {},
     "nuid": "23cfaeff-94ed-4d18-8958-94cdc56c06b5",
     "showTitle": false,
     "tableResultSettingsMap": {},
     "title": ""
    }
   },
   "source": [
    "Loading Model and getting predictions"
   ]
  },
  {
   "cell_type": "code",
   "execution_count": 0,
   "metadata": {
    "application/vnd.databricks.v1+cell": {
     "cellMetadata": {
      "byteLimit": 2048000,
      "rowLimit": 10000
     },
     "inputWidgets": {},
     "nuid": "3775d511-31f9-4424-815d-2ae4e4204d85",
     "showTitle": false,
     "tableResultSettingsMap": {},
     "title": ""
    }
   },
   "outputs": [
    {
     "output_type": "display_data",
     "data": {
      "text/plain": [
       ""
      ]
     },
     "metadata": {
      "application/vnd.databricks.v1+output": {
       "arguments": {},
       "data": "",
       "errorSummary": "Command skipped",
       "errorTraceType": "ansi",
       "metadata": {},
       "type": "ipynbError"
      }
     },
     "output_type": "display_data"
    }
   ],
   "source": [
    "# Load the logged model using run_id\n",
    "logged_model_uri = f\"runs:/{run_id}/iris_binary_classification\"\n",
    "loaded_model = mlflow.spark.load_model(logged_model_uri)\n",
    "\n",
    "# Predict on test data\n",
    "predictions = loaded_model.transform(test_data)\n",
    "predictions.select(\"features\", \"label\", \"prediction\").show()\n"
   ]
  },
  {
   "cell_type": "markdown",
   "metadata": {
    "application/vnd.databricks.v1+cell": {
     "cellMetadata": {
      "byteLimit": 2048000,
      "rowLimit": 10000
     },
     "inputWidgets": {},
     "nuid": "49bd179e-7ec1-4c6c-a7f4-c6f355b30b3f",
     "showTitle": false,
     "tableResultSettingsMap": {},
     "title": ""
    }
   },
   "source": [
    "Performing Batch Inference "
   ]
  },
  {
   "cell_type": "code",
   "execution_count": 0,
   "metadata": {
    "application/vnd.databricks.v1+cell": {
     "cellMetadata": {
      "byteLimit": 2048000,
      "rowLimit": 10000
     },
     "inputWidgets": {},
     "nuid": "d933176f-7f0a-42e6-9105-0fc63981dcc0",
     "showTitle": false,
     "tableResultSettingsMap": {},
     "title": ""
    }
   },
   "outputs": [
    {
     "output_type": "display_data",
     "data": {
      "text/plain": [
       ""
      ]
     },
     "metadata": {
      "application/vnd.databricks.v1+output": {
       "arguments": {},
       "data": "",
       "errorSummary": "Command skipped",
       "errorTraceType": "ansi",
       "metadata": {},
       "type": "ipynbError"
      }
     },
     "output_type": "display_data"
    }
   ],
   "source": [
    "batch_data = spark.createDataFrame([\n",
    "    (6.1, 2.9, 4.7, 1.4),  # Example new data points\n",
    "    (5.4,3.4,1.5,0.4)\n",
    "], [\"sepal_length\", \"sepal_width\", \"petal_length\", \"petal_width\"])\n",
    "\n",
    "batch_data = feature_assembler.transform(batch_data).select(\"features\")\n",
    "batch_predictions = loaded_model.transform(batch_data)\n",
    "\n",
    "batch_predictions.select(\"features\", \"prediction\").show()"
   ]
  },
  {
   "cell_type": "markdown",
   "metadata": {
    "application/vnd.databricks.v1+cell": {
     "cellMetadata": {
      "byteLimit": 2048000,
      "rowLimit": 10000
     },
     "inputWidgets": {},
     "nuid": "f88441f0-8fb6-4142-aa28-e0aa0dd50896",
     "showTitle": false,
     "tableResultSettingsMap": {},
     "title": ""
    }
   },
   "source": [
    "Performing Real-time inference Through a Function"
   ]
  },
  {
   "cell_type": "code",
   "execution_count": 0,
   "metadata": {
    "application/vnd.databricks.v1+cell": {
     "cellMetadata": {
      "byteLimit": 2048000,
      "rowLimit": 10000
     },
     "inputWidgets": {},
     "nuid": "ec09c465-0c8a-478c-95ca-e715846c9851",
     "showTitle": false,
     "tableResultSettingsMap": {},
     "title": ""
    }
   },
   "outputs": [
    {
     "output_type": "display_data",
     "data": {
      "text/plain": [
       ""
      ]
     },
     "metadata": {
      "application/vnd.databricks.v1+output": {
       "arguments": {},
       "data": "",
       "errorSummary": "Command skipped",
       "errorTraceType": "ansi",
       "metadata": {},
       "type": "ipynbError"
      }
     },
     "output_type": "display_data"
    }
   ],
   "source": [
    "def real_time_inference(sepal_length, sepal_width, petal_length, petal_width):\n",
    "    \"\"\"Simulates real-time inference on a single new data point.\"\"\"\n",
    "    from pyspark.sql import Row\n",
    "    \n",
    "    # Convert input data to Spark DataFrame\n",
    "    new_data = spark.createDataFrame([\n",
    "        Row(sepal_length=sepal_length, sepal_width=sepal_width, \n",
    "            petal_length=petal_length, petal_width=petal_width)\n",
    "    ])\n",
    "    \n",
    "    # Transform the data to match the model's expected format\n",
    "    new_data = feature_assembler.transform(new_data).select(\"features\")\n",
    "    \n",
    "    # Perform real-time prediction\n",
    "    prediction = loaded_model.transform(new_data)\n",
    "    \n",
    "    # Extract predicted class\n",
    "    predicted_label = prediction.select(\"prediction\").collect()[0][\"prediction\"]\n",
    "    \n",
    "    print(f\"Real-Time Prediction: {predicted_label}\")\n",
    "    return predicted_label\n",
    "\n",
    "# Example Real-time Inference Calls\n",
    "real_time_inference(5.1, 3.5, 1.4, 0.2)  # Expected: Iris-setosa\n",
    "real_time_inference(6.5, 3.0, 5.2, 2.0)  # Expected: Iris-virginica"
   ]
  },
  {
   "cell_type": "markdown",
   "metadata": {
    "application/vnd.databricks.v1+cell": {
     "cellMetadata": {
      "byteLimit": 2048000,
      "rowLimit": 10000
     },
     "inputWidgets": {},
     "nuid": "98083c58-f9a1-4e83-b013-4970cef4c18a",
     "showTitle": false,
     "tableResultSettingsMap": {},
     "title": ""
    }
   },
   "source": []
  },
  {
   "cell_type": "markdown",
   "metadata": {
    "application/vnd.databricks.v1+cell": {
     "cellMetadata": {
      "byteLimit": 2048000,
      "rowLimit": 10000
     },
     "inputWidgets": {},
     "nuid": "0ec5058b-b85d-489c-bf5c-c21620438eb3",
     "showTitle": false,
     "tableResultSettingsMap": {},
     "title": ""
    }
   },
   "source": [
    "Code To register the model, but it is not supported in the Databricks Community edition"
   ]
  },
  {
   "cell_type": "code",
   "execution_count": 0,
   "metadata": {
    "application/vnd.databricks.v1+cell": {
     "cellMetadata": {
      "byteLimit": 2048000,
      "rowLimit": 10000
     },
     "inputWidgets": {},
     "nuid": "44e419b5-c07c-4559-a6ed-3ea4ac02398f",
     "showTitle": false,
     "tableResultSettingsMap": {},
     "title": ""
    }
   },
   "outputs": [
    {
     "output_type": "display_data",
     "data": {
      "text/plain": [
       ""
      ]
     },
     "metadata": {
      "application/vnd.databricks.v1+output": {
       "arguments": {},
       "data": "",
       "errorSummary": "Command skipped",
       "errorTraceType": "ansi",
       "metadata": {},
       "type": "ipynbError"
      }
     },
     "output_type": "display_data"
    }
   ],
   "source": [
    "# from mlflow.tracking import MlflowClient\n",
    "\n",
    "# client = MlflowClient()\n",
    "# model_name = \"iris_classification_model\"\n",
    "\n",
    "# # # Register model\n",
    "# # mlflow_model_uri = f\"runs:/{mlflow.active_run().info.run_id}/iris_model\"\n",
    "# # client.create_registered_model(model_name)\n",
    "# # client.create_model_version(name=model_name, source=mlflow_model_uri, run_id=mlflow.active_run().info.run_id)\n",
    "\n",
    "# print(f\"Model '{model_name}' registered successfully!\")\n"
   ]
  },
  {
   "cell_type": "markdown",
   "metadata": {
    "application/vnd.databricks.v1+cell": {
     "cellMetadata": {},
     "inputWidgets": {},
     "nuid": "c92f5460-61ce-48cc-822e-03ec6cc85759",
     "showTitle": false,
     "tableResultSettingsMap": {},
     "title": ""
    }
   },
   "source": []
  },
  {
   "cell_type": "markdown",
   "metadata": {
    "application/vnd.databricks.v1+cell": {
     "cellMetadata": {},
     "inputWidgets": {},
     "nuid": "5f4de501-df3f-4816-b223-5336edcf7649",
     "showTitle": false,
     "tableResultSettingsMap": {},
     "title": ""
    }
   },
   "source": [
    "Execute The Below cells to run the code Smoothly"
   ]
  },
  {
   "cell_type": "code",
   "execution_count": 0,
   "metadata": {
    "application/vnd.databricks.v1+cell": {
     "cellMetadata": {
      "byteLimit": 2048000,
      "rowLimit": 10000
     },
     "inputWidgets": {},
     "nuid": "765fc828-11ec-4372-877f-aa786ec085b2",
     "showTitle": false,
     "tableResultSettingsMap": {},
     "title": ""
    }
   },
   "outputs": [
    {
     "output_type": "stream",
     "name": "stdout",
     "output_type": "stream",
     "text": [
      "Collecting mlflow\r\n  Downloading mlflow-2.21.0-py3-none-any.whl (28.2 MB)\r\n\u001B[?25l\r\u001B[K     |                                | 10 kB 17.0 MB/s eta 0:00:02\r\u001B[K     |                                | 20 kB 17.7 MB/s eta 0:00:02\r\u001B[K     |                                | 30 kB 17.2 MB/s eta 0:00:02\r\u001B[K     |                                | 40 kB 5.7 MB/s eta 0:00:05\r\u001B[K     |                                | 51 kB 6.9 MB/s eta 0:00:05\r\u001B[K     |                                | 61 kB 7.0 MB/s eta 0:00:04\r\u001B[K     |                                | 71 kB 6.9 MB/s eta 0:00:05\r\u001B[K     |                                | 81 kB 7.5 MB/s eta 0:00:04\r\u001B[K     |                                | 92 kB 8.4 MB/s eta 0:00:04\r\u001B[K     |▏                               | 102 kB 6.2 MB/s eta 0:00:05\r\u001B[K     |▏                               | 112 kB 6.2 MB/s eta 0:00:05\r\u001B[K     |▏                               | 122 kB 6.2 MB/s eta 0:00:05\r\u001B[K     |▏                               | 133 kB 6.2 MB/s eta 0:00:05\r\u001B[K     |▏                               | 143 kB 6.2 MB/s eta 0:00:05\r\u001B[K     |▏                               | 153 kB 6.2 MB/s eta 0:00:05\r\u001B[K     |▏                               | 163 kB 6.2 MB/s eta 0:00:05\r\u001B[K     |▏                               | 174 kB 6.2 MB/s eta 0:00:05\r\u001B[K     |▏                               | 184 kB 6.2 MB/s eta 0:00:05\r\u001B[K     |▏                               | 194 kB 6.2 MB/s eta 0:00:05\r\u001B[K     |▎                               | 204 kB 6.2 MB/s eta 0:00:05\r\u001B[K     |▎                               | 215 kB 6.2 MB/s eta 0:00:05\r\u001B[K     |▎                               | 225 kB 6.2 MB/s eta 0:00:05\r\u001B[K     |▎                               | 235 kB 6.2 MB/s eta 0:00:05\r\u001B[K     |▎                               | 245 kB 6.2 MB/s eta 0:00:05\r\u001B[K     |▎                               | 256 kB 6.2 MB/s eta 0:00:05\r\u001B[K     |▎                               | 266 kB 6.2 MB/s eta 0:00:05\r\u001B[K     |▎                               | 276 kB 6.2 MB/s eta 0:00:05\r\u001B[K     |▎                               | 286 kB 6.2 MB/s eta 0:00:05\r\u001B[K     |▍                               | 296 kB 6.2 MB/s eta 0:00:05\r\u001B[K     |▍                               | 307 kB 6.2 MB/s eta 0:00:05\r\u001B[K     |▍                               | 317 kB 6.2 MB/s eta 0:00:05\r\u001B[K     |▍                               | 327 kB 6.2 MB/s eta 0:00:05\r\u001B[K     |▍                               | 337 kB 6.2 MB/s eta 0:00:05\r\u001B[K     |▍                               | 348 kB 6.2 MB/s eta 0:00:05\r\u001B[K     |▍                               | 358 kB 6.2 MB/s eta 0:00:05\r\u001B[K     |▍                               | 368 kB 6.2 MB/s eta 0:00:05\r\u001B[K     |▍                               | 378 kB 6.2 MB/s eta 0:00:05\r\u001B[K     |▍                               | 389 kB 6.2 MB/s eta 0:00:05\r\u001B[K     |▌                               | 399 kB 6.2 MB/s eta 0:00:05\r\u001B[K     |▌                               | 409 kB 6.2 MB/s eta 0:00:05\r\u001B[K     |▌                               | 419 kB 6.2 MB/s eta 0:00:05\r\u001B[K     |▌                               | 430 kB 6.2 MB/s eta 0:00:05\r\u001B[K     |▌                               | 440 kB 6.2 MB/s eta 0:00:05\r\u001B[K     |▌                               | 450 kB 6.2 MB/s eta 0:00:05\r\u001B[K     |▌                               | 460 kB 6.2 MB/s eta 0:00:05\r\u001B[K     |▌                               | 471 kB 6.2 MB/s eta 0:00:05\r\u001B[K     |▌                               | 481 kB 6.2 MB/s eta 0:00:05\r\u001B[K     |▋                               | 491 kB 6.2 MB/s eta 0:00:05\r\u001B[K     |▋                               | 501 kB 6.2 MB/s eta 0:00:05\r\u001B[K     |▋                               | 512 kB 6.2 MB/s eta 0:00:05\r\u001B[K     |▋                               | 522 kB 6.2 MB/s eta 0:00:05\r\u001B[K     |▋                               | 532 kB 6.2 MB/s eta 0:00:05\r\u001B[K     |▋                               | 542 kB 6.2 MB/s eta 0:00:05\r\u001B[K     |▋                               | 552 kB 6.2 MB/s eta 0:00:05\r\u001B[K     |▋                               | 563 kB 6.2 MB/s eta 0:00:05\r\u001B[K     |▋                               | 573 kB 6.2 MB/s eta 0:00:05\r\u001B[K     |▋                               | 583 kB 6.2 MB/s eta 0:00:05\r\u001B[K     |▊                               | 593 kB 6.2 MB/s eta 0:00:05\r\u001B[K     |▊                               | 604 kB 6.2 MB/s eta 0:00:05\r\u001B[K     |▊                               | 614 kB 6.2 MB/s eta 0:00:05\r\u001B[K     |▊                               | 624 kB 6.2 MB/s eta 0:00:05\r\u001B[K     |▊                               | 634 kB 6.2 MB/s eta 0:00:05\r\u001B[K     |▊                               | 645 kB 6.2 MB/s eta 0:00:05\r\u001B[K     |▊                               | 655 kB 6.2 MB/s eta 0:00:05\r\u001B[K     |▊                               | 665 kB 6.2 MB/s eta 0:00:05\r\u001B[K     |▊                               | 675 kB 6.2 MB/s eta 0:00:05\r\u001B[K     |▉                               | 686 kB 6.2 MB/s eta 0:00:05\r\u001B[K     |▉                               | 696 kB 6.2 MB/s eta 0:00:05\r\u001B[K     |▉                               | 706 kB 6.2 MB/s eta 0:00:05\r\u001B[K     |▉                               | 716 kB 6.2 MB/s eta 0:00:05\r\u001B[K     |▉                               | 727 kB 6.2 MB/s eta 0:00:05\r\u001B[K     |▉                               | 737 kB 6.2 MB/s eta 0:00:05\r\u001B[K     |▉                               | 747 kB 6.2 MB/s eta 0:00:05\r\u001B[K     |▉                               | 757 kB 6.2 MB/s eta 0:00:05\r\u001B[K     |▉                               | 768 kB 6.2 MB/s eta 0:00:05\r\u001B[K     |▉                               | 778 kB 6.2 MB/s eta 0:00:05\r\u001B[K     |█                               | 788 kB 6.2 MB/s eta 0:00:05\r\u001B[K     |█                               | 798 kB 6.2 MB/s eta 0:00:05\r\u001B[K     |█                               | 808 kB 6.2 MB/s eta 0:00:05\r\u001B[K     |█                               | 819 kB 6.2 MB/s eta 0:00:05\r\u001B[K     |█                               | 829 kB 6.2 MB/s eta 0:00:05\r\u001B[K     |█                               | 839 kB 6.2 MB/s eta 0:00:05\r\u001B[K     |█                               | 849 kB 6.2 MB/s eta 0:00:05\r\u001B[K     |█                               | 860 kB 6.2 MB/s eta 0:00:05\r\u001B[K     |█                               | 870 kB 6.2 MB/s eta 0:00:05\r\u001B[K     |█                               | 880 kB 6.2 MB/s eta 0:00:05\r\u001B[K     |█                               | 890 kB 6.2 MB/s eta 0:00:05\r\u001B[K     |█                               | 901 kB 6.2 MB/s eta 0:00:05\r\u001B[K     |█                               | 911 kB 6.2 MB/s eta 0:00:05\r\u001B[K     |█                               | 921 kB 6.2 MB/s eta 0:00:05\r\u001B[K     |█                               | 931 kB 6.2 MB/s eta 0:00:05\r\u001B[K     |█                               | 942 kB 6.2 MB/s eta 0:00:05\r\u001B[K     |█                               | 952 kB 6.2 MB/s eta 0:00:05\r\u001B[K     |█                               | 962 kB 6.2 MB/s eta 0:00:05\r\u001B[K     |█                               | 972 kB 6.2 MB/s eta 0:00:05\r\u001B[K     |█▏                              | 983 kB 6.2 MB/s eta 0:00:05\r\u001B[K     |█▏                              | 993 kB 6.2 MB/s eta 0:00:05\r\u001B[K     |█▏                              | 1.0 MB 6.2 MB/s eta 0:00:05\r\u001B[K     |█▏                              | 1.0 MB 6.2 MB/s eta 0:00:05\r\u001B[K     |█▏                              | 1.0 MB 6.2 MB/s eta 0:00:05\r\u001B[K     |█▏                              | 1.0 MB 6.2 MB/s eta 0:00:05\r\u001B[K     |█▏                              | 1.0 MB 6.2 MB/s eta 0:00:05\r\u001B[K     |█▏                              | 1.1 MB 6.2 MB/s eta 0:00:05\r\u001B[K     |█▏                              | 1.1 MB 6.2 MB/s eta 0:00:05\r\u001B[K     |█▏                              | 1.1 MB 6.2 MB/s eta 0:00:05\r\u001B[K     |█▎                              | 1.1 MB 6.2 MB/s eta 0:00:05\r\u001B[K     |█▎                              | 1.1 MB 6.2 MB/s eta 0:00:05\r\u001B[K     |█▎                              | 1.1 MB 6.2 MB/s eta 0:00:05\r\u001B[K     |█▎                              | 1.1 MB 6.2 MB/s eta 0:00:05\r\u001B[K     |█▎                              | 1.1 MB 6.2 MB/s eta 0:00:05\r\u001B[K     |█▎                              | 1.1 MB 6.2 MB/s eta 0:00:05\r\u001B[K     |█▎                              | 1.1 MB 6.2 MB/s eta 0:00:05\r\u001B[K     |█▎                              | 1.2 MB 6.2 MB/s eta 0:00:05\r\u001B[K     |█▎                              | 1.2 MB 6.2 MB/s eta 0:00:05\r\u001B[K     |█▍                              | 1.2 MB 6.2 MB/s eta 0:00:05\r\u001B[K     |█▍                              | 1.2 MB 6.2 MB/s eta 0:00:05\r\u001B[K     |█▍                              | 1.2 MB 6.2 MB/s eta 0:00:05\r\u001B[K     |█▍                              | 1.2 MB 6.2 MB/s eta 0:00:05\r\u001B[K     |█▍                              | 1.2 MB 6.2 MB/s eta 0:00:05\r\u001B[K     |█▍                              | 1.2 MB 6.2 MB/s eta 0:00:05\r\u001B[K     |█▍                              | 1.2 MB 6.2 MB/s eta 0:00:05\r\u001B[K     |█▍                              | 1.2 MB 6.2 MB/s eta 0:00:05\r\u001B[K     |█▍                              | 1.3 MB 6.2 MB/s eta 0:00:05\r\u001B[K     |█▍                              | 1.3 MB 6.2 MB/s eta 0:00:05\r\u001B[K     |█▌                              | 1.3 MB 6.2 MB/s eta 0:00:05\r\u001B[K     |█▌                              | 1.3 MB 6.2 MB/s eta 0:00:05\r\u001B[K     |█▌                              | 1.3 MB 6.2 MB/s eta 0:00:05\r\u001B[K     |█▌                              | 1.3 MB 6.2 MB/s eta 0:00:05\r\u001B[K     |█▌                              | 1.3 MB 6.2 MB/s eta 0:00:05\r\u001B[K     |█▌                              | 1.3 MB 6.2 MB/s eta 0:00:05\r\u001B[K     |█▌                              | 1.3 MB 6.2 MB/s eta 0:00:05\r\u001B[K     |█▌                              | 1.4 MB 6.2 MB/s eta 0:00:05\r\u001B[K     |█▌                              | 1.4 MB 6.2 MB/s eta 0:00:05\r\u001B[K     |█▋                              | 1.4 MB 6.2 MB/s eta 0:00:05\r\u001B[K     |█▋                              | 1.4 MB 6.2 MB/s eta 0:00:05\r\u001B[K     |█▋                              | 1.4 MB 6.2 MB/s eta 0:00:05\r\u001B[K     |█▋                              | 1.4 MB 6.2 MB/s eta 0:00:05\r\u001B[K     |█▋                              | 1.4 MB 6.2 MB/s eta 0:00:05\r\u001B[K     |█▋                              | 1.4 MB 6.2 MB/s eta 0:00:05\r\u001B[K     |█▋                              | 1.4 MB 6.2 MB/s eta 0:00:05\r\u001B[K     |█▋                              | 1.4 MB 6.2 MB/s eta 0:00:05\r\u001B[K     |█▋                              | 1.5 MB 6.2 MB/s eta 0:00:05\r\u001B[K     |█▋                              | 1.5 MB 6.2 MB/s eta 0:00:05\r\u001B[K     |█▊                              | 1.5 MB 6.2 MB/s eta 0:00:05\r\u001B[K     |█▊                              | 1.5 MB 6.2 MB/s eta 0:00:05\r\u001B[K     |█▊                              | 1.5 MB 6.2 MB/s eta 0:00:05\r\u001B[K     |█▊                              | 1.5 MB 6.2 MB/s eta 0:00:05\r\u001B[K     |█▊                              | 1.5 MB 6.2 MB/s eta 0:00:05\r\u001B[K     |█▊                              | 1.5 MB 6.2 MB/s eta 0:00:05\r\u001B[K     |█▊                              | 1.5 MB 6.2 MB/s eta 0:00:05\r\u001B[K     |█▊                              | 1.5 MB 6.2 MB/s eta 0:00:05\r\u001B[K     |█▊                              | 1.6 MB 6.2 MB/s eta 0:00:05\r\u001B[K     |█▉                              | 1.6 MB 6.2 MB/s eta 0:00:05\r\u001B[K     |█▉                              | 1.6 MB 6.2 MB/s eta 0:00:05\r\u001B[K     |█▉                              | 1.6 MB 6.2 MB/s eta 0:00:05\r\u001B[K     |█▉                              | 1.6 MB 6.2 MB/s eta 0:00:05\r\u001B[K     |█▉                              | 1.6 MB 6.2 MB/s eta 0:00:05\r\u001B[K     |█▉                              | 1.6 MB 6.2 MB/s eta 0:00:05\r\u001B[K     |█▉                              | 1.6 MB 6.2 MB/s eta 0:00:05\r\u001B[K     |█▉                              | 1.6 MB 6.2 MB/s eta 0:00:05\r\u001B[K     |█▉                              | 1.6 MB 6.2 MB/s eta 0:00:05\r\u001B[K     |█▉                              | 1.7 MB 6.2 MB/s eta 0:00:05\r\u001B[K     |██                              | 1.7 MB 6.2 MB/s eta 0:00:05\r\u001B[K     |██                              | 1.7 MB 6.2 MB/s eta 0:00:05\r\u001B[K     |██                              | 1.7 MB 6.2 MB/s eta 0:00:05\r\u001B[K     |██                              | 1.7 MB 6.2 MB/s eta 0:00:05\r\u001B[K     |██                              | 1.7 MB 6.2 MB/s eta 0:00:05\r\u001B[K     |██                              | 1.7 MB 6.2 MB/s eta 0:00:05\r\u001B[K     |██                              | 1.7 MB 6.2 MB/s eta 0:00:05\r\u001B[K     |██                              | 1.7 MB 6.2 MB/s eta 0:00:05\r\u001B[K     |██                              | 1.8 MB 6.2 MB/s eta 0:00:05\r\u001B[K     |██                              | 1.8 MB 6.2 MB/s eta 0:00:05\r\u001B[K     |██                              | 1.8 MB 6.2 MB/s eta 0:00:05\r\u001B[K     |██                              | 1.8 MB 6.2 MB/s eta 0:00:05\r\u001B[K     |██                              | 1.8 MB 6.2 MB/s eta 0:00:05\r\u001B[K     |██                              | 1.8 MB 6.2 MB/s eta 0:00:05\r\u001B[K     |██                              | 1.8 MB 6.2 MB/s eta 0:00:05\r\u001B[K     |██                              | 1.8 MB 6.2 MB/s eta 0:00:05\r\u001B[K     |██                              | 1.8 MB 6.2 MB/s eta 0:00:05\r\u001B[K     |██                              | 1.8 MB 6.2 MB/s eta 0:00:05\r\u001B[K     |██                              | 1.9 MB 6.2 MB/s eta 0:00:05\r\u001B[K     |██▏                             | 1.9 MB 6.2 MB/s eta 0:00:05\r\u001B[K     |██▏                             | 1.9 MB 6.2 MB/s eta 0:00:05\r\u001B[K     |██▏                             | 1.9 MB 6.2 MB/s eta 0:00:05\r\u001B[K     |██▏                             | 1.9 MB 6.2 MB/s eta 0:00:05\r\u001B[K     |██▏                             | 1.9 MB 6.2 MB/s eta 0:00:05\r\u001B[K     |██▏                             | 1.9 MB 6.2 MB/s eta 0:00:05\r\u001B[K     |██▏                             | 1.9 MB 6.2 MB/s eta 0:00:05\r\u001B[K     |██▏                             | 1.9 MB 6.2 MB/s eta 0:00:05\r\u001B[K     |██▏                             | 1.9 MB 6.2 MB/s eta 0:00:05\r\u001B[K     |██▎                             | 2.0 MB 6.2 MB/s eta 0:00:05\r\u001B[K     |██▎                             | 2.0 MB 6.2 MB/s eta 0:00:05\r\u001B[K     |██▎                             | 2.0 MB 6.2 MB/s eta 0:00:05\r\u001B[K     |██▎                             | 2.0 MB 6.2 MB/s eta 0:00:05\r\u001B[K     |██▎                             | 2.0 MB 6.2 MB/s eta 0:00:05\r\u001B[K     |██▎                             | 2.0 MB 6.2 MB/s eta 0:00:05\r\u001B[K     |██▎                             | 2.0 MB 6.2 MB/s eta 0:00:05\r\u001B[K     |██▎                             | 2.0 MB 6.2 MB/s eta 0:00:05\r\u001B[K     |██▎                             | 2.0 MB 6.2 MB/s eta 0:00:05\r\u001B[K     |██▎                             | 2.0 MB 6.2 MB/s eta 0:00:05\r\u001B[K     |██▍                             | 2.1 MB 6.2 MB/s eta 0:00:05\r\u001B[K     |██▍                             | 2.1 MB 6.2 MB/s eta 0:00:05\r\u001B[K     |██▍                             | 2.1 MB 6.2 MB/s eta 0:00:05\r\u001B[K     |██▍                             | 2.1 MB 6.2 MB/s eta 0:00:05\r\u001B[K     |██▍                             | 2.1 MB 6.2 MB/s eta 0:00:05\r\u001B[K     |██▍                             | 2.1 MB 6.2 MB/s eta 0:00:05\r\u001B[K     |██▍                             | 2.1 MB 6.2 MB/s eta 0:00:05\r\u001B[K     |██▍                             | 2.1 MB 6.2 MB/s eta 0:00:05\r\u001B[K     |██▍                             | 2.1 MB 6.2 MB/s eta 0:00:05\r\u001B[K     |██▍                             | 2.2 MB 6.2 MB/s eta 0:00:05\r\u001B[K     |██▌                             | 2.2 MB 6.2 MB/s eta 0:00:05\r\u001B[K     |██▌                             | 2.2 MB 6.2 MB/s eta 0:00:05\r\u001B[K     |██▌                             | 2.2 MB 6.2 MB/s eta 0:00:05\r\u001B[K     |██▌                             | 2.2 MB 6.2 MB/s eta 0:00:05\r\u001B[K     |██▌                             | 2.2 MB 6.2 MB/s eta 0:00:05\r\u001B[K     |██▌                             | 2.2 MB 6.2 MB/s eta 0:00:05\r\u001B[K     |██▌                             | 2.2 MB 6.2 MB/s eta 0:00:05\r\u001B[K     |██▌                             | 2.2 MB 6.2 MB/s eta 0:00:05\r\u001B[K     |██▌                             | 2.2 MB 6.2 MB/s eta 0:00:05\r\u001B[K     |██▋                             | 2.3 MB 6.2 MB/s eta 0:00:05\r\u001B[K     |██▋                             | 2.3 MB 6.2 MB/s eta 0:00:05\r\u001B[K     |██▋                             | 2.3 MB 6.2 MB/s eta 0:00:05\r\u001B[K     |██▋                             | 2.3 MB 6.2 MB/s eta 0:00:05\r\u001B[K     |██▋                             | 2.3 MB 6.2 MB/s eta 0:00:05\r\u001B[K     |██▋                             | 2.3 MB 6.2 MB/s eta 0:00:05\r\u001B[K     |██▋                             | 2.3 MB 6.2 MB/s eta 0:00:05\r\u001B[K     |██▋                             | 2.3 MB 6.2 MB/s eta 0:00:05\r\u001B[K     |██▋                             | 2.3 MB 6.2 MB/s eta 0:00:05\r\u001B[K     |██▋                             | 2.3 MB 6.2 MB/s eta 0:00:05\r\u001B[K     |██▊                             | 2.4 MB 6.2 MB/s eta 0:00:05\r\u001B[K     |██▊                             | 2.4 MB 6.2 MB/s eta 0:00:05\r\u001B[K     |██▊                             | 2.4 MB 6.2 MB/s eta 0:00:05\r\u001B[K     |██▊                             | 2.4 MB 6.2 MB/s eta 0:00:05\r\u001B[K     |██▊                             | 2.4 MB 6.2 MB/s eta 0:00:05\r\u001B[K     |██▊                             | 2.4 MB 6.2 MB/s eta 0:00:05\r\u001B[K     |██▊                             | 2.4 MB 6.2 MB/s eta 0:00:05\r\u001B[K     |██▊                             | 2.4 MB 6.2 MB/s eta 0:00:05\r\u001B[K     |██▊                             | 2.4 MB 6.2 MB/s eta 0:00:05\r\u001B[K     |██▉                             | 2.4 MB 6.2 MB/s eta 0:00:05\r\u001B[K     |██▉                             | 2.5 MB 6.2 MB/s eta 0:00:05\r\u001B[K     |██▉                             | 2.5 MB 6.2 MB/s eta 0:00:05\r\u001B[K     |██▉                             | 2.5 MB 6.2 MB/s eta 0:00:05\r\u001B[K     |██▉                             | 2.5 MB 6.2 MB/s eta 0:00:05\r\u001B[K     |██▉                             | 2.5 MB 6.2 MB/s eta 0:00:05\r\u001B[K     |██▉                             | 2.5 MB 6.2 MB/s eta 0:00:05\r\u001B[K     |██▉                             | 2.5 MB 6.2 MB/s eta 0:00:05\r\u001B[K     |██▉                             | 2.5 MB 6.2 MB/s eta 0:00:05\r\u001B[K     |██▉                             | 2.5 MB 6.2 MB/s eta 0:00:05\r\u001B[K     |███                             | 2.5 MB 6.2 MB/s eta 0:00:05\r\u001B[K     |███                             | 2.6 MB 6.2 MB/s eta 0:00:05\r\u001B[K     |███                             | 2.6 MB 6.2 MB/s eta 0:00:05\r\u001B[K     |███                             | 2.6 MB 6.2 MB/s eta 0:00:05\r\u001B[K     |███                             | 2.6 MB 6.2 MB/s eta 0:00:05\r\u001B[K     |███                             | 2.6 MB 6.2 MB/s eta 0:00:05\r\u001B[K     |███                             | 2.6 MB 6.2 MB/s eta 0:00:05\r\u001B[K     |███                             | 2.6 MB 6.2 MB/s eta 0:00:05\r\u001B[K     |███                             | 2.6 MB 6.2 MB/s eta 0:00:05\r\u001B[K     |███                             | 2.6 MB 6.2 MB/s eta 0:00:05\r\u001B[K     |███                             | 2.7 MB 6.2 MB/s eta 0:00:05\r\u001B[K     |███                             | 2.7 MB 6.2 MB/s eta 0:00:05\r\u001B[K     |███                             | 2.7 MB 6.2 MB/s eta 0:00:05\r\u001B[K     |███                             | 2.7 MB 6.2 MB/s eta 0:00:05\r\u001B[K     |███                             | 2.7 MB 6.2 MB/s eta 0:00:05\r\u001B[K     |███                             | 2.7 MB 6.2 MB/s eta 0:00:05\r\u001B[K     |███                             | 2.7 MB 6.2 MB/s eta 0:00:05\r\u001B[K     |███                             | 2.7 MB 6.2 MB/s eta 0:00:05\r\u001B[K     |███                             | 2.7 MB 6.2 MB/s eta 0:00:05\r\u001B[K     |███▏                            | 2.7 MB 6.2 MB/s eta 0:00:05\r\u001B[K     |███▏                            | 2.8 MB 6.2 MB/s eta 0:00:05\r\u001B[K     |███▏                            | 2.8 MB 6.2 MB/s eta 0:00:05\r\u001B[K     |███▏                            | 2.8 MB 6.2 MB/s eta 0:00:05\r\u001B[K     |███▏                            | 2.8 MB 6.2 MB/s eta 0:00:05\r\u001B[K     |███▏                            | 2.8 MB 6.2 MB/s eta 0:00:05\r\u001B[K     |███▏                            | 2.8 MB 6.2 MB/s eta 0:00:05\r\u001B[K     |███▏                            | 2.8 MB 6.2 MB/s eta 0:00:05\r\u001B[K     |███▏                            | 2.8 MB 6.2 MB/s eta 0:00:05\r\u001B[K     |███▎                            | 2.8 MB 6.2 MB/s eta 0:00:05\r\u001B[K     |███▎                            | 2.8 MB 6.2 MB/s eta 0:00:05\r\u001B[K     |███▎                            | 2.9 MB 6.2 MB/s eta 0:00:05\r\u001B[K     |███▎                            | 2.9 MB 6.2 MB/s eta 0:00:05\r\u001B[K     |███▎                            | 2.9 MB 6.2 MB/s eta 0:00:05\r\u001B[K     |███▎                            | 2.9 MB 6.2 MB/s eta 0:00:05\r\u001B[K     |███▎                            | 2.9 MB 6.2 MB/s eta 0:00:05\r\u001B[K     |███▎                            | 2.9 MB 6.2 MB/s eta 0:00:05\r\u001B[K     |███▎                            | 2.9 MB 6.2 MB/s eta 0:00:05\r\u001B[K     |███▎                            | 2.9 MB 6.2 MB/s eta 0:00:05\r\u001B[K     |███▍                            | 2.9 MB 6.2 MB/s eta 0:00:05\r\u001B[K     |███▍                            | 2.9 MB 6.2 MB/s eta 0:00:05\r\u001B[K     |███▍                            | 3.0 MB 6.2 MB/s eta 0:00:05\r\u001B[K     |███▍                            | 3.0 MB 6.2 MB/s eta 0:00:05\r\u001B[K     |███▍                            | 3.0 MB 6.2 MB/s eta 0:00:05\r\u001B[K     |███▍                            | 3.0 MB 6.2 MB/s eta 0:00:05\r\u001B[K     |███▍                            | 3.0 MB 6.2 MB/s eta 0:00:05\r\u001B[K     |███▍                            | 3.0 MB 6.2 MB/s eta 0:00:05\r\u001B[K     |███▍                            | 3.0 MB 6.2 MB/s eta 0:00:05\r\u001B[K     |███▍                            | 3.0 MB 6.2 MB/s eta 0:00:05\r\u001B[K     |███▌                            | 3.0 MB 6.2 MB/s eta 0:00:05\r\u001B[K     |███▌                            | 3.1 MB 6.2 MB/s eta 0:00:05\r\u001B[K     |███▌                            | 3.1 MB 6.2 MB/s eta 0:00:05\r\u001B[K     |███▌                            | 3.1 MB 6.2 MB/s eta 0:00:05\r\u001B[K     |███▌                            | 3.1 MB 6.2 MB/s eta 0:00:05\r\u001B[K     |███▌                            | 3.1 MB 6.2 MB/s eta 0:00:05\r\u001B[K     |███▌                            | 3.1 MB 6.2 MB/s eta 0:00:05\r\u001B[K     |███▌                            | 3.1 MB 6.2 MB/s eta 0:00:05\r\u001B[K     |███▌                            | 3.1 MB 6.2 MB/s eta 0:00:05\r\u001B[K     |███▋                            | 3.1 MB 6.2 MB/s eta 0:00:05\r\u001B[K     |███▋                            | 3.1 MB 6.2 MB/s eta 0:00:05\r\u001B[K     |███▋                            | 3.2 MB 6.2 MB/s eta 0:00:05\r\u001B[K     |███▋                            | 3.2 MB 6.2 MB/s eta 0:00:05\r\u001B[K     |███▋                            | 3.2 MB 6.2 MB/s eta 0:00:05\r\u001B[K     |███▋                            | 3.2 MB 6.2 MB/s eta 0:00:05\r\u001B[K     |███▋                            | 3.2 MB 6.2 MB/s eta 0:00:05\r\u001B[K     |███▋                            | 3.2 MB 6.2 MB/s eta 0:00:05\r\u001B[K     |███▋                            | 3.2 MB 6.2 MB/s eta 0:00:05\r\u001B[K     |███▋                            | 3.2 MB 6.2 MB/s eta 0:00:05\r\u001B[K     |███▊                            | 3.2 MB 6.2 MB/s eta 0:00:05\r\u001B[K     |███▊                            | 3.2 MB 6.2 MB/s eta 0:00:05\r\u001B[K     |███▊                            | 3.3 MB 6.2 MB/s eta 0:00:05\r\u001B[K     |███▊                            | 3.3 MB 6.2 MB/s eta 0:00:05\r\u001B[K     |███▊                            | 3.3 MB 6.2 MB/s eta 0:00:05\r\u001B[K     |███▊                            | 3.3 MB 6.2 MB/s eta 0:00:04\r\u001B[K     |███▊                            | 3.3 MB 6.2 MB/s eta 0:00:04\r\u001B[K     |███▊                            | 3.3 MB 6.2 MB/s eta 0:00:04\r\u001B[K     |███▊                            | 3.3 MB 6.2 MB/s eta 0:00:04\r\u001B[K     |███▉                            | 3.3 MB 6.2 MB/s eta 0:00:04\r\u001B[K     |███▉                            | 3.3 MB 6.2 MB/s eta 0:00:04\r\u001B[K     |███▉                            | 3.3 MB 6.2 MB/s eta 0:00:04\r\u001B[K     |███▉                            | 3.4 MB 6.2 MB/s eta 0:00:04\r\u001B[K     |███▉                            | 3.4 MB 6.2 MB/s eta 0:00:04\r\u001B[K     |███▉                            | 3.4 MB 6.2 MB/s eta 0:00:04\r\u001B[K     |███▉                            | 3.4 MB 6.2 MB/s eta 0:00:04\r\u001B[K     |███▉                            | 3.4 MB 6.2 MB/s eta 0:00:04\r\u001B[K     |███▉                            | 3.4 MB 6.2 MB/s eta 0:00:04\r\u001B[K     |███▉                            | 3.4 MB 6.2 MB/s eta 0:00:04\r\u001B[K     |████                            | 3.4 MB 6.2 MB/s eta 0:00:04\r\u001B[K     |████                            | 3.4 MB 6.2 MB/s eta 0:00:04\r\u001B[K     |████                            | 3.5 MB 6.2 MB/s eta 0:00:04\r\u001B[K     |████                            | 3.5 MB 6.2 MB/s eta 0:00:04\r\u001B[K     |████                            | 3.5 MB 6.2 MB/s eta 0:00:04\r\u001B[K     |████                            | 3.5 MB 6.2 MB/s eta 0:00:04\r\u001B[K     |████                            | 3.5 MB 6.2 MB/s eta 0:00:04\r\u001B[K     |████                            | 3.5 MB 6.2 MB/s eta 0:00:04\r\u001B[K     |████                            | 3.5 MB 6.2 MB/s eta 0:00:04\r\u001B[K     |████                            | 3.5 MB 6.2 MB/s eta 0:00:04\r\u001B[K     |████                            | 3.5 MB 6.2 MB/s eta 0:00:04\r\u001B[K     |████                            | 3.5 MB 6.2 MB/s eta 0:00:04\r\u001B[K     |████                            | 3.6 MB 6.2 MB/s eta 0:00:04\r\u001B[K     |████                            | 3.6 MB 6.2 MB/s eta 0:00:04\r\u001B[K     |████                            | 3.6 MB 6.2 MB/s eta 0:00:04\r\u001B[K     |████                            | 3.6 MB 6.2 MB/s eta 0:00:04\r\u001B[K     |████                            | 3.6 MB 6.2 MB/s eta 0:00:04\r\u001B[K\n\n*** WARNING: max output size exceeded, skipping output. ***\n\n 36.2 MB/s eta 0:00:01\r\u001B[K     |███████████████████████████████▌| 81 kB 39.4 MB/s eta 0:00:01\r\u001B[K     |████████████████████████████████| 83 kB 3.0 MB/s \r\n\u001B[?25hCollecting annotated-types>=0.6.0\r\n  Downloading annotated_types-0.7.0-py3-none-any.whl (13 kB)\r\nCollecting pydantic-core==2.27.2\r\n  Downloading pydantic_core-2.27.2-cp39-cp39-manylinux_2_17_x86_64.manylinux2014_x86_64.whl (2.0 MB)\r\n\u001B[?25l\r\u001B[K     |▏                               | 10 kB 8.6 MB/s eta 0:00:01\r\u001B[K     |▎                               | 20 kB 15.4 MB/s eta 0:00:01\r\u001B[K     |▌                               | 30 kB 21.5 MB/s eta 0:00:01\r\u001B[K     |▋                               | 40 kB 27.2 MB/s eta 0:00:01\r\u001B[K     |▉                               | 51 kB 32.0 MB/s eta 0:00:01\r\u001B[K     |█                               | 61 kB 37.0 MB/s eta 0:00:01\r\u001B[K     |█▏                              | 71 kB 41.8 MB/s eta 0:00:01\r\u001B[K     |█▎                              | 81 kB 46.4 MB/s eta 0:00:01\r\u001B[K     |█▌                              | 92 kB 51.0 MB/s eta 0:00:01\r\u001B[K     |█▋                              | 102 kB 54.4 MB/s eta 0:00:01\r\u001B[K     |█▉                              | 112 kB 54.4 MB/s eta 0:00:01\r\u001B[K     |██                              | 122 kB 54.4 MB/s eta 0:00:01\r\u001B[K     |██▏                             | 133 kB 54.4 MB/s eta 0:00:01\r\u001B[K     |██▎                             | 143 kB 54.4 MB/s eta 0:00:01\r\u001B[K     |██▌                             | 153 kB 54.4 MB/s eta 0:00:01\r\u001B[K     |██▋                             | 163 kB 54.4 MB/s eta 0:00:01\r\u001B[K     |██▉                             | 174 kB 54.4 MB/s eta 0:00:01\r\u001B[K     |███                             | 184 kB 54.4 MB/s eta 0:00:01\r\u001B[K     |███▏                            | 194 kB 54.4 MB/s eta 0:00:01\r\u001B[K     |███▎                            | 204 kB 54.4 MB/s eta 0:00:01\r\u001B[K     |███▌                            | 215 kB 54.4 MB/s eta 0:00:01\r\u001B[K     |███▋                            | 225 kB 54.4 MB/s eta 0:00:01\r\u001B[K     |███▊                            | 235 kB 54.4 MB/s eta 0:00:01\r\u001B[K     |████                            | 245 kB 54.4 MB/s eta 0:00:01\r\u001B[K     |████                            | 256 kB 54.4 MB/s eta 0:00:01\r\u001B[K     |████▎                           | 266 kB 54.4 MB/s eta 0:00:01\r\u001B[K     |████▍                           | 276 kB 54.4 MB/s eta 0:00:01\r\u001B[K     |████▋                           | 286 kB 54.4 MB/s eta 0:00:01\r\u001B[K     |████▊                           | 296 kB 54.4 MB/s eta 0:00:01\r\u001B[K     |█████                           | 307 kB 54.4 MB/s eta 0:00:01\r\u001B[K     |█████                           | 317 kB 54.4 MB/s eta 0:00:01\r\u001B[K     |█████▎                          | 327 kB 54.4 MB/s eta 0:00:01\r\u001B[K     |█████▍                          | 337 kB 54.4 MB/s eta 0:00:01\r\u001B[K     |█████▋                          | 348 kB 54.4 MB/s eta 0:00:01\r\u001B[K     |█████▊                          | 358 kB 54.4 MB/s eta 0:00:01\r\u001B[K     |██████                          | 368 kB 54.4 MB/s eta 0:00:01\r\u001B[K     |██████                          | 378 kB 54.4 MB/s eta 0:00:01\r\u001B[K     |██████▎                         | 389 kB 54.4 MB/s eta 0:00:01\r\u001B[K     |██████▍                         | 399 kB 54.4 MB/s eta 0:00:01\r\u001B[K     |██████▋                         | 409 kB 54.4 MB/s eta 0:00:01\r\u001B[K     |██████▊                         | 419 kB 54.4 MB/s eta 0:00:01\r\u001B[K     |███████                         | 430 kB 54.4 MB/s eta 0:00:01\r\u001B[K     |███████                         | 440 kB 54.4 MB/s eta 0:00:01\r\u001B[K     |███████▎                        | 450 kB 54.4 MB/s eta 0:00:01\r\u001B[K     |███████▍                        | 460 kB 54.4 MB/s eta 0:00:01\r\u001B[K     |███████▌                        | 471 kB 54.4 MB/s eta 0:00:01\r\u001B[K     |███████▊                        | 481 kB 54.4 MB/s eta 0:00:01\r\u001B[K     |███████▉                        | 491 kB 54.4 MB/s eta 0:00:01\r\u001B[K     |████████                        | 501 kB 54.4 MB/s eta 0:00:01\r\u001B[K     |████████▏                       | 512 kB 54.4 MB/s eta 0:00:01\r\u001B[K     |████████▍                       | 522 kB 54.4 MB/s eta 0:00:01\r\u001B[K     |████████▌                       | 532 kB 54.4 MB/s eta 0:00:01\r\u001B[K     |████████▊                       | 542 kB 54.4 MB/s eta 0:00:01\r\u001B[K     |████████▉                       | 552 kB 54.4 MB/s eta 0:00:01\r\u001B[K     |█████████                       | 563 kB 54.4 MB/s eta 0:00:01\r\u001B[K     |█████████▏                      | 573 kB 54.4 MB/s eta 0:00:01\r\u001B[K     |█████████▍                      | 583 kB 54.4 MB/s eta 0:00:01\r\u001B[K     |█████████▌                      | 593 kB 54.4 MB/s eta 0:00:01\r\u001B[K     |█████████▊                      | 604 kB 54.4 MB/s eta 0:00:01\r\u001B[K     |█████████▉                      | 614 kB 54.4 MB/s eta 0:00:01\r\u001B[K     |██████████                      | 624 kB 54.4 MB/s eta 0:00:01\r\u001B[K     |██████████▏                     | 634 kB 54.4 MB/s eta 0:00:01\r\u001B[K     |██████████▍                     | 645 kB 54.4 MB/s eta 0:00:01\r\u001B[K     |██████████▌                     | 655 kB 54.4 MB/s eta 0:00:01\r\u001B[K     |██████████▊                     | 665 kB 54.4 MB/s eta 0:00:01\r\u001B[K     |██████████▉                     | 675 kB 54.4 MB/s eta 0:00:01\r\u001B[K     |███████████                     | 686 kB 54.4 MB/s eta 0:00:01\r\u001B[K     |███████████▏                    | 696 kB 54.4 MB/s eta 0:00:01\r\u001B[K     |███████████▎                    | 706 kB 54.4 MB/s eta 0:00:01\r\u001B[K     |███████████▌                    | 716 kB 54.4 MB/s eta 0:00:01\r\u001B[K     |███████████▋                    | 727 kB 54.4 MB/s eta 0:00:01\r\u001B[K     |███████████▉                    | 737 kB 54.4 MB/s eta 0:00:01\r\u001B[K     |████████████                    | 747 kB 54.4 MB/s eta 0:00:01\r\u001B[K     |████████████▏                   | 757 kB 54.4 MB/s eta 0:00:01\r\u001B[K     |████████████▎                   | 768 kB 54.4 MB/s eta 0:00:01\r\u001B[K     |████████████▌                   | 778 kB 54.4 MB/s eta 0:00:01\r\u001B[K     |████████████▋                   | 788 kB 54.4 MB/s eta 0:00:01\r\u001B[K     |████████████▉                   | 798 kB 54.4 MB/s eta 0:00:01\r\u001B[K     |█████████████                   | 808 kB 54.4 MB/s eta 0:00:01\r\u001B[K     |█████████████▏                  | 819 kB 54.4 MB/s eta 0:00:01\r\u001B[K     |█████████████▎                  | 829 kB 54.4 MB/s eta 0:00:01\r\u001B[K     |█████████████▌                  | 839 kB 54.4 MB/s eta 0:00:01\r\u001B[K     |█████████████▋                  | 849 kB 54.4 MB/s eta 0:00:01\r\u001B[K     |█████████████▉                  | 860 kB 54.4 MB/s eta 0:00:01\r\u001B[K     |██████████████                  | 870 kB 54.4 MB/s eta 0:00:01\r\u001B[K     |██████████████▏                 | 880 kB 54.4 MB/s eta 0:00:01\r\u001B[K     |██████████████▎                 | 890 kB 54.4 MB/s eta 0:00:01\r\u001B[K     |██████████████▌                 | 901 kB 54.4 MB/s eta 0:00:01\r\u001B[K     |██████████████▋                 | 911 kB 54.4 MB/s eta 0:00:01\r\u001B[K     |██████████████▊                 | 921 kB 54.4 MB/s eta 0:00:01\r\u001B[K     |███████████████                 | 931 kB 54.4 MB/s eta 0:00:01\r\u001B[K     |███████████████                 | 942 kB 54.4 MB/s eta 0:00:01\r\u001B[K     |███████████████▎                | 952 kB 54.4 MB/s eta 0:00:01\r\u001B[K     |███████████████▍                | 962 kB 54.4 MB/s eta 0:00:01\r\u001B[K     |███████████████▋                | 972 kB 54.4 MB/s eta 0:00:01\r\u001B[K     |███████████████▊                | 983 kB 54.4 MB/s eta 0:00:01\r\u001B[K     |████████████████                | 993 kB 54.4 MB/s eta 0:00:01\r\u001B[K     |████████████████                | 1.0 MB 54.4 MB/s eta 0:00:01\r\u001B[K     |████████████████▎               | 1.0 MB 54.4 MB/s eta 0:00:01\r\u001B[K     |████████████████▍               | 1.0 MB 54.4 MB/s eta 0:00:01\r\u001B[K     |████████████████▋               | 1.0 MB 54.4 MB/s eta 0:00:01\r\u001B[K     |████████████████▊               | 1.0 MB 54.4 MB/s eta 0:00:01\r\u001B[K     |█████████████████               | 1.1 MB 54.4 MB/s eta 0:00:01\r\u001B[K     |█████████████████               | 1.1 MB 54.4 MB/s eta 0:00:01\r\u001B[K     |█████████████████▎              | 1.1 MB 54.4 MB/s eta 0:00:01\r\u001B[K     |█████████████████▍              | 1.1 MB 54.4 MB/s eta 0:00:01\r\u001B[K     |█████████████████▋              | 1.1 MB 54.4 MB/s eta 0:00:01\r\u001B[K     |█████████████████▊              | 1.1 MB 54.4 MB/s eta 0:00:01\r\u001B[K     |██████████████████              | 1.1 MB 54.4 MB/s eta 0:00:01\r\u001B[K     |██████████████████              | 1.1 MB 54.4 MB/s eta 0:00:01\r\u001B[K     |██████████████████▎             | 1.1 MB 54.4 MB/s eta 0:00:01\r\u001B[K     |██████████████████▍             | 1.1 MB 54.4 MB/s eta 0:00:01\r\u001B[K     |██████████████████▌             | 1.2 MB 54.4 MB/s eta 0:00:01\r\u001B[K     |██████████████████▊             | 1.2 MB 54.4 MB/s eta 0:00:01\r\u001B[K     |██████████████████▉             | 1.2 MB 54.4 MB/s eta 0:00:01\r\u001B[K     |███████████████████             | 1.2 MB 54.4 MB/s eta 0:00:01\r\u001B[K     |███████████████████▏            | 1.2 MB 54.4 MB/s eta 0:00:01\r\u001B[K     |███████████████████▍            | 1.2 MB 54.4 MB/s eta 0:00:01\r\u001B[K     |███████████████████▌            | 1.2 MB 54.4 MB/s eta 0:00:01\r\u001B[K     |███████████████████▊            | 1.2 MB 54.4 MB/s eta 0:00:01\r\u001B[K     |███████████████████▉            | 1.2 MB 54.4 MB/s eta 0:00:01\r\u001B[K     |████████████████████            | 1.2 MB 54.4 MB/s eta 0:00:01\r\u001B[K     |████████████████████▏           | 1.3 MB 54.4 MB/s eta 0:00:01\r\u001B[K     |████████████████████▍           | 1.3 MB 54.4 MB/s eta 0:00:01\r\u001B[K     |████████████████████▌           | 1.3 MB 54.4 MB/s eta 0:00:01\r\u001B[K     |████████████████████▊           | 1.3 MB 54.4 MB/s eta 0:00:01\r\u001B[K     |████████████████████▉           | 1.3 MB 54.4 MB/s eta 0:00:01\r\u001B[K     |█████████████████████           | 1.3 MB 54.4 MB/s eta 0:00:01\r\u001B[K     |█████████████████████▏          | 1.3 MB 54.4 MB/s eta 0:00:01\r\u001B[K     |█████████████████████▍          | 1.3 MB 54.4 MB/s eta 0:00:01\r\u001B[K     |█████████████████████▌          | 1.3 MB 54.4 MB/s eta 0:00:01\r\u001B[K     |█████████████████████▊          | 1.4 MB 54.4 MB/s eta 0:00:01\r\u001B[K     |█████████████████████▉          | 1.4 MB 54.4 MB/s eta 0:00:01\r\u001B[K     |██████████████████████          | 1.4 MB 54.4 MB/s eta 0:00:01\r\u001B[K     |██████████████████████▏         | 1.4 MB 54.4 MB/s eta 0:00:01\r\u001B[K     |██████████████████████▎         | 1.4 MB 54.4 MB/s eta 0:00:01\r\u001B[K     |██████████████████████▌         | 1.4 MB 54.4 MB/s eta 0:00:01\r\u001B[K     |██████████████████████▋         | 1.4 MB 54.4 MB/s eta 0:00:01\r\u001B[K     |██████████████████████▉         | 1.4 MB 54.4 MB/s eta 0:00:01\r\u001B[K     |███████████████████████         | 1.4 MB 54.4 MB/s eta 0:00:01\r\u001B[K     |███████████████████████▏        | 1.4 MB 54.4 MB/s eta 0:00:01\r\u001B[K     |███████████████████████▎        | 1.5 MB 54.4 MB/s eta 0:00:01\r\u001B[K     |███████████████████████▌        | 1.5 MB 54.4 MB/s eta 0:00:01\r\u001B[K     |███████████████████████▋        | 1.5 MB 54.4 MB/s eta 0:00:01\r\u001B[K     |███████████████████████▉        | 1.5 MB 54.4 MB/s eta 0:00:01\r\u001B[K     |████████████████████████        | 1.5 MB 54.4 MB/s eta 0:00:01\r\u001B[K     |████████████████████████▏       | 1.5 MB 54.4 MB/s eta 0:00:01\r\u001B[K     |████████████████████████▎       | 1.5 MB 54.4 MB/s eta 0:00:01\r\u001B[K     |████████████████████████▌       | 1.5 MB 54.4 MB/s eta 0:00:01\r\u001B[K     |████████████████████████▋       | 1.5 MB 54.4 MB/s eta 0:00:01\r\u001B[K     |████████████████████████▉       | 1.5 MB 54.4 MB/s eta 0:00:01\r\u001B[K     |█████████████████████████       | 1.6 MB 54.4 MB/s eta 0:00:01\r\u001B[K     |█████████████████████████▏      | 1.6 MB 54.4 MB/s eta 0:00:01\r\u001B[K     |█████████████████████████▎      | 1.6 MB 54.4 MB/s eta 0:00:01\r\u001B[K     |█████████████████████████▌      | 1.6 MB 54.4 MB/s eta 0:00:01\r\u001B[K     |█████████████████████████▋      | 1.6 MB 54.4 MB/s eta 0:00:01\r\u001B[K     |█████████████████████████▉      | 1.6 MB 54.4 MB/s eta 0:00:01\r\u001B[K     |██████████████████████████      | 1.6 MB 54.4 MB/s eta 0:00:01\r\u001B[K     |██████████████████████████      | 1.6 MB 54.4 MB/s eta 0:00:01\r\u001B[K     |██████████████████████████▎     | 1.6 MB 54.4 MB/s eta 0:00:01\r\u001B[K     |██████████████████████████▍     | 1.6 MB 54.4 MB/s eta 0:00:01\r\u001B[K     |██████████████████████████▋     | 1.7 MB 54.4 MB/s eta 0:00:01\r\u001B[K     |██████████████████████████▊     | 1.7 MB 54.4 MB/s eta 0:00:01\r\u001B[K     |███████████████████████████     | 1.7 MB 54.4 MB/s eta 0:00:01\r\u001B[K     |███████████████████████████     | 1.7 MB 54.4 MB/s eta 0:00:01\r\u001B[K     |███████████████████████████▎    | 1.7 MB 54.4 MB/s eta 0:00:01\r\u001B[K     |███████████████████████████▍    | 1.7 MB 54.4 MB/s eta 0:00:01\r\u001B[K     |███████████████████████████▋    | 1.7 MB 54.4 MB/s eta 0:00:01\r\u001B[K     |███████████████████████████▊    | 1.7 MB 54.4 MB/s eta 0:00:01\r\u001B[K     |████████████████████████████    | 1.7 MB 54.4 MB/s eta 0:00:01\r\u001B[K     |████████████████████████████    | 1.8 MB 54.4 MB/s eta 0:00:01\r\u001B[K     |████████████████████████████▎   | 1.8 MB 54.4 MB/s eta 0:00:01\r\u001B[K     |████████████████████████████▍   | 1.8 MB 54.4 MB/s eta 0:00:01\r\u001B[K     |████████████████████████████▋   | 1.8 MB 54.4 MB/s eta 0:00:01\r\u001B[K     |████████████████████████████▊   | 1.8 MB 54.4 MB/s eta 0:00:01\r\u001B[K     |█████████████████████████████   | 1.8 MB 54.4 MB/s eta 0:00:01\r\u001B[K     |█████████████████████████████   | 1.8 MB 54.4 MB/s eta 0:00:01\r\u001B[K     |█████████████████████████████▎  | 1.8 MB 54.4 MB/s eta 0:00:01\r\u001B[K     |█████████████████████████████▍  | 1.8 MB 54.4 MB/s eta 0:00:01\r\u001B[K     |█████████████████████████████▌  | 1.8 MB 54.4 MB/s eta 0:00:01\r\u001B[K     |█████████████████████████████▊  | 1.9 MB 54.4 MB/s eta 0:00:01\r\u001B[K     |█████████████████████████████▉  | 1.9 MB 54.4 MB/s eta 0:00:01\r\u001B[K     |██████████████████████████████  | 1.9 MB 54.4 MB/s eta 0:00:01\r\u001B[K     |██████████████████████████████▏ | 1.9 MB 54.4 MB/s eta 0:00:01\r\u001B[K     |██████████████████████████████▍ | 1.9 MB 54.4 MB/s eta 0:00:01\r\u001B[K     |██████████████████████████████▌ | 1.9 MB 54.4 MB/s eta 0:00:01\r\u001B[K     |██████████████████████████████▊ | 1.9 MB 54.4 MB/s eta 0:00:01\r\u001B[K     |██████████████████████████████▉ | 1.9 MB 54.4 MB/s eta 0:00:01\r\u001B[K     |███████████████████████████████ | 1.9 MB 54.4 MB/s eta 0:00:01\r\u001B[K     |███████████████████████████████▏| 1.9 MB 54.4 MB/s eta 0:00:01\r\u001B[K     |███████████████████████████████▍| 2.0 MB 54.4 MB/s eta 0:00:01\r\u001B[K     |███████████████████████████████▌| 2.0 MB 54.4 MB/s eta 0:00:01\r\u001B[K     |███████████████████████████████▊| 2.0 MB 54.4 MB/s eta 0:00:01\r\u001B[K     |███████████████████████████████▉| 2.0 MB 54.4 MB/s eta 0:00:01\r\u001B[K     |████████████████████████████████| 2.0 MB 54.4 MB/s \r\n\u001B[?25hRequirement already satisfied: six>=1.5 in /databricks/python3/lib/python3.9/site-packages (from python-dateutil<3,>=2.7.0->graphene<4->mlflow) (1.16.0)\r\nRequirement already satisfied: certifi>=2017.4.17 in /databricks/python3/lib/python3.9/site-packages (from requests<3,>=2.17.3->mlflow-skinny==2.21.0->mlflow) (2021.10.8)\r\nRequirement already satisfied: idna<4,>=2.5 in /databricks/python3/lib/python3.9/site-packages (from requests<3,>=2.17.3->mlflow-skinny==2.21.0->mlflow) (3.3)\r\nRequirement already satisfied: charset-normalizer<4,>=2 in /databricks/python3/lib/python3.9/site-packages (from requests<3,>=2.17.3->mlflow-skinny==2.21.0->mlflow) (2.0.4)\r\nRequirement already satisfied: joblib>=0.11 in /databricks/python3/lib/python3.9/site-packages (from scikit-learn<2->mlflow) (1.1.1)\r\nRequirement already satisfied: threadpoolctl>=2.0.0 in /databricks/python3/lib/python3.9/site-packages (from scikit-learn<2->mlflow) (2.2.0)\r\nCollecting greenlet!=0.4.17\r\n  Downloading greenlet-3.1.1-cp39-cp39-manylinux_2_24_x86_64.manylinux_2_28_x86_64.whl (597 kB)\r\n\u001B[?25l\r\u001B[K     |▌                               | 10 kB 31.8 MB/s eta 0:00:01\r\u001B[K     |█                               | 20 kB 42.5 MB/s eta 0:00:01\r\u001B[K     |█▋                              | 30 kB 55.5 MB/s eta 0:00:01\r\u001B[K     |██▏                             | 40 kB 61.7 MB/s eta 0:00:01\r\u001B[K     |██▊                             | 51 kB 41.1 MB/s eta 0:00:01\r\u001B[K     |███▎                            | 61 kB 46.8 MB/s eta 0:00:01\r\u001B[K     |███▉                            | 71 kB 51.7 MB/s eta 0:00:01\r\u001B[K     |████▍                           | 81 kB 56.4 MB/s eta 0:00:01\r\u001B[K     |█████                           | 92 kB 61.3 MB/s eta 0:00:01\r\u001B[K     |█████▌                          | 102 kB 65.2 MB/s eta 0:00:01\r\u001B[K     |██████                          | 112 kB 65.2 MB/s eta 0:00:01\r\u001B[K     |██████▋                         | 122 kB 65.2 MB/s eta 0:00:01\r\u001B[K     |███████▏                        | 133 kB 65.2 MB/s eta 0:00:01\r\u001B[K     |███████▊                        | 143 kB 65.2 MB/s eta 0:00:01\r\u001B[K     |████████▎                       | 153 kB 65.2 MB/s eta 0:00:01\r\u001B[K     |████████▊                       | 163 kB 65.2 MB/s eta 0:00:01\r\u001B[K     |█████████▎                      | 174 kB 65.2 MB/s eta 0:00:01\r\u001B[K     |█████████▉                      | 184 kB 65.2 MB/s eta 0:00:01\r\u001B[K     |██████████▍                     | 194 kB 65.2 MB/s eta 0:00:01\r\u001B[K     |███████████                     | 204 kB 65.2 MB/s eta 0:00:01\r\u001B[K     |███████████▌                    | 215 kB 65.2 MB/s eta 0:00:01\r\u001B[K     |████████████                    | 225 kB 65.2 MB/s eta 0:00:01\r\u001B[K     |████████████▋                   | 235 kB 65.2 MB/s eta 0:00:01\r\u001B[K     |█████████████▏                  | 245 kB 65.2 MB/s eta 0:00:01\r\u001B[K     |█████████████▊                  | 256 kB 65.2 MB/s eta 0:00:01\r\u001B[K     |██████████████▎                 | 266 kB 65.2 MB/s eta 0:00:01\r\u001B[K     |██████████████▉                 | 276 kB 65.2 MB/s eta 0:00:01\r\u001B[K     |███████████████▍                | 286 kB 65.2 MB/s eta 0:00:01\r\u001B[K     |████████████████                | 296 kB 65.2 MB/s eta 0:00:01\r\u001B[K     |████████████████▌               | 307 kB 65.2 MB/s eta 0:00:01\r\u001B[K     |█████████████████               | 317 kB 65.2 MB/s eta 0:00:01\r\u001B[K     |█████████████████▌              | 327 kB 65.2 MB/s eta 0:00:01\r\u001B[K     |██████████████████              | 337 kB 65.2 MB/s eta 0:00:01\r\u001B[K     |██████████████████▋             | 348 kB 65.2 MB/s eta 0:00:01\r\u001B[K     |███████████████████▏            | 358 kB 65.2 MB/s eta 0:00:01\r\u001B[K     |███████████████████▊            | 368 kB 65.2 MB/s eta 0:00:01\r\u001B[K     |████████████████████▎           | 378 kB 65.2 MB/s eta 0:00:01\r\u001B[K     |████████████████████▉           | 389 kB 65.2 MB/s eta 0:00:01\r\u001B[K     |█████████████████████▍          | 399 kB 65.2 MB/s eta 0:00:01\r\u001B[K     |██████████████████████          | 409 kB 65.2 MB/s eta 0:00:01\r\u001B[K     |██████████████████████▌         | 419 kB 65.2 MB/s eta 0:00:01\r\u001B[K     |███████████████████████         | 430 kB 65.2 MB/s eta 0:00:01\r\u001B[K     |███████████████████████▋        | 440 kB 65.2 MB/s eta 0:00:01\r\u001B[K     |████████████████████████▏       | 450 kB 65.2 MB/s eta 0:00:01\r\u001B[K     |████████████████████████▊       | 460 kB 65.2 MB/s eta 0:00:01\r\u001B[K     |█████████████████████████▎      | 471 kB 65.2 MB/s eta 0:00:01\r\u001B[K     |█████████████████████████▉      | 481 kB 65.2 MB/s eta 0:00:01\r\u001B[K     |██████████████████████████▎     | 491 kB 65.2 MB/s eta 0:00:01\r\u001B[K     |██████████████████████████▉     | 501 kB 65.2 MB/s eta 0:00:01\r\u001B[K     |███████████████████████████▍    | 512 kB 65.2 MB/s eta 0:00:01\r\u001B[K     |████████████████████████████    | 522 kB 65.2 MB/s eta 0:00:01\r\u001B[K     |████████████████████████████▌   | 532 kB 65.2 MB/s eta 0:00:01\r\u001B[K     |█████████████████████████████   | 542 kB 65.2 MB/s eta 0:00:01\r\u001B[K     |█████████████████████████████▋  | 552 kB 65.2 MB/s eta 0:00:01\r\u001B[K     |██████████████████████████████▏ | 563 kB 65.2 MB/s eta 0:00:01\r\u001B[K     |██████████████████████████████▊ | 573 kB 65.2 MB/s eta 0:00:01\r\u001B[K     |███████████████████████████████▎| 583 kB 65.2 MB/s eta 0:00:01\r\u001B[K     |███████████████████████████████▉| 593 kB 65.2 MB/s eta 0:00:01\r\u001B[K     |████████████████████████████████| 597 kB 65.2 MB/s \r\n\u001B[?25hCollecting anyio<5,>=3.6.2\r\n  Downloading anyio-4.9.0-py3-none-any.whl (100 kB)\r\n\u001B[?25l\r\u001B[K     |███▎                            | 10 kB 30.0 MB/s eta 0:00:01\r\u001B[K     |██████▌                         | 20 kB 43.5 MB/s eta 0:00:01\r\u001B[K     |█████████▊                      | 30 kB 56.6 MB/s eta 0:00:01\r\u001B[K     |█████████████                   | 40 kB 62.3 MB/s eta 0:00:01\r\u001B[K     |████████████████▎               | 51 kB 69.0 MB/s eta 0:00:01\r\u001B[K     |███████████████████▌            | 61 kB 75.8 MB/s eta 0:00:01\r\u001B[K     |██████████████████████▊         | 71 kB 81.7 MB/s eta 0:00:01\r\u001B[K     |██████████████████████████      | 81 kB 87.4 MB/s eta 0:00:01\r\u001B[K     |█████████████████████████████▎  | 92 kB 89.3 MB/s eta 0:00:01\r\u001B[K     |████████████████████████████████| 100 kB 16.4 MB/s \r\n\u001B[?25hCollecting sniffio>=1.1\r\n  Downloading sniffio-1.3.1-py3-none-any.whl (10 kB)\r\nCollecting exceptiongroup>=1.0.2\r\n  Downloading exceptiongroup-1.2.2-py3-none-any.whl (16 kB)\r\nCollecting h11>=0.8\r\n  Downloading h11-0.14.0-py3-none-any.whl (58 kB)\r\n\u001B[?25l\r\u001B[K     |█████▋                          | 10 kB 30.3 MB/s eta 0:00:01\r\u001B[K     |███████████▎                    | 20 kB 40.8 MB/s eta 0:00:01\r\u001B[K     |████████████████▉               | 30 kB 53.9 MB/s eta 0:00:01\r\u001B[K     |██████████████████████▌         | 40 kB 64.4 MB/s eta 0:00:01\r\u001B[K     |████████████████████████████▏   | 51 kB 71.6 MB/s eta 0:00:01\r\u001B[K     |████████████████████████████████| 58 kB 11.0 MB/s \r\n\u001B[?25hCollecting MarkupSafe>=2.0\r\n  Downloading MarkupSafe-3.0.2-cp39-cp39-manylinux_2_17_x86_64.manylinux2014_x86_64.whl (20 kB)\r\nInstalling collected packages: zipp, wrapt, typing-extensions, sniffio, pyasn1, importlib-metadata, exceptiongroup, deprecated, smmap, rsa, pydantic-core, pyasn1-modules, opentelemetry-api, cachetools, anyio, annotated-types, starlette, requests, pydantic, opentelemetry-semantic-conventions, MarkupSafe, h11, greenlet, graphql-core, google-auth, gitdb, click, Werkzeug, uvicorn, sqlparse, sqlalchemy, pyyaml, opentelemetry-sdk, Mako, Jinja2, itsdangerous, graphql-relay, gitpython, fastapi, databricks-sdk, cloudpickle, blinker, mlflow-skinny, markdown, gunicorn, graphene, Flask, docker, alembic, mlflow\r\n  Attempting uninstall: typing-extensions\r\n    Found existing installation: typing-extensions 4.1.1\r\n    Not uninstalling typing-extensions at /databricks/python3/lib/python3.9/site-packages, outside environment /local_disk0/.ephemeral_nfs/envs/pythonEnv-392adfe9-343f-4823-9e7a-c84ec77bff55\r\n    Can't uninstall 'typing-extensions'. No files were found to uninstall.\r\n  Attempting uninstall: requests\r\n    Found existing installation: requests 2.27.1\r\n    Not uninstalling requests at /databricks/python3/lib/python3.9/site-packages, outside environment /local_disk0/.ephemeral_nfs/envs/pythonEnv-392adfe9-343f-4823-9e7a-c84ec77bff55\r\n    Can't uninstall 'requests'. No files were found to uninstall.\r\n  Attempting uninstall: MarkupSafe\r\n    Found existing installation: MarkupSafe 2.0.1\r\n    Not uninstalling markupsafe at /databricks/python3/lib/python3.9/site-packages, outside environment /local_disk0/.ephemeral_nfs/envs/pythonEnv-392adfe9-343f-4823-9e7a-c84ec77bff55\r\n    Can't uninstall 'MarkupSafe'. No files were found to uninstall.\r\n  Attempting uninstall: click\r\n    Found existing installation: click 8.0.4\r\n    Not uninstalling click at /databricks/python3/lib/python3.9/site-packages, outside environment /local_disk0/.ephemeral_nfs/envs/pythonEnv-392adfe9-343f-4823-9e7a-c84ec77bff55\r\n    Can't uninstall 'click'. No files were found to uninstall.\r\n  Attempting uninstall: Jinja2\r\n    Found existing installation: Jinja2 2.11.3\r\n    Not uninstalling jinja2 at /databricks/python3/lib/python3.9/site-packages, outside environment /local_disk0/.ephemeral_nfs/envs/pythonEnv-392adfe9-343f-4823-9e7a-c84ec77bff55\r\n    Can't uninstall 'Jinja2'. No files were found to uninstall.\r\nSuccessfully installed Flask-3.1.0 Jinja2-3.1.6 Mako-1.3.9 MarkupSafe-3.0.2 Werkzeug-3.1.3 alembic-1.15.1 annotated-types-0.7.0 anyio-4.9.0 blinker-1.9.0 cachetools-5.5.2 click-8.1.8 cloudpickle-3.1.1 databricks-sdk-0.47.0 deprecated-1.2.18 docker-7.1.0 exceptiongroup-1.2.2 fastapi-0.115.11 gitdb-4.0.12 gitpython-3.1.44 google-auth-2.38.0 graphene-3.4.3 graphql-core-3.2.6 graphql-relay-3.2.0 greenlet-3.1.1 gunicorn-23.0.0 h11-0.14.0 importlib-metadata-8.6.1 itsdangerous-2.2.0 markdown-3.7 mlflow-2.21.0 mlflow-skinny-2.21.0 opentelemetry-api-1.31.1 opentelemetry-sdk-1.31.1 opentelemetry-semantic-conventions-0.52b1 pyasn1-0.6.1 pyasn1-modules-0.4.1 pydantic-2.10.6 pydantic-core-2.27.2 pyyaml-6.0.2 requests-2.32.3 rsa-4.9 smmap-5.0.2 sniffio-1.3.1 sqlalchemy-2.0.39 sqlparse-0.5.3 starlette-0.46.1 typing-extensions-4.12.2 uvicorn-0.34.0 wrapt-1.17.2 zipp-3.21.0\r\n\u001B[33mWARNING: You are using pip version 21.2.4; however, version 25.0.1 is available.\r\nYou should consider upgrading via the '/local_disk0/.ephemeral_nfs/envs/pythonEnv-392adfe9-343f-4823-9e7a-c84ec77bff55/bin/python -m pip install --upgrade pip' command.\u001B[0m\r\nPython interpreter will be restarted.\nRequirement already satisfied: typing-extensions in /local_disk0/.ephemeral_nfs/envs/pythonEnv-392adfe9-343f-4823-9e7a-c84ec77bff55/lib/python3.9/site-packages (4.12.2)\nPython interpreter will be restarted.\n"
     ]
    }
   ],
   "source": [
    "!pip install mlflow\n",
    "%pip install --upgrade typing-extensions"
   ]
  },
  {
   "cell_type": "code",
   "execution_count": 0,
   "metadata": {
    "application/vnd.databricks.v1+cell": {
     "cellMetadata": {
      "byteLimit": 2048000,
      "rowLimit": 10000
     },
     "inputWidgets": {},
     "nuid": "baf5badc-693c-46ad-8b47-1ac38f4dfa41",
     "showTitle": false,
     "tableResultSettingsMap": {},
     "title": ""
    }
   },
   "outputs": [
    {
     "output_type": "stream",
     "name": "stdout",
     "output_type": "stream",
     "text": [
      "ROC AUC Score: 1.0\n"
     ]
    },
    {
     "output_type": "stream",
     "name": "stderr",
     "output_type": "stream",
     "text": [
      "2025/03/21 16:59:05 INFO mlflow.spark: Inferring pip requirements by reloading the logged model from the databricks artifact repository, which can be time-consuming. To speed up, explicitly specify the conda_env or pip_requirements when calling log_model().\n2025/03/21 16:59:27 WARNING mlflow.utils.environment: Encountered an unexpected error while inferring pip requirements (model URI: dbfs:/databricks/mlflow-tracking/4199294914396527/ef99dca95a2c4731a6bfdb556e9b66a3/artifacts/iris_binary_classification/sparkml, flavor: spark). Fall back to return ['pyspark==3.3.2', 'pandas<2']. Set logging level to DEBUG to see the full traceback. \n"
     ]
    },
    {
     "output_type": "stream",
     "name": "stdout",
     "output_type": "stream",
     "text": [
      "Model logged under run ID: ef99dca95a2c4731a6bfdb556e9b66a3\n"
     ]
    },
    {
     "output_type": "stream",
     "name": "stderr",
     "output_type": "stream",
     "text": [
      "2025/03/21 16:59:30 INFO mlflow.spark: URI 'runs:/ef99dca95a2c4731a6bfdb556e9b66a3/iris_binary_classification/sparkml' does not point to the current DFS.\n2025/03/21 16:59:30 INFO mlflow.spark: File 'runs:/ef99dca95a2c4731a6bfdb556e9b66a3/iris_binary_classification/sparkml' not found on DFS. Will attempt to upload the file.\n2025/03/21 16:59:34 INFO mlflow.spark: Copied SparkML model to /tmp/mlflow/eab90a2c-c6c7-4def-83d3-3641ed19b162\n"
     ]
    },
    {
     "output_type": "stream",
     "name": "stdout",
     "output_type": "stream",
     "text": [
      "+-----------------+-----+----------+\n|         features|label|prediction|\n+-----------------+-----+----------+\n|[4.4,3.0,1.3,0.2]|    1|       1.0|\n|[4.6,3.2,1.4,0.2]|    1|       1.0|\n|[4.6,3.6,1.0,0.2]|    1|       1.0|\n|[4.7,3.2,1.3,0.2]|    1|       1.0|\n|[4.8,3.1,1.6,0.2]|    1|       1.0|\n|[4.8,3.4,1.6,0.2]|    1|       1.0|\n|[4.8,3.4,1.9,0.2]|    1|       1.0|\n|[4.9,3.1,1.5,0.1]|    1|       1.0|\n|[4.9,3.1,1.5,0.1]|    1|       1.0|\n|[5.0,2.3,3.3,1.0]|    0|       0.0|\n|[5.0,3.0,1.6,0.2]|    1|       1.0|\n|[5.0,3.4,1.6,0.4]|    1|       1.0|\n|[5.0,3.5,1.3,0.3]|    1|       1.0|\n|[5.0,3.5,1.6,0.6]|    1|       1.0|\n|[5.1,2.5,3.0,1.1]|    0|       0.0|\n|[5.1,3.4,1.5,0.2]|    1|       1.0|\n|[5.1,3.5,1.4,0.2]|    1|       1.0|\n|[5.1,3.8,1.6,0.2]|    1|       1.0|\n|[5.2,3.4,1.4,0.2]|    1|       1.0|\n|[5.2,3.5,1.5,0.2]|    1|       1.0|\n+-----------------+-----+----------+\nonly showing top 20 rows\n\n+-----------------+----------+\n|         features|prediction|\n+-----------------+----------+\n|[6.1,2.9,4.7,1.4]|       0.0|\n|[5.4,3.4,1.5,0.4]|       1.0|\n+-----------------+----------+\n\nReal-Time Prediction: 1.0\nReal-Time Prediction: 0.0\nOut[1]: 0.0"
     ]
    }
   ],
   "source": [
    "from pyspark.sql import SparkSession\n",
    "spark = SparkSession.builder.appName(\"mlops\").getOrCreate()\n",
    "from pyspark.sql.types import StructType, StructField, DoubleType, StringType\n",
    "from pyspark.sql.functions import when\n",
    "from pyspark.ml.feature import VectorAssembler\n",
    "from pyspark.ml.classification import LogisticRegression\n",
    "from pyspark.ml.evaluation import BinaryClassificationEvaluator\n",
    "import mlflow\n",
    "import mlflow.spark\n",
    "\n",
    "\n",
    "schema = StructType([\n",
    "    StructField(\"sepal_length\", DoubleType(), False), \n",
    "    StructField(\"sepal_width\", DoubleType(), False),  \n",
    "    StructField(\"petal_length\", DoubleType(), False), \n",
    "    StructField(\"petal_width\", DoubleType(), False),  \n",
    "    StructField(\"class\", StringType(), False)         \n",
    "])\n",
    "\n",
    "df = spark.read.format(\"csv\").schema(schema).load(\"dbfs:/FileStore/irisdata.csv\")\n",
    "\n",
    "\n",
    "# Convert class to binary label: Iris-setosa = 1, Others = 0\n",
    "df = df.withColumn(\"label\", when(df[\"class\"] == \"Iris-setosa\", 1).otherwise(0))\n",
    "\n",
    "# Assemble features into a single column\n",
    "feature_assembler = VectorAssembler(\n",
    "    inputCols=[\"sepal_length\", \"sepal_width\", \"petal_length\", \"petal_width\"],\n",
    "    outputCol=\"features\"\n",
    ")\n",
    "df = feature_assembler.transform(df).select(\"features\", \"label\")\n",
    "\n",
    "\n",
    "# Split data\n",
    "train_data, test_data = df.randomSplit([0.7, 0.3], seed=42)\n",
    "\n",
    "# Train Logistic Regression model\n",
    "lr = LogisticRegression(featuresCol=\"features\", labelCol=\"label\")\n",
    "model = lr.fit(train_data)\n",
    "\n",
    "# Evaluate the model\n",
    "predictions = model.transform(test_data)\n",
    "evaluator = BinaryClassificationEvaluator(labelCol=\"label\", metricName=\"areaUnderROC\")\n",
    "roc_auc = evaluator.evaluate(predictions)\n",
    "\n",
    "print(f\"ROC AUC Score: {roc_auc}\")\n",
    "\n",
    "\n",
    "# Set MLflow experiment (modify as needed)\n",
    "mlflow.set_experiment(\"/Users/aniketpandey0796@gmail.com/iris_binary_classification\")\n",
    "\n",
    "with mlflow.start_run() as run:\n",
    "    mlflow.log_param(\"model_type\", \"LogisticRegression\")\n",
    "    mlflow.log_metric(\"roc_auc\", roc_auc)\n",
    "    \n",
    "    # Log model without registration\n",
    "    model_path = \"iris_binary_classification\"\n",
    "    mlflow.spark.log_model(model, model_path)\n",
    "    \n",
    "    run_id = run.info.run_id  # Capture run ID\n",
    "    print(f\"Model logged under run ID: {run_id}\")\n",
    "\n",
    "# Load the logged model using run_id\n",
    "logged_model_uri = f\"runs:/{run_id}/iris_binary_classification\"\n",
    "loaded_model = mlflow.spark.load_model(logged_model_uri)\n",
    "\n",
    "# Predict on test data\n",
    "predictions = loaded_model.transform(test_data)\n",
    "predictions.select(\"features\", \"label\", \"prediction\").show()\n",
    "\n",
    "batch_data = spark.createDataFrame([\n",
    "    (6.1, 2.9, 4.7, 1.4),  # Example new data points\n",
    "    (5.4,3.4,1.5,0.4)\n",
    "], [\"sepal_length\", \"sepal_width\", \"petal_length\", \"petal_width\"])\n",
    "\n",
    "batch_data = feature_assembler.transform(batch_data).select(\"features\")\n",
    "batch_predictions = loaded_model.transform(batch_data)\n",
    "\n",
    "batch_predictions.select(\"features\", \"prediction\").show()\n",
    "\n",
    "def real_time_inference(sepal_length, sepal_width, petal_length, petal_width):\n",
    "    \"\"\"Simulates real-time inference on a single new data point.\"\"\"\n",
    "    from pyspark.sql import Row\n",
    "    \n",
    "    # Convert input data to Spark DataFrame\n",
    "    new_data = spark.createDataFrame([\n",
    "        Row(sepal_length=sepal_length, sepal_width=sepal_width, \n",
    "            petal_length=petal_length, petal_width=petal_width)\n",
    "    ])\n",
    "    \n",
    "    # Transform the data to match the model's expected format\n",
    "    new_data = feature_assembler.transform(new_data).select(\"features\")\n",
    "    \n",
    "    # Perform real-time prediction\n",
    "    prediction = loaded_model.transform(new_data)\n",
    "    \n",
    "    # Extract predicted class\n",
    "    predicted_label = prediction.select(\"prediction\").collect()[0][\"prediction\"]\n",
    "    \n",
    "    print(f\"Real-Time Prediction: {predicted_label}\")\n",
    "    return predicted_label\n",
    "\n",
    "# Example Real-time Inference Calls\n",
    "real_time_inference(5.1, 3.5, 1.4, 0.2)  # Expected: Iris-setosa\n",
    "real_time_inference(6.5, 3.0, 5.2, 2.0)  # Expected: Iris-virginica"
   ]
  },
  {
   "cell_type": "code",
   "execution_count": 0,
   "metadata": {
    "application/vnd.databricks.v1+cell": {
     "cellMetadata": {
      "byteLimit": 2048000,
      "rowLimit": 10000
     },
     "inputWidgets": {},
     "nuid": "5387d96d-f187-4c84-85c5-f2e4cf6b97bf",
     "showTitle": false,
     "tableResultSettingsMap": {},
     "title": ""
    }
   },
   "outputs": [
    {
     "output_type": "stream",
     "name": "stdout",
     "output_type": "stream",
     "text": [
      "runs:/ef99dca95a2c4731a6bfdb556e9b66a3/iris_binary_classification\n"
     ]
    }
   ],
   "source": [
    "print(f\"runs:/{run_id}/iris_binary_classification\")"
   ]
  },
  {
   "cell_type": "code",
   "execution_count": 0,
   "metadata": {
    "application/vnd.databricks.v1+cell": {
     "cellMetadata": {},
     "inputWidgets": {},
     "nuid": "2fe2d5cc-4937-44c5-b8f7-50c0f71bf403",
     "showTitle": false,
     "tableResultSettingsMap": {},
     "title": ""
    }
   },
   "outputs": [],
   "source": []
  }
 ],
 "metadata": {
  "application/vnd.databricks.v1+notebook": {
   "computePreferences": null,
   "dashboards": [],
   "environmentMetadata": {
    "base_environment": "",
    "environment_version": "1"
   },
   "inputWidgetPreferences": null,
   "language": "python",
   "notebookMetadata": {
    "pythonIndentUnit": 4
   },
   "notebookName": "MLops Task",
   "widgets": {}
  }
 },
 "nbformat": 4,
 "nbformat_minor": 0
}
